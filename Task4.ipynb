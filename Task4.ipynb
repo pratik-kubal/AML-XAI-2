{
 "cells": [
  {
   "cell_type": "code",
   "execution_count": 217,
   "metadata": {},
   "outputs": [],
   "source": [
    "import numpy as np\n",
    "import pandas as pd\n",
    "import cv2\n",
    "from matplotlib import pyplot as plt\n",
    "from keras.regularizers import l1_l2\n",
    "from keras.models import Model, clone_model\n",
    "from keras.layers import Input, Flatten, Dense, Dropout, Lambda, Conv2D, MaxPooling2D, Flatten, BatchNormalization, concatenate, Activation, Subtract, merge, Reshape, UpSampling2D\n",
    "from IPython.display import SVG\n",
    "from keras.utils.vis_utils import model_to_dot\n",
    "from keras.callbacks import ModelCheckpoint, TensorBoard, EarlyStopping\n",
    "from keras import backend as K\n",
    "from sklearn.metrics.pairwise import cosine_similarity\n",
    "from tqdm import tqdm_notebook\n",
    "%matplotlib inline"
   ]
  },
  {
   "cell_type": "code",
   "execution_count": 2,
   "metadata": {},
   "outputs": [],
   "source": [
    "from os import listdir\n",
    "from os.path import isfile, join\n",
    "stickyPath = \"../dataset/seen-dataset/TrainingSet/\"\n",
    "onlyfiles = [f for f in listdir(stickyPath) if isfile(join(stickyPath, f))]"
   ]
  },
  {
   "cell_type": "code",
   "execution_count": 3,
   "metadata": {},
   "outputs": [],
   "source": [
    "trainData = onlyfiles[0:int(len(onlyfiles)*0.9)]\n",
    "valData = onlyfiles[int(len(onlyfiles)*0.9):]"
   ]
  },
  {
   "cell_type": "code",
   "execution_count": 134,
   "metadata": {},
   "outputs": [],
   "source": [
    "def trainGen(batchSize,stickyPath,_data,vis=False):\n",
    "    idx = 0\n",
    "    hshift = (-64,64)\n",
    "    vshift = (-64,64)\n",
    "    while(True):\n",
    "        rows = np.random.randint(0,len(_data),batchSize)\n",
    "        data = []\n",
    "        for image in rows:\n",
    "            data.append(_data[image])\n",
    "        returnInput=[]\n",
    "        for image in data:\n",
    "            skeleton = []\n",
    "            left = cv2.imread(str(stickyPath+image),cv2.IMREAD_GRAYSCALE)\n",
    "            #right = data.iloc[row,1]\n",
    "            #right = cv2.imread(str(\"../dataset/seen-dataset/TrainingSet/\"+right),cv2.IMREAD_GRAYSCALE)\n",
    "\n",
    "            # Floating Point\n",
    "            leftImage = left.astype('float32')\n",
    "            leftImage /= 255\n",
    "            leftImage = 1 - leftImage\n",
    "            #rightImage = right.astype('float32')\n",
    "            #rightImage /= 255\n",
    "            \n",
    "            temp=[leftImage]\n",
    "            \n",
    "            skeleton.append(temp)\n",
    "            \n",
    "            # Shifting\n",
    "            randH = np.random.randint(hshift[0],hshift[1])\n",
    "            randV = np.random.randint(vshift[0],vshift[1])\n",
    "            \n",
    "            leftImageShiftedH=np.roll(axis=0,a=leftImage,shift=randH)\n",
    "            #rightImageShiftedH=np.roll(axis=0,a=rightImage,shift=randH)\n",
    "            \n",
    "            leftImageShiftedV=np.roll(axis=0,a=leftImage,shift=randV)\n",
    "            #rightImageShiftedV=np.roll(axis=0,a=rightImage,shift=randV)\n",
    "            \n",
    "            temp = [leftImageShiftedV]\n",
    "            skeleton.append(temp)\n",
    "            temp = [leftImageShiftedH]\n",
    "            skeleton.append(temp)\n",
    "            returnInput.append(skeleton)     \n",
    "        returnInput = np.array(returnInput)\n",
    "        returnInput = returnInput.reshape(batchSize*3,64,64)\n",
    "        \n",
    "        blank =[]\n",
    "        \n",
    "        blank.append(returnInput)\n",
    "        \n",
    "        returnInput = np.array(blank)\n",
    "        \n",
    "        returnInput = np.moveaxis(returnInput,0,3)\n",
    "        \n",
    "        if(vis):\n",
    "            print(returnInput)\n",
    "        \n",
    "        yield [returnInput,returnInput]\n",
    "        \n",
    "def valGen(stickyPath,_data,vis=False):\n",
    "    idx = 0\n",
    "    while(True):\n",
    "        rows = np.random.randint(0,len(_data),len(_data))\n",
    "        data = []\n",
    "        for image in rows:\n",
    "            data.append(_data[image])\n",
    "        returnInput=[]\n",
    "        for image in data:\n",
    "            skeleton = []\n",
    "            left = cv2.imread(str(stickyPath+image),cv2.IMREAD_GRAYSCALE)\n",
    "            #right = data.iloc[row,1]\n",
    "            #right = cv2.imread(str(\"../dataset/seen-dataset/TrainingSet/\"+right),cv2.IMREAD_GRAYSCALE)\n",
    "\n",
    "            # Floating Point\n",
    "            leftImage = left.astype('float32')\n",
    "            leftImage /= 255\n",
    "            leftImage = 1 - leftImage\n",
    "            #rightImage = right.astype('float32')\n",
    "            #rightImage /= 255\n",
    "            \n",
    "            temp=[leftImage]\n",
    "            \n",
    "            skeleton.append(temp)\n",
    "            \n",
    "            returnInput.append(skeleton)     \n",
    "        returnInput = np.array(returnInput)\n",
    "        returnInput = returnInput.reshape(len(_data),64,64)\n",
    "        \n",
    "        blank =[]\n",
    "        \n",
    "        blank.append(returnInput)\n",
    "        \n",
    "        returnInput = np.array(blank)\n",
    "        \n",
    "        returnInput = np.moveaxis(returnInput,0,3)\n",
    "        \n",
    "        if(vis):\n",
    "            print(returnInput)\n",
    "        \n",
    "        yield [returnInput,returnInput]\n"
   ]
  },
  {
   "cell_type": "code",
   "execution_count": 5,
   "metadata": {},
   "outputs": [],
   "source": [
    "def cosineDist(vects):\n",
    "    x, y = vects\n",
    "    x = K.l2_normalize(x, axis=-1)\n",
    "    y = K.l2_normalize(y, axis=-1)\n",
    "    return -K.mean(x * y, axis=-1, keepdims=True)\n",
    "\n",
    "def cosineDist_shape(shapes):\n",
    "    shape1, shape2 = shapes\n",
    "    return (shape1[0],1)"
   ]
  },
  {
   "cell_type": "code",
   "execution_count": 111,
   "metadata": {},
   "outputs": [],
   "source": [
    "input_img = Input(shape=(64, 64, 1))  # adapt this if using `channels_first` image data format\n",
    "x = Conv2D(16, (3, 3), activation='relu', padding='same')(input_img)\n",
    "x = MaxPooling2D((2, 2), padding='same')(x)\n",
    "x = Conv2D(8, (3, 3), activation='relu', padding='same')(x)\n",
    "x = MaxPooling2D((2, 2), padding='same')(x)\n",
    "x = Conv2D(8, (3, 3), activation='relu', padding='same')(x)\n",
    "encoded = MaxPooling2D((2, 2), padding='same')(x)\n",
    "encoded = Flatten()(x)\n",
    "encoded = Dense(8*8*8, activation='relu', name='latent')(encoded)\n",
    "# model = Model(input_img,encoded)\n",
    "# print(model.summary())\n",
    "# at this point the representation is (4, 4, 8) i.e. 128-dimensional\n",
    "r = Reshape(target_shape=(8,8,8))(encoded)\n",
    "x = Conv2D(8, (3, 3), activation='relu', padding='same')(r)\n",
    "x = UpSampling2D((2, 2))(x)\n",
    "x = Conv2D(8, (3, 3), activation='relu', padding='same')(x)\n",
    "x = UpSampling2D((2, 2))(x)\n",
    "x = Conv2D(16, (3, 3), activation='relu', padding='same')(x)\n",
    "x = UpSampling2D((2, 2))(x)\n",
    "#x = BatchNormalization()(x)\n",
    "decoded = Conv2D(1, (3, 3), activation='sigmoid', padding='same',name='output')(x)\n",
    "\n",
    "autoencoder = Model(input_img, decoded)\n",
    "autoencoder.compile(optimizer='RMSprop', loss='binary_crossentropy')\n",
    "\n",
    "#display(SVG(model_to_dot(autoencoder, show_layer_names=True, show_shapes=True, rankdir='TB').create(prog='dot', format='svg')))\n"
   ]
  },
  {
   "cell_type": "code",
   "execution_count": 8,
   "metadata": {},
   "outputs": [],
   "source": [
    "batchSize = 25"
   ]
  },
  {
   "cell_type": "code",
   "execution_count": 9,
   "metadata": {},
   "outputs": [],
   "source": [
    "trainGenObj = trainGen(batchSize,stickyPath,_data=trainData)"
   ]
  },
  {
   "cell_type": "code",
   "execution_count": 10,
   "metadata": {},
   "outputs": [],
   "source": [
    "valGenObj = valGen(stickyPath,_data=valData)"
   ]
  },
  {
   "cell_type": "code",
   "execution_count": 11,
   "metadata": {},
   "outputs": [],
   "source": [
    "LOG_DIR = './log/ae/seen'\n",
    "runIter = 0"
   ]
  },
  {
   "cell_type": "code",
   "execution_count": 12,
   "metadata": {},
   "outputs": [
    {
     "data": {
      "text/plain": [
       "\"\\nmc = ModelCheckpoint(filepath='weights/simple_ae_maxpool_Seen_weights_v1.h5', \\n                     monitor='val_loss',period=1,save_best_only=True,\\n                     save_weights_only=True,mode='auto',verbose=1)\\nes = EarlyStopping(patience=250, monitor='val_loss', min_delta=0.0005, mode='auto')\\ntbCallBack = TensorBoard(log_dir=str('./log/seen/ae/run'+str(runIter)), histogram_freq=0,\\n                         write_graph=True,\\n                         write_grads=True,\\n                         batch_size=batchSize,\\n                         write_images=True)\\nrunIter +=1\\nautoencoder.fit_generator(\\n    trainGenObj,\\n    epochs=500,\\n    verbose=1,\\n    validation_data=valGenObj,\\n    validation_steps=1,\\n    steps_per_epoch=((len(trainData)//batchSize)*3),\\n    callbacks=[mc,es,tbCallBack]\\n)\\n\""
      ]
     },
     "execution_count": 12,
     "metadata": {},
     "output_type": "execute_result"
    }
   ],
   "source": [
    "'''\n",
    "mc = ModelCheckpoint(filepath='weights/simple_ae_maxpool_Seen_weights_v1.h5', \n",
    "                     monitor='val_loss',period=1,save_best_only=True,\n",
    "                     save_weights_only=True,mode='auto',verbose=1)\n",
    "es = EarlyStopping(patience=250, monitor='val_loss', min_delta=0.0005, mode='auto')\n",
    "tbCallBack = TensorBoard(log_dir=str('./log/seen/ae/run'+str(runIter)), histogram_freq=0,\n",
    "                         write_graph=True,\n",
    "                         write_grads=True,\n",
    "                         batch_size=batchSize,\n",
    "                         write_images=True)\n",
    "runIter +=1\n",
    "autoencoder.fit_generator(\n",
    "    trainGenObj,\n",
    "    epochs=500,\n",
    "    verbose=1,\n",
    "    validation_data=valGenObj,\n",
    "    validation_steps=1,\n",
    "    steps_per_epoch=((len(trainData)//batchSize)*3),\n",
    "    callbacks=[mc,es,tbCallBack]\n",
    ")\n",
    "'''"
   ]
  },
  {
   "cell_type": "code",
   "execution_count": 148,
   "metadata": {},
   "outputs": [],
   "source": [
    "autoencoder.load_weights(\"weights/simple_ae_maxpool_Seen_weights_v1.h5\")"
   ]
  },
  {
   "cell_type": "code",
   "execution_count": 154,
   "metadata": {},
   "outputs": [
    {
     "data": {
      "image/png": "[encoded data removed]",
      "text/plain": [
       "<Figure size 360x2160 with 20 Axes>"
      ]
     },
     "metadata": {
      "needs_background": "light"
     },
     "output_type": "display_data"
    }
   ],
   "source": [
    "stickyPath = \"../dataset/seen-dataset/ValidationSet/\"\n",
    "testImages = [f for f in listdir(stickyPath) if isfile(join(stickyPath, f))]\n",
    "\n",
    "testGenObj = valGen(stickyPath,testImages)\n",
    "\n",
    "image1,_ = next(testGenObj)\n",
    "\n",
    "py = autoencoder.predict(image1[:10])\n",
    "f,ax = plt.subplots(len(image1[:10]),2)\n",
    "f.subplots_adjust(hspace = .00, wspace=.05)\n",
    "f.set_size_inches(5,len(image1[:10])*3)\n",
    "ax[0,0].set_title('TRUE')\n",
    "ax[0,1].set_title('PRED')\n",
    "for i in range(len(image1[:10])):\n",
    "#     print(vy[0][i], vy[1][i])\n",
    "    ax[i,0].imshow(image1[i].reshape((64,64)))\n",
    "    ax[i,0].axis('off')\n",
    "    \n",
    "    ax[i,1].imshow(py[i].reshape((64,64)))\n",
    "    ax[i,1].axis('off')"
   ]
  },
  {
   "cell_type": "code",
   "execution_count": 155,
   "metadata": {},
   "outputs": [
    {
     "data": {
      "text/plain": [
       "0.06477808207273483"
      ]
     },
     "execution_count": 155,
     "metadata": {},
     "output_type": "execute_result"
    }
   ],
   "source": [
    "autoencoder.evaluate_generator(testGenObj,\n",
    "                              steps=1)"
   ]
  },
  {
   "cell_type": "code",
   "execution_count": 115,
   "metadata": {},
   "outputs": [],
   "source": [
    "autoencoderLeft = clone_model(autoencoder)\n",
    "autoencoderRight = clone_model(autoencoder)\n",
    "\n",
    "for layer in autoencoderRight.layers:\n",
    "    layer.name = layer.name + str(\"r_r\")\n",
    "\n",
    "cosDist = Lambda(cosineDist,\n",
    "                  output_shape=cosineDist_shape,name=\"cosDist\")([autoencoderLeft.output, autoencoderRight.output])\n",
    "\n",
    "encoderVerification = Model([autoencoderLeft.input,autoencoderRight.input], cosDist)\n",
    "\n",
    "display(SVG(model_to_dot(encoderVerification, show_layer_names=True, show_shapes=True, rankdir='TB').create(prog='dot', format='svg')))"
   ]
  },
  {
   "cell_type": "markdown",
   "metadata": {},
   "source": [
    "## Using Just the Encoder"
   ]
  },
  {
   "cell_type": "code",
   "execution_count": 156,
   "metadata": {},
   "outputs": [],
   "source": [
    "encoder = Model(inputs=autoencoder.inputs,outputs=autoencoder.get_layer('latent').output)"
   ]
  },
  {
   "cell_type": "code",
   "execution_count": 184,
   "metadata": {},
   "outputs": [],
   "source": [
    "def buildLatentMatrix(stickyPath,_data,encoder):\n",
    "    returnInput=[]\n",
    "    for image in _data:\n",
    "        skeleton = []\n",
    "        left = cv2.imread(str(stickyPath+image),cv2.IMREAD_GRAYSCALE)\n",
    "        #right = data.iloc[row,1]\n",
    "        #right = cv2.imread(str(\"../dataset/seen-dataset/TrainingSet/\"+right),cv2.IMREAD_GRAYSCALE)\n",
    "\n",
    "        # Floating Point\n",
    "        leftImage = left.astype('float32')\n",
    "        leftImage /= 255\n",
    "        leftImage = 1 - leftImage\n",
    "        #rightImage = right.astype('float32')\n",
    "        #rightImage /= 255\n",
    "\n",
    "        temp=[leftImage]\n",
    "\n",
    "        skeleton.append(temp)\n",
    "\n",
    "        returnInput.append(skeleton)     \n",
    "    returnInput = np.array(returnInput)\n",
    "    returnInput = returnInput.reshape(len(_data),64,64)\n",
    "\n",
    "    blank =[]\n",
    "\n",
    "    blank.append(returnInput)\n",
    "\n",
    "    returnInput = np.array(blank)\n",
    "\n",
    "    returnInput = np.moveaxis(returnInput,0,3)\n",
    "    \n",
    "    latentFeatures = encoder.predict(returnInput)\n",
    "    \n",
    "    return latentFeatures"
   ]
  },
  {
   "cell_type": "code",
   "execution_count": 187,
   "metadata": {},
   "outputs": [],
   "source": [
    "latentFeatures = buildLatentMatrix(stickyPath,testImages,encoder)"
   ]
  },
  {
   "cell_type": "code",
   "execution_count": 233,
   "metadata": {},
   "outputs": [],
   "source": [
    "skeleton = []\n",
    "for idx in range(len(testImages)):\n",
    "    skeleton.append([testImages[idx],latentFeatures[idx]])"
   ]
  },
  {
   "cell_type": "code",
   "execution_count": 234,
   "metadata": {},
   "outputs": [],
   "source": [
    "thresData = pd.DataFrame(data=skeleton,columns=[\"images\",\"lf\"])"
   ]
  },
  {
   "cell_type": "code",
   "execution_count": 235,
   "metadata": {},
   "outputs": [],
   "source": [
    "thresData[\"writers\"] = thresData[\"images\"].str.split(\"[a-z]\",1,expand=True).iloc[:,0]"
   ]
  },
  {
   "cell_type": "code",
   "execution_count": 236,
   "metadata": {},
   "outputs": [],
   "source": [
    "thresData = thresData.sort_values(by=\"writers\").reset_index(drop=True)"
   ]
  },
  {
   "cell_type": "code",
   "execution_count": 239,
   "metadata": {},
   "outputs": [
    {
     "data": {
      "text/html": [
       "<div>\n",
       "<style scoped>\n",
       "    .dataframe tbody tr th:only-of-type {\n",
       "        vertical-align: middle;\n",
       "    }\n",
       "\n",
       "    .dataframe tbody tr th {\n",
       "        vertical-align: top;\n",
       "    }\n",
       "\n",
       "    .dataframe thead th {\n",
       "        text-align: right;\n",
       "    }\n",
       "</style>\n",
       "<table border=\"1\" class=\"dataframe\">\n",
       "  <thead>\n",
       "    <tr style=\"text-align: right;\">\n",
       "      <th></th>\n",
       "      <th>images</th>\n",
       "      <th>lf</th>\n",
       "      <th>writers</th>\n",
       "    </tr>\n",
       "  </thead>\n",
       "  <tbody>\n",
       "    <tr>\n",
       "      <th>0</th>\n",
       "      <td>0001a_num1.png</td>\n",
       "      <td>[4.6058044, 6.8408933, 6.269366, 0.0, 1.516252...</td>\n",
       "      <td>0001</td>\n",
       "    </tr>\n",
       "    <tr>\n",
       "      <th>1</th>\n",
       "      <td>0001a_num2.png</td>\n",
       "      <td>[4.358611, 8.999981, 6.400446, 0.0, 1.634129, ...</td>\n",
       "      <td>0001</td>\n",
       "    </tr>\n",
       "    <tr>\n",
       "      <th>2</th>\n",
       "      <td>0002a_num2.png</td>\n",
       "      <td>[5.8485713, 8.79967, 5.3124266, 0.0, 2.1347008...</td>\n",
       "      <td>0002</td>\n",
       "    </tr>\n",
       "    <tr>\n",
       "      <th>3</th>\n",
       "      <td>0002a_num1.png</td>\n",
       "      <td>[4.849835, 4.837293, 6.2588925, 0.0, 1.8023525...</td>\n",
       "      <td>0002</td>\n",
       "    </tr>\n",
       "    <tr>\n",
       "      <th>4</th>\n",
       "      <td>0004aa_num1.png</td>\n",
       "      <td>[5.550663, 2.2775593, 4.93661, 0.0, 2.4916053,...</td>\n",
       "      <td>0004</td>\n",
       "    </tr>\n",
       "  </tbody>\n",
       "</table>\n",
       "</div>"
      ],
      "text/plain": [
       "            images                                                 lf writers\n",
       "0   0001a_num1.png  [4.6058044, 6.8408933, 6.269366, 0.0, 1.516252...    0001\n",
       "1   0001a_num2.png  [4.358611, 8.999981, 6.400446, 0.0, 1.634129, ...    0001\n",
       "2   0002a_num2.png  [5.8485713, 8.79967, 5.3124266, 0.0, 2.1347008...    0002\n",
       "3   0002a_num1.png  [4.849835, 4.837293, 6.2588925, 0.0, 1.8023525...    0002\n",
       "4  0004aa_num1.png  [5.550663, 2.2775593, 4.93661, 0.0, 2.4916053,...    0004"
      ]
     },
     "execution_count": 239,
     "metadata": {},
     "output_type": "execute_result"
    }
   ],
   "source": [
    "thresData.head()"
   ]
  },
  {
   "cell_type": "code",
   "execution_count": 333,
   "metadata": {},
   "outputs": [
    {
     "data": {
      "text/plain": [
       "0.9071266651153564"
      ]
     },
     "execution_count": 333,
     "metadata": {},
     "output_type": "execute_result"
    }
   ],
   "source": [
    "np.max(cosine_similarity(list(thresData['lf'].values))) - (np.max(cosine_similarity(list(thresData['lf'].values))) - np.min(cosine_similarity(list(thresData['lf'].values))))/2"
   ]
  },
  {
   "cell_type": "code",
   "execution_count": 363,
   "metadata": {},
   "outputs": [
    {
     "data": {
      "application/vnd.jupyter.widget-view+json": {
       "model_id": "4f77ebd431ba4128b8f599ef82b9d6f3",
       "version_major": 2,
       "version_minor": 0
      },
      "text/plain": [
       "HBox(children=(IntProgress(value=0, max=952), HTML(value='')))"
      ]
     },
     "metadata": {},
     "output_type": "display_data"
    }
   ],
   "source": [
    "thres = 0.96\n",
    "tp,tn,fp,fn = 0,0,0,0\n",
    "testLimiter = 0\n",
    "for row_idx in tqdm_notebook(range(len(thresData) - testLimiter)):\n",
    "    idx = 0\n",
    "    while(idx < len(thresData) - testLimiter):\n",
    "        cosSim = float(cosine_similarity([thresData.lf[row_idx]],[thresData.lf[idx]]))\n",
    "        if int(thresData.writers[row_idx]) == int(thresData.writers[idx]) and cosSim > thres:\n",
    "            tp +=1\n",
    "        if thresData.writers[row_idx] == thresData.writers[idx] and cosSim < thres:\n",
    "            fn +=1\n",
    "        if thresData.writers[row_idx] != thresData.writers[idx] and cosSim < thres:\n",
    "            tn +=1\n",
    "        if thresData.writers[row_idx] != thresData.writers[idx] and cosSim > thres:\n",
    "            fp +=1\n",
    "        idx +=1"
   ]
  },
  {
   "cell_type": "code",
   "execution_count": 364,
   "metadata": {},
   "outputs": [],
   "source": [
    "precision = tp/(fp+tp)\n",
    "recall = tp/(tp+fn)\n",
    "f1 = 2*(precision*recall)/(precision+recall)\n",
    "total = np.sum((tp,tn,fp,fn))\n",
    "accuracy = (tp+tn)/total"
   ]
  },
  {
   "cell_type": "code",
   "execution_count": 365,
   "metadata": {},
   "outputs": [
    {
     "data": {
      "text/plain": [
       "0.7276641550053822"
      ]
     },
     "execution_count": 365,
     "metadata": {},
     "output_type": "execute_result"
    }
   ],
   "source": [
    "recall"
   ]
  },
  {
   "cell_type": "code",
   "execution_count": 366,
   "metadata": {},
   "outputs": [
    {
     "data": {
      "text/plain": [
       "0.05224111282843895"
      ]
     },
     "execution_count": 366,
     "metadata": {},
     "output_type": "execute_result"
    }
   ],
   "source": [
    "precision"
   ]
  },
  {
   "cell_type": "code",
   "execution_count": 344,
   "metadata": {},
   "outputs": [],
   "source": [
    "cosMat = cosine_similarity(list(thresData['lf'].values))"
   ]
  },
  {
   "cell_type": "code",
   "execution_count": 353,
   "metadata": {},
   "outputs": [
    {
     "data": {
      "text/plain": [
       "array([1.0000002 , 0.9562408 , 0.94532025, ..., 0.911006  , 0.96928644,\n",
       "       1.        ], dtype=float32)"
      ]
     },
     "execution_count": 353,
     "metadata": {},
     "output_type": "execute_result"
    }
   ],
   "source": []
  },
  {
   "cell_type": "code",
   "execution_count": 346,
   "metadata": {},
   "outputs": [],
   "source": [
    "bins, data = np.histogram(cosMat)"
   ]
  },
  {
   "cell_type": "code",
   "execution_count": 355,
   "metadata": {},
   "outputs": [
    {
     "data": {
      "image/png": "[encoded data removed]",
      "text/plain": [
       "<Figure size 432x288 with 1 Axes>"
      ]
     },
     "metadata": {
      "needs_background": "light"
     },
     "output_type": "display_data"
    }
   ],
   "source": [
    "n, bins, patches = plt.hist(cosMat.flatten(), 100, facecolor='blue', alpha=0.5)\n",
    "plt.show()"
   ]
  },
  {
   "cell_type": "code",
   "execution_count": null,
   "metadata": {},
   "outputs": [],
   "source": []
  }
 ],
 "metadata": {
  "kernelspec": {
   "display_name": "Python 3",
   "language": "python",
   "name": "python3"
  },
  "language_info": {
   "codemirror_mode": {
    "name": "ipython",
    "version": 3
   },
   "file_extension": ".py",
   "mimetype": "text/x-python",
   "name": "python",
   "nbconvert_exporter": "python",
   "pygments_lexer": "ipython3",
   "version": "3.7.3"
  }
 },
 "nbformat": 4,
 "nbformat_minor": 2
}
