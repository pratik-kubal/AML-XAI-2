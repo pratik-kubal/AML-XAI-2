{
  "nbformat": 4,
  "nbformat_minor": 0,
  "metadata": {
    "colab": {
      "name": "Copy of siameseKerasNW.ipynb",
      "version": "0.3.2",
      "provenance": [],
      "collapsed_sections": [
        "uH5kjC-P0P3O"
      ],
      "toc_visible": true
    },
    "kernelspec": {
      "name": "python3",
      "display_name": "Python 3"
    },
    "accelerator": "GPU"
  },
  "cells": [
    {
      "metadata": {
        "id": "JXdjaFZN0P19",
        "colab_type": "code",
        "outputId": "82f17257-61d4-41e7-8a52-a0dc092d8b63",
        "colab": {
          "base_uri": "https://localhost:8080/",
          "height": 34
        }
      },
      "cell_type": "code",
      "source": [
        "import pandas as pd\n",
        "import numpy as np\n",
        "import cv2\n",
        "from keras.utils import Sequence\n",
        "from keras.models import Model\n",
        "from keras.layers import Input, Flatten, Dense, Dropout, Lambda, Conv2D, MaxPooling2D, Flatten, BatchNormalization, concatenate, Activation, Subtract\n",
        "from keras.optimizers import RMSprop, Adam\n",
        "from keras.losses import binary_crossentropy\n",
        "from keras.metrics import binary_accuracy, mae\n",
        "from keras import backend as K\n",
        "from keras import Sequential\n",
        "from keras.regularizers import l1_l2\n",
        "from keras.callbacks import ModelCheckpoint\n",
        "from IPython.display import SVG\n",
        "from keras.utils.vis_utils import model_to_dot\n",
        "from keras.layers import concatenate\n",
        "import random\n",
        "from keras.callbacks import TensorBoard"
      ],
      "execution_count": 1,
      "outputs": [
        {
          "output_type": "stream",
          "text": [
            "Using TensorFlow backend.\n"
          ],
          "name": "stderr"
        }
      ]
    },
    {
      "metadata": {
        "id": "aI5AHvgd1Gee",
        "colab_type": "code",
        "outputId": "e2a88e36-26de-4443-adfa-6bf8b745f5cd",
        "colab": {
          "base_uri": "https://localhost:8080/",
          "height": 34
        }
      },
      "cell_type": "code",
      "source": [
        "import tensorflow as tf\n",
        "device_name = tf.test.gpu_device_name()\n",
        "if device_name != '/device:GPU:0':\n",
        "  raise SystemError('GPU device not found')\n",
        "print('Found GPU at: {}'.format(device_name))"
      ],
      "execution_count": 2,
      "outputs": [
        {
          "output_type": "stream",
          "text": [
            "Found GPU at: /device:GPU:0\n"
          ],
          "name": "stdout"
        }
      ]
    },
    {
      "metadata": {
        "id": "QWvFbfOa1n-8",
        "colab_type": "code",
        "colab": {}
      },
      "cell_type": "code",
      "source": [
        "!mkdir dataset\n",
        "!mv seen-dataset.zip dataset\n",
        "!unzip dataset/seen-dataset.zip -d dataset\n",
        "!wget https://bin.equinox.io/c/4VmDzA7iaHb/ngrok-stable-linux-amd64.zip\n",
        "!unzip ngrok-stable-linux-amd64.zip"
      ],
      "execution_count": 0,
      "outputs": []
    },
    {
      "metadata": {
        "id": "QYn8KZZEr0uK",
        "colab_type": "code",
        "colab": {}
      },
      "cell_type": "code",
      "source": [
        "!mv shuffled-dataset.zip dataset/\n",
        "!unzip dataset/shuffled-dataset.zip -d dataset"
      ],
      "execution_count": 0,
      "outputs": []
    },
    {
      "metadata": {
        "id": "3lOcbBsPQQwP",
        "colab_type": "code",
        "colab": {}
      },
      "cell_type": "code",
      "source": [
        "!mv unseen-dataset.zip dataset/\n",
        "!unzip dataset/unseen-dataset.zip -d dataset"
      ],
      "execution_count": 0,
      "outputs": []
    },
    {
      "metadata": {
        "id": "vFy34Bo70P2M",
        "colab_type": "text"
      },
      "cell_type": "markdown",
      "source": [
        "# Main"
      ]
    },
    {
      "metadata": {
        "id": "vlf5-FMx0P2P",
        "colab_type": "code",
        "colab": {}
      },
      "cell_type": "code",
      "source": [
        "# ENV VARS\n",
        "#stickyPath = \"../../dataset/seen-dataset/TrainingSet/\"\n",
        "# For Collab\n",
        "stickyPath = \"./\""
      ],
      "execution_count": 0,
      "outputs": []
    },
    {
      "metadata": {
        "id": "vdyTY5420P2V",
        "colab_type": "code",
        "colab": {}
      },
      "cell_type": "code",
      "source": [
        "lookupSeenTrain = pd.read_csv(str(stickyPath+\"dataset/seen-dataset/dataset_seen_training_siamese.csv\"))\n",
        "lookupSeenTrain = lookupSeenTrain.sample(frac=1).reset_index(drop=True)\n",
        "lookupSeenValidate = pd.read_csv(str(stickyPath+\"dataset/seen-dataset/dataset_seen_validation_siamese.csv\"))\n",
        "lookupSeenValidate = lookupSeenValidate.sample(frac=1).reset_index(drop=True)\n",
        "inputShape = np.shape(cv2.imread(str(stickyPath+\"dataset/seen-dataset/TrainingSet/0001a_num4.png\"),cv2.IMREAD_GRAYSCALE))"
      ],
      "execution_count": 0,
      "outputs": []
    },
    {
      "metadata": {
        "id": "VCXyECRwQAfk",
        "colab_type": "code",
        "colab": {}
      },
      "cell_type": "code",
      "source": [
        "lookupUnseenTrain = pd.read_csv(str(stickyPath+\"dataset/unseen-dataset/dataset_seen_training_siamese.csv\"))\n",
        "lookupUnseenTrain = lookupUnseenTrain.sample(frac=1).reset_index(drop=True)\n",
        "lookupUnseenTrain = lookupUnseenTrain.iloc[:,1:]\n",
        "lookupUnseenValidate = pd.read_csv(str(stickyPath+\"dataset/unseen-dataset/dataset_seen_validation_siamese.csv\"))\n",
        "lookupUnseenValidate = lookupUnseenValidate.sample(frac=1).reset_index(drop=True)\n",
        "lookupUnseenValidate = lookupUnseenValidate.iloc[:,1:]"
      ],
      "execution_count": 0,
      "outputs": []
    },
    {
      "metadata": {
        "id": "x5U5ZtyWRUXJ",
        "colab_type": "code",
        "colab": {}
      },
      "cell_type": "code",
      "source": [
        "lookupShuffledTrain = pd.read_csv(str(stickyPath+\"dataset/shuffled-dataset/dataset_seen_training_siamese.csv\"))\n",
        "lookupShuffledTrain.sample(frac=1).reset_index(drop=True)\n",
        "lookupShuffledTrain = lookupShuffledTrain.iloc[:,1:]\n",
        "lookupShuffledValidate = pd.read_csv(str(stickyPath+\"dataset/shuffled-dataset/dataset_seen_validation_siamese.csv\"))\n",
        "lookupShuffledValidate = lookupShuffledValidate.sample(frac=1).reset_index(drop=True)\n",
        "lookupShuffledValidate = lookupShuffledValidate.iloc[:,1:]\n"
      ],
      "execution_count": 0,
      "outputs": []
    },
    {
      "metadata": {
        "id": "LuBSKL000P3D",
        "colab_type": "code",
        "colab": {}
      },
      "cell_type": "code",
      "source": [
        "class genDataSeen(Sequence):\n",
        "    def __init__(self,lookupSeenTrain,batchSize,action,flag):\n",
        "        self.lookupSeenTrain, self.batchSize = lookupSeenTrain,batchSize\n",
        "        self.action = action\n",
        "        self.hshift = (-64,64)\n",
        "        self.vshift = (-64,64)\n",
        "        self.flag = flag\n",
        "        if(action=='train'):\n",
        "            self.stickyPath = \"./dataset/seen-dataset/TrainingSet/\"\n",
        "        if(action=='validate'):\n",
        "            self.stickyPath = \"./dataset/seen-dataset/ValidationSet/\"\n",
        "    \n",
        "    def __len__(self):\n",
        "        return (int(np.floor(len(self.lookupSeenTrain) / float(self.batchSize))))\n",
        "    \n",
        "    def on_epoch_end(self):\n",
        "        'Updates indexes after each epoch'\n",
        "        self.indexes = lookupSeenTrain.sample(frac=1).reset_index(drop=True)\n",
        "    \n",
        "    def __getitem__(self,idx):\n",
        "        leftImages = list(self.lookupSeenTrain.left[idx*self.batchSize:(idx+1)*self.batchSize])\n",
        "        rightImages = list(self.lookupSeenTrain.right[idx*self.batchSize:(idx+1)*self.batchSize])\n",
        "        labels = list(self.lookupSeenTrain.label[idx*self.batchSize:(idx+1)*self.batchSize])\n",
        "        \n",
        "        skeleton = []\n",
        "        for image in range(self.batchSize):\n",
        "            leftImage = cv2.imread(str(self.stickyPath+\n",
        "                                       leftImages[image]),\n",
        "                                   cv2.IMREAD_GRAYSCALE)\n",
        "            rightImage = cv2.imread(str(self.stickyPath+\n",
        "                                       rightImages[image]),\n",
        "                                   cv2.IMREAD_GRAYSCALE)\n",
        "            # Floating Point\n",
        "            leftImage = leftImage.astype('float32')\n",
        "            leftImage /= 255\n",
        "            rightImage = rightImage.astype('float32')\n",
        "            rightImage /= 255\n",
        "            \n",
        "            # Shifting\n",
        "            randH = np.random.randint(self.hshift[0],self.hshift[1])\n",
        "            randV = np.random.randint(self.vshift[0],self.vshift[1])\n",
        "            \n",
        "            leftImageShiftedH=np.roll(axis=0,a=leftImage,shift=randH)\n",
        "            rightImageShiftedH=np.roll(axis=0,a=rightImage,shift=randH)\n",
        "            \n",
        "            leftImageShiftedV=np.roll(axis=0,a=leftImage,shift=randV)\n",
        "            rightImageShiftedV=np.roll(axis=0,a=rightImage,shift=randV)\n",
        "\n",
        "            # Random Swap\n",
        "            if(int(np.random.binomial(1, 0.5, 1)) == 1):\n",
        "                temp = [rightImageShiftedV,leftImageShiftedH]\n",
        "            else:\n",
        "                temp = [leftImageShiftedH,rightImageShiftedV]\n",
        "            skeleton.append(temp)\n",
        "\n",
        "        skeleton = np.array(skeleton)\n",
        "        left = []\n",
        "        left.append(skeleton[:,0,:,:])\n",
        "        left = np.array(left)\n",
        "        right = []\n",
        "        right.append(skeleton[:,1,:,:])\n",
        "        right = np.array(right)\n",
        "        if(self.flag=='cnn'):\n",
        "            left = left.reshape((batchSize,64,64,1))\n",
        "            right = right.reshape((batchSize,64,64,1))\n",
        "            return ([left,right],np.array(labels))\n",
        "        else:\n",
        "            return ([skeleton[:,0,:,:],skeleton[:,1,:,:]],np.array(labels))\n",
        "\n",
        "class genDataUnseen(Sequence):\n",
        "    def __init__(self,lookupSeenTrain,batchSize,action,flag):\n",
        "        self.lookupSeenTrain, self.batchSize = lookupSeenTrain,batchSize\n",
        "        self.action = action\n",
        "        self.hshift = (-64,64)\n",
        "        self.vshift = (-64,64)\n",
        "        self.flag = flag\n",
        "        if(action=='train'):\n",
        "            self.stickyPath = \"./dataset/unseen-dataset/TrainingSet/\"\n",
        "        if(action=='validate'):\n",
        "            self.stickyPath = \"./dataset/unseen-dataset/ValidationSet/\"\n",
        "    \n",
        "    def __len__(self):\n",
        "        return (int(np.floor(len(self.lookupSeenTrain) / float(self.batchSize))))\n",
        "    \n",
        "    def on_epoch_end(self):\n",
        "        'Updates indexes after each epoch'\n",
        "        self.indexes = lookupSeenTrain.sample(frac=1).reset_index(drop=True)\n",
        "    \n",
        "    def __getitem__(self,idx):\n",
        "        leftImages = list(self.lookupSeenTrain.left[idx*self.batchSize:(idx+1)*self.batchSize])\n",
        "        rightImages = list(self.lookupSeenTrain.right[idx*self.batchSize:(idx+1)*self.batchSize])\n",
        "        labels = list(self.lookupSeenTrain.label[idx*self.batchSize:(idx+1)*self.batchSize])\n",
        "        \n",
        "        skeleton = []\n",
        "        for image in range(self.batchSize):\n",
        "            leftImage = cv2.imread(str(self.stickyPath+\n",
        "                                       leftImages[image]),\n",
        "                                   cv2.IMREAD_GRAYSCALE)\n",
        "            rightImage = cv2.imread(str(self.stickyPath+\n",
        "                                       rightImages[image]),\n",
        "                                   cv2.IMREAD_GRAYSCALE)\n",
        "            # Floating Point\n",
        "            leftImage = leftImage.astype('float32')\n",
        "            leftImage /= 255\n",
        "            rightImage = rightImage.astype('float32')\n",
        "            rightImage /= 255\n",
        "            \n",
        "            # Shifting\n",
        "            randH = np.random.randint(self.hshift[0],self.hshift[1])\n",
        "            randV = np.random.randint(self.vshift[0],self.vshift[1])\n",
        "            \n",
        "            leftImageShiftedH=np.roll(axis=0,a=leftImage,shift=randH)\n",
        "            rightImageShiftedH=np.roll(axis=0,a=rightImage,shift=randH)\n",
        "            \n",
        "            leftImageShiftedV=np.roll(axis=0,a=leftImage,shift=randV)\n",
        "            rightImageShiftedV=np.roll(axis=0,a=rightImage,shift=randV)\n",
        "\n",
        "            # Random Swap\n",
        "            if(int(np.random.binomial(1, 0.5, 1)) == 1):\n",
        "                temp = [rightImageShiftedV,leftImageShiftedH]\n",
        "            else:\n",
        "                temp = [leftImageShiftedH,rightImageShiftedV]\n",
        "            skeleton.append(temp)\n",
        "\n",
        "        skeleton = np.array(skeleton)\n",
        "        left = []\n",
        "        left.append(skeleton[:,0,:,:])\n",
        "        left = np.array(left)\n",
        "        right = []\n",
        "        right.append(skeleton[:,1,:,:])\n",
        "        right = np.array(right)\n",
        "        if(self.flag=='cnn'):\n",
        "            left = left.reshape((batchSize,64,64,1))\n",
        "            right = right.reshape((batchSize,64,64,1))\n",
        "            return ([left,right],np.array(labels))\n",
        "        else:\n",
        "            return ([skeleton[:,0,:,:],skeleton[:,1,:,:]],np.array(labels))\n",
        "          \n",
        "\n",
        "class genDataShuffled(Sequence):\n",
        "    def __init__(self,lookupSeenTrain,batchSize,action,flag):\n",
        "        self.lookupSeenTrain, self.batchSize = lookupSeenTrain,batchSize\n",
        "        self.action = action\n",
        "        self.hshift = (-64,64)\n",
        "        self.vshift = (-64,64)\n",
        "        self.flag = flag\n",
        "        if(action=='train'):\n",
        "            self.stickyPath = \"./dataset/shuffled-dataset/TrainingSet/\"\n",
        "        if(action=='validate'):\n",
        "            self.stickyPath = \"./dataset/shuffled-dataset/ValidationSet/\"\n",
        "    \n",
        "    def __len__(self):\n",
        "        return (int(np.floor(len(self.lookupSeenTrain) / float(self.batchSize))))\n",
        "    \n",
        "    def on_epoch_end(self):\n",
        "        'Updates indexes after each epoch'\n",
        "        self.indexes = lookupSeenTrain.sample(frac=1).reset_index(drop=True)\n",
        "    \n",
        "    def __getitem__(self,idx):\n",
        "        leftImages = list(self.lookupSeenTrain.left[idx*self.batchSize:(idx+1)*self.batchSize])\n",
        "        rightImages = list(self.lookupSeenTrain.right[idx*self.batchSize:(idx+1)*self.batchSize])\n",
        "        labels = list(self.lookupSeenTrain.label[idx*self.batchSize:(idx+1)*self.batchSize])\n",
        "        \n",
        "        skeleton = []\n",
        "        for image in range(self.batchSize):\n",
        "            leftImage = cv2.imread(str(self.stickyPath+\n",
        "                                       leftImages[image]),\n",
        "                                   cv2.IMREAD_GRAYSCALE)\n",
        "            rightImage = cv2.imread(str(self.stickyPath+\n",
        "                                       rightImages[image]),\n",
        "                                   cv2.IMREAD_GRAYSCALE)\n",
        "            # Floating Point\n",
        "            leftImage = leftImage.astype('float32')\n",
        "            leftImage /= 255\n",
        "            rightImage = rightImage.astype('float32')\n",
        "            rightImage /= 255\n",
        "            \n",
        "            # Shifting\n",
        "            randH = np.random.randint(self.hshift[0],self.hshift[1])\n",
        "            randV = np.random.randint(self.vshift[0],self.vshift[1])\n",
        "            \n",
        "            leftImageShiftedH=np.roll(axis=0,a=leftImage,shift=randH)\n",
        "            rightImageShiftedH=np.roll(axis=0,a=rightImage,shift=randH)\n",
        "            \n",
        "            leftImageShiftedV=np.roll(axis=0,a=leftImage,shift=randV)\n",
        "            rightImageShiftedV=np.roll(axis=0,a=rightImage,shift=randV)\n",
        "\n",
        "            # Random Swap\n",
        "            if(int(np.random.binomial(1, 0.5, 1)) == 1):\n",
        "                temp = [rightImageShiftedV,leftImageShiftedH]\n",
        "            else:\n",
        "                temp = [leftImageShiftedH,rightImageShiftedV]\n",
        "            skeleton.append(temp)\n",
        "\n",
        "        skeleton = np.array(skeleton)\n",
        "        left = []\n",
        "        left.append(skeleton[:,0,:,:])\n",
        "        left = np.array(left)\n",
        "        right = []\n",
        "        right.append(skeleton[:,1,:,:])\n",
        "        right = np.array(right)\n",
        "        if(self.flag=='cnn'):\n",
        "            left = left.reshape((batchSize,64,64,1))\n",
        "            right = right.reshape((batchSize,64,64,1))\n",
        "            return ([left,right],np.array(labels))\n",
        "        else:\n",
        "            return ([skeleton[:,0,:,:],skeleton[:,1,:,:]],np.array(labels))"
      ],
      "execution_count": 0,
      "outputs": []
    },
    {
      "metadata": {
        "id": "vnt0ydCJ0P3J",
        "colab_type": "code",
        "colab": {}
      },
      "cell_type": "code",
      "source": [
        "def euclidean_distance(vects):\n",
        "    x, y = vects\n",
        "    sum_square = K.sum(K.square(x - y), axis=1, keepdims=True)\n",
        "    return K.sqrt(K.maximum(sum_square, K.epsilon()))\n",
        "\n",
        "def eucl_dist_output_shape(shapes):\n",
        "    shape1, shape2 = shapes\n",
        "    return (shape1[0], 1)\n",
        "\n",
        "def contrastive_loss(y_true, y_pred):\n",
        "    '''Contrastive loss from Hadsell-et-al.'06\n",
        "    http://yann.lecun.com/exdb/publis/pdf/hadsell-chopra-lecun-06.pdf\n",
        "    '''\n",
        "    margin = 1\n",
        "    square_pred = K.square(y_pred)\n",
        "    margin_square = K.square(K.maximum(margin - y_pred, 0))\n",
        "    return K.mean(y_true * square_pred + (1 - y_true) * margin_square)\n",
        "\n",
        "def compute_accuracy(y_true, y_pred):\n",
        "    '''Compute classification accuracy with a fixed threshold on distances.\n",
        "    '''\n",
        "    pred = y_pred.ravel() < 0.5\n",
        "    return np.mean(pred == y_true)\n",
        "\n",
        "\n",
        "def accuracy(y_true, y_pred):\n",
        "    '''Compute classification accuracy with a fixed threshold on distances.\n",
        "    '''\n",
        "    return K.mean(K.equal(y_true, K.cast(y_pred < 0.5, y_true.dtype)))"
      ],
      "execution_count": 0,
      "outputs": []
    },
    {
      "metadata": {
        "id": "CYt77yRg5DNM",
        "colab_type": "code",
        "outputId": "18c90011-63e9-465e-aad7-3743df3f53f0",
        "colab": {
          "base_uri": "https://localhost:8080/",
          "height": 34
        }
      },
      "cell_type": "code",
      "source": [
        "LOG_DIR = './log/keras/'\n",
        "\n",
        "get_ipython().system_raw(\n",
        "    'tensorboard --logdir {} --host 0.0.0.0 --port 6006 &'\n",
        "    .format(LOG_DIR)\n",
        ")\n",
        "get_ipython().system_raw('./ngrok http 6006 &')\n",
        "! curl -s http://localhost:4040/api/tunnels | python3 -c \\\n",
        "    \"import sys, json; print(json.load(sys.stdin)['tunnels'][0]['public_url'])\""
      ],
      "execution_count": 9,
      "outputs": [
        {
          "output_type": "stream",
          "text": [
            "https://62ee1b31.ngrok.io\n"
          ],
          "name": "stdout"
        }
      ]
    },
    {
      "metadata": {
        "id": "uH5kjC-P0P3O",
        "colab_type": "text"
      },
      "cell_type": "markdown",
      "source": [
        "## Baseline Model\n",
        "From MNIST documentation\n",
        "Problem of the Model: Stagnant at 50percent accuracy. Maybe we need to decrease the dropout and change the\n",
        "optimizer"
      ]
    },
    {
      "metadata": {
        "id": "-YC7IKNW0P3P",
        "colab_type": "code",
        "outputId": "2950f028-be24-4b2a-fdcb-67c472ad9351",
        "colab": {
          "base_uri": "https://localhost:8080/",
          "height": 440
        }
      },
      "cell_type": "code",
      "source": [
        "inputShape = np.shape(cv2.imread(str(stickyPath+\"dataset/seen-dataset/TrainingSet/0001a_num4.png\"),cv2.IMREAD_GRAYSCALE))\n",
        "def create_base_network(input_shape):\n",
        "    '''\n",
        "    Base network to be shared (eq. to feature extraction).\n",
        "    Ref: Keras Documentation on MNNIST Siamese\n",
        "    '''\n",
        "    _input = Input(shape=input_shape)\n",
        "    x = Flatten()(_input)\n",
        "    x = Dense(128, activation='relu')(x)\n",
        "    x = Dropout(0.1)(x)\n",
        "    x = Dense(128, activation='relu')(x)\n",
        "    x = Dropout(0.1)(x)\n",
        "    x = Dense(128, activation='relu')(x)\n",
        "    return Model(_input, x)\n",
        "base_network = create_base_network(inputShape)\n",
        "inputLeft = Input(shape=inputShape)\n",
        "inputRight = Input(shape=inputShape)\n",
        "processed_left = base_network(inputLeft)\n",
        "processed_right = base_network(inputRight)\n",
        "distance = Lambda(euclidean_distance,\n",
        "                  output_shape=eucl_dist_output_shape,name=\"EuclDist\")([processed_left, processed_right])\n",
        "model = Model([inputLeft, inputRight], distance)\n",
        "rms = RMSprop(lr=0.01)\n",
        "model.compile(loss=contrastive_loss, optimizer=rms, metrics=[accuracy])\n",
        "batchSize = 125\n",
        "numEpochs = 50\n",
        "initialEpoch = 0\n",
        "trainingBatchGen = genDataSeen(lookupSeenTrain,batchSize,\"train\",\"nn\")\n",
        "validateBatchGen = genDataSeen(lookupSeenValidate,batchSize,\"validate\",\"nn\")\n",
        "display(SVG(model_to_dot(model, show_layer_names=True, show_shapes=True, rankdir='TB').create(prog='dot', format='svg')))"
      ],
      "execution_count": 26,
      "outputs": [
        {
          "output_type": "stream",
          "text": [
            "WARNING:tensorflow:From /usr/local/lib/python3.6/dist-packages/keras/backend/tensorflow_backend.py:3445: calling dropout (from tensorflow.python.ops.nn_ops) with keep_prob is deprecated and will be removed in a future version.\n",
            "Instructions for updating:\n",
            "Please use `rate` instead of `keep_prob`. Rate should be set to `rate = 1 - keep_prob`.\n"
          ],
          "name": "stdout"
        },
        {
          "output_type": "stream",
          "text": [
            "WARNING:tensorflow:From /usr/local/lib/python3.6/dist-packages/keras/backend/tensorflow_backend.py:3445: calling dropout (from tensorflow.python.ops.nn_ops) with keep_prob is deprecated and will be removed in a future version.\n",
            "Instructions for updating:\n",
            "Please use `rate` instead of `keep_prob`. Rate should be set to `rate = 1 - keep_prob`.\n"
          ],
          "name": "stderr"
        },
        {
          "output_type": "display_data",
          "data": {
            "text/plain": [
              "<IPython.core.display.SVG object>"
            ],
            "image/svg+xml": "<svg height=\"221pt\" viewBox=\"0.00 0.00 612.00 221.00\" width=\"612pt\" xmlns=\"http://www.w3.org/2000/svg\" xmlns:xlink=\"http://www.w3.org/1999/xlink\">\n<g class=\"graph\" id=\"graph0\" transform=\"scale(1 1) rotate(0) translate(4 217)\">\n<title>G</title>\n<polygon fill=\"#ffffff\" points=\"-4,4 -4,-217 608,-217 608,4 -4,4\" stroke=\"transparent\"/>\n<!-- 140429059922632 -->\n<g class=\"node\" id=\"node1\">\n<title>140429059922632</title>\n<polygon fill=\"none\" points=\"0,-166.5 0,-212.5 293,-212.5 293,-166.5 0,-166.5\" stroke=\"#000000\"/>\n<text fill=\"#000000\" font-family=\"Times,serif\" font-size=\"14.00\" text-anchor=\"middle\" x=\"66.5\" y=\"-185.8\">input_3: InputLayer</text>\n<polyline fill=\"none\" points=\"133,-166.5 133,-212.5 \" stroke=\"#000000\"/>\n<text fill=\"#000000\" font-family=\"Times,serif\" font-size=\"14.00\" text-anchor=\"middle\" x=\"162\" y=\"-197.3\">input:</text>\n<polyline fill=\"none\" points=\"133,-189.5 191,-189.5 \" stroke=\"#000000\"/>\n<text fill=\"#000000\" font-family=\"Times,serif\" font-size=\"14.00\" text-anchor=\"middle\" x=\"162\" y=\"-174.3\">output:</text>\n<polyline fill=\"none\" points=\"191,-166.5 191,-212.5 \" stroke=\"#000000\"/>\n<text fill=\"#000000\" font-family=\"Times,serif\" font-size=\"14.00\" text-anchor=\"middle\" x=\"242\" y=\"-197.3\">(None, 64, 64)</text>\n<polyline fill=\"none\" points=\"191,-189.5 293,-189.5 \" stroke=\"#000000\"/>\n<text fill=\"#000000\" font-family=\"Times,serif\" font-size=\"14.00\" text-anchor=\"middle\" x=\"242\" y=\"-174.3\">(None, 64, 64)</text>\n</g>\n<!-- 140429058029216 -->\n<g class=\"node\" id=\"node3\">\n<title>140429058029216</title>\n<polygon fill=\"none\" points=\"165,-83.5 165,-129.5 438,-129.5 438,-83.5 165,-83.5\" stroke=\"#000000\"/>\n<text fill=\"#000000\" font-family=\"Times,serif\" font-size=\"14.00\" text-anchor=\"middle\" x=\"221.5\" y=\"-102.8\">model_3: Model</text>\n<polyline fill=\"none\" points=\"278,-83.5 278,-129.5 \" stroke=\"#000000\"/>\n<text fill=\"#000000\" font-family=\"Times,serif\" font-size=\"14.00\" text-anchor=\"middle\" x=\"307\" y=\"-114.3\">input:</text>\n<polyline fill=\"none\" points=\"278,-106.5 336,-106.5 \" stroke=\"#000000\"/>\n<text fill=\"#000000\" font-family=\"Times,serif\" font-size=\"14.00\" text-anchor=\"middle\" x=\"307\" y=\"-91.3\">output:</text>\n<polyline fill=\"none\" points=\"336,-83.5 336,-129.5 \" stroke=\"#000000\"/>\n<text fill=\"#000000\" font-family=\"Times,serif\" font-size=\"14.00\" text-anchor=\"middle\" x=\"387\" y=\"-114.3\">(None, 64, 64)</text>\n<polyline fill=\"none\" points=\"336,-106.5 438,-106.5 \" stroke=\"#000000\"/>\n<text fill=\"#000000\" font-family=\"Times,serif\" font-size=\"14.00\" text-anchor=\"middle\" x=\"387\" y=\"-91.3\">(None, 128)</text>\n</g>\n<!-- 140429059922632&#45;&gt;140429058029216 -->\n<g class=\"edge\" id=\"edge1\">\n<title>140429059922632-&gt;140429058029216</title>\n<path d=\"M189.6761,-166.3799C208.158,-156.4832 229.9034,-144.8388 249.2809,-134.4625\" fill=\"none\" stroke=\"#000000\"/>\n<polygon fill=\"#000000\" points=\"251.1234,-137.4461 258.2868,-129.6399 247.8189,-131.2752 251.1234,-137.4461\" stroke=\"#000000\"/>\n</g>\n<!-- 140429057816112 -->\n<g class=\"node\" id=\"node2\">\n<title>140429057816112</title>\n<polygon fill=\"none\" points=\"311,-166.5 311,-212.5 604,-212.5 604,-166.5 311,-166.5\" stroke=\"#000000\"/>\n<text fill=\"#000000\" font-family=\"Times,serif\" font-size=\"14.00\" text-anchor=\"middle\" x=\"377.5\" y=\"-185.8\">input_4: InputLayer</text>\n<polyline fill=\"none\" points=\"444,-166.5 444,-212.5 \" stroke=\"#000000\"/>\n<text fill=\"#000000\" font-family=\"Times,serif\" font-size=\"14.00\" text-anchor=\"middle\" x=\"473\" y=\"-197.3\">input:</text>\n<polyline fill=\"none\" points=\"444,-189.5 502,-189.5 \" stroke=\"#000000\"/>\n<text fill=\"#000000\" font-family=\"Times,serif\" font-size=\"14.00\" text-anchor=\"middle\" x=\"473\" y=\"-174.3\">output:</text>\n<polyline fill=\"none\" points=\"502,-166.5 502,-212.5 \" stroke=\"#000000\"/>\n<text fill=\"#000000\" font-family=\"Times,serif\" font-size=\"14.00\" text-anchor=\"middle\" x=\"553\" y=\"-197.3\">(None, 64, 64)</text>\n<polyline fill=\"none\" points=\"502,-189.5 604,-189.5 \" stroke=\"#000000\"/>\n<text fill=\"#000000\" font-family=\"Times,serif\" font-size=\"14.00\" text-anchor=\"middle\" x=\"553\" y=\"-174.3\">(None, 64, 64)</text>\n</g>\n<!-- 140429057816112&#45;&gt;140429058029216 -->\n<g class=\"edge\" id=\"edge2\">\n<title>140429057816112-&gt;140429058029216</title>\n<path d=\"M414.0453,-166.3799C395.4442,-156.4832 373.5585,-144.8388 354.056,-134.4625\" fill=\"none\" stroke=\"#000000\"/>\n<polygon fill=\"#000000\" points=\"355.4642,-131.2472 344.992,-129.6399 352.1762,-137.427 355.4642,-131.2472\" stroke=\"#000000\"/>\n</g>\n<!-- 140428684669896 -->\n<g class=\"node\" id=\"node4\">\n<title>140428684669896</title>\n<polygon fill=\"none\" points=\"125,-.5 125,-46.5 478,-46.5 478,-.5 125,-.5\" stroke=\"#000000\"/>\n<text fill=\"#000000\" font-family=\"Times,serif\" font-size=\"14.00\" text-anchor=\"middle\" x=\"185.5\" y=\"-19.8\">EuclDist: Lambda</text>\n<polyline fill=\"none\" points=\"246,-.5 246,-46.5 \" stroke=\"#000000\"/>\n<text fill=\"#000000\" font-family=\"Times,serif\" font-size=\"14.00\" text-anchor=\"middle\" x=\"275\" y=\"-31.3\">input:</text>\n<polyline fill=\"none\" points=\"246,-23.5 304,-23.5 \" stroke=\"#000000\"/>\n<text fill=\"#000000\" font-family=\"Times,serif\" font-size=\"14.00\" text-anchor=\"middle\" x=\"275\" y=\"-8.3\">output:</text>\n<polyline fill=\"none\" points=\"304,-.5 304,-46.5 \" stroke=\"#000000\"/>\n<text fill=\"#000000\" font-family=\"Times,serif\" font-size=\"14.00\" text-anchor=\"middle\" x=\"391\" y=\"-31.3\">[(None, 128), (None, 128)]</text>\n<polyline fill=\"none\" points=\"304,-23.5 478,-23.5 \" stroke=\"#000000\"/>\n<text fill=\"#000000\" font-family=\"Times,serif\" font-size=\"14.00\" text-anchor=\"middle\" x=\"391\" y=\"-8.3\">(None, 1)</text>\n</g>\n<!-- 140429058029216&#45;&gt;140428684669896 -->\n<g class=\"edge\" id=\"edge3\">\n<title>140429058029216-&gt;140428684669896</title>\n<path d=\"M301.5,-83.3799C301.5,-75.1745 301.5,-65.7679 301.5,-56.8786\" fill=\"none\" stroke=\"#000000\"/>\n<polygon fill=\"#000000\" points=\"305.0001,-56.784 301.5,-46.784 298.0001,-56.784 305.0001,-56.784\" stroke=\"#000000\"/>\n</g>\n</g>\n</svg>"
          },
          "metadata": {
            "tags": []
          }
        }
      ]
    },
    {
      "metadata": {
        "id": "mA597oIP048z",
        "colab_type": "text"
      },
      "cell_type": "markdown",
      "source": [
        "### Seen"
      ]
    },
    {
      "metadata": {
        "id": "X7c0dQD44xrK",
        "colab_type": "code",
        "colab": {}
      },
      "cell_type": "code",
      "source": [
        "filepath=\"weights-improvement-seen-baseline-{epoch:02d}-{val_accuracy:.2f}.hdf5\"\n",
        "\n",
        "checkpoint = ModelCheckpoint(filepath, monitor='val_accuracy', verbose=1, save_best_only=True, mode='auto')\n",
        "\n",
        "tbCallBack = TensorBoard(log_dir='./log/keras/seen/baseline/run1', histogram_freq=0,\n",
        "                         write_graph=True,\n",
        "                         write_grads=True,\n",
        "                         batch_size=batchSize,\n",
        "                         write_images=True)"
      ],
      "execution_count": 0,
      "outputs": []
    },
    {
      "metadata": {
        "id": "hWPztnELCypp",
        "colab_type": "code",
        "colab": {}
      },
      "cell_type": "code",
      "source": [
        "model.fit_generator(generator=trainingBatchGen,\n",
        "                    steps_per_epoch=(len(lookupSeenTrain) // batchSize),\n",
        "                    epochs=numEpochs,\n",
        "                    verbose=1,\n",
        "                    validation_data=validateBatchGen,\n",
        "                    validation_steps=(len(lookupSeenValidate) // batchSize),\n",
        "                    use_multiprocessing=True,\n",
        "                    initial_epoch=0,\n",
        "                    workers=128,\n",
        "                    max_queue_size=64,\n",
        "                   callbacks=[checkpoint,tbCallBack])"
      ],
      "execution_count": 0,
      "outputs": []
    },
    {
      "metadata": {
        "id": "kY3V7kPP07v1",
        "colab_type": "text"
      },
      "cell_type": "markdown",
      "source": [
        "### Shuffled"
      ]
    },
    {
      "metadata": {
        "id": "EOk4_MFI0-gm",
        "colab_type": "code",
        "colab": {}
      },
      "cell_type": "code",
      "source": [
        "trainingBatchGen = genDataShuffled(lookupShuffledTrain,batchSize,\"train\",\"nn\")\n",
        "validateBatchGen = genDataShuffled(lookupShuffledValidate,batchSize,\"validate\",\"nn\")\n",
        "filepath=\"weights-improvement-shuffled-baseline-{epoch:02d}-{val_accuracy:.2f}.hdf5\"\n",
        "\n",
        "checkpoint = ModelCheckpoint(filepath, monitor='val_accuracy', verbose=1, save_best_only=True, mode='auto')\n",
        "\n",
        "tbCallBack = TensorBoard(log_dir='./log/keras/shuffled/baseline/run1', histogram_freq=0,\n",
        "                         write_graph=True,\n",
        "                         write_grads=True,\n",
        "                         batch_size=batchSize,\n",
        "                         write_images=True)"
      ],
      "execution_count": 0,
      "outputs": []
    },
    {
      "metadata": {
        "id": "l_KKdagq1xWK",
        "colab_type": "code",
        "colab": {}
      },
      "cell_type": "code",
      "source": [
        "model.fit_generator(generator=trainingBatchGen,\n",
        "                    steps_per_epoch=(len(lookupShuffledTrain) // batchSize),\n",
        "                    epochs=numEpochs,\n",
        "                    verbose=1,\n",
        "                    validation_data=validateBatchGen,\n",
        "                    validation_steps=(len(lookupShuffledValidate) // batchSize),\n",
        "                    use_multiprocessing=True,\n",
        "                    initial_epoch=0,\n",
        "                    workers=128,\n",
        "                    max_queue_size=64,\n",
        "                   callbacks=[checkpoint,tbCallBack])"
      ],
      "execution_count": 0,
      "outputs": []
    },
    {
      "metadata": {
        "id": "gHNm1c15yO8W",
        "colab_type": "text"
      },
      "cell_type": "markdown",
      "source": [
        "### Unseen"
      ]
    },
    {
      "metadata": {
        "id": "j5dDnQZzyRrZ",
        "colab_type": "code",
        "colab": {}
      },
      "cell_type": "code",
      "source": [
        "trainingBatchGen = genDataUnseen(lookupUnseenTrain,batchSize,\"train\",\"nn\")\n",
        "validateBatchGen = genDataUnseen(lookupUnseenValidate,batchSize,\"validate\",\"nn\")\n",
        "filepath=\"weights-improvement-unseen-baseline-{epoch:02d}-{val_accuracy:.2f}.hdf5\"\n",
        "\n",
        "checkpoint = ModelCheckpoint(filepath, monitor='val_accuracy', verbose=1, save_best_only=True, mode='auto')\n",
        "\n",
        "tbCallBack = TensorBoard(log_dir='./log/keras/unseen/baseline/run1', histogram_freq=0,\n",
        "                         write_graph=True,\n",
        "                         write_grads=True,\n",
        "                         batch_size=batchSize,\n",
        "                         write_images=True)"
      ],
      "execution_count": 0,
      "outputs": []
    },
    {
      "metadata": {
        "id": "aVBvZMVjyg23",
        "colab_type": "code",
        "colab": {}
      },
      "cell_type": "code",
      "source": [
        "model.fit_generator(generator=trainingBatchGen,\n",
        "                    steps_per_epoch=(len(lookupUnseenTrain) // batchSize),\n",
        "                    epochs=numEpochs,\n",
        "                    verbose=1,\n",
        "                    validation_data=validateBatchGen,\n",
        "                    validation_steps=(len(lookupUnseenValidate) // batchSize),\n",
        "                    use_multiprocessing=True,\n",
        "                    initial_epoch=0,\n",
        "                    workers=128,\n",
        "                    max_queue_size=64,\n",
        "                   callbacks=[checkpoint,tbCallBack])"
      ],
      "execution_count": 0,
      "outputs": []
    },
    {
      "metadata": {
        "id": "laLbmP3kD8w3",
        "colab_type": "text"
      },
      "cell_type": "markdown",
      "source": [
        "## Modified Baseline\n",
        "Tried diferent Optimizers and dropped some of the dense layers\n",
        "Problem: Gives 88% accuracy but I think something might be wrong because it doesn't move and training data is stuck at 50%. The 88% accuracy is random because last time it was around 53%"
      ]
    },
    {
      "metadata": {
        "id": "Cfqk92ccEAyj",
        "colab_type": "code",
        "outputId": "f248f147-8412-41fd-c790-1c7575594a01",
        "colab": {
          "base_uri": "https://localhost:8080/",
          "height": 315
        }
      },
      "cell_type": "code",
      "source": [
        "inputShape = np.shape(cv2.imread(str(stickyPath+\"dataset/seen-dataset/TrainingSet/0001a_num4.png\"),cv2.IMREAD_GRAYSCALE))\n",
        "def create_base_network(input_shape):\n",
        "    '''\n",
        "    Base network to be shared (eq. to feature extraction).\n",
        "    Ref: Keras Documentation on MNNIST Siamese\n",
        "    '''\n",
        "    _input = Input(shape=input_shape)\n",
        "    x = Flatten()(_input)\n",
        "    x = Dense(128, activation='relu')(x)\n",
        "    x = Dense(256, activation='relu')(x)\n",
        "    x = Dense(512, activation='relu')(x)\n",
        "    x = Dropout(0.1)(x)\n",
        "    x = Dense(256, activation='relu')(x)\n",
        "    return Model(_input, x)\n",
        "base_network = create_base_network(inputShape)\n",
        "inputLeft = Input(shape=inputShape)\n",
        "inputRight = Input(shape=inputShape)\n",
        "processed_left = base_network(inputLeft)\n",
        "processed_right = base_network(inputRight)\n",
        "distance = Lambda(euclidean_distance,\n",
        "                  output_shape=eucl_dist_output_shape,name=\"EuclDist\")([processed_left, processed_right])\n",
        "model = Model([inputLeft, inputRight], distance)\n",
        "model.compile(loss=contrastive_loss, optimizer=Adam(lr=0.1), metrics=[accuracy])\n",
        "batchSize = 512\n",
        "numEpochs = 50\n",
        "initialEpoch = 0\n",
        "trainingBatchGen = genDataSeen(lookupSeenTrain,batchSize,\"train\",\"nn\")\n",
        "validateBatchGen = genDataSeen(lookupSeenValidate,batchSize,\"validate\",\"nn\")\n",
        "display(SVG(model_to_dot(model, show_layer_names=True, show_shapes=True, rankdir='TB').create(prog='dot', format='svg')))"
      ],
      "execution_count": 18,
      "outputs": [
        {
          "output_type": "display_data",
          "data": {
            "text/plain": [
              "<IPython.core.display.SVG object>"
            ],
            "image/svg+xml": "<svg height=\"221pt\" viewBox=\"0.00 0.00 612.00 221.00\" width=\"612pt\" xmlns=\"http://www.w3.org/2000/svg\" xmlns:xlink=\"http://www.w3.org/1999/xlink\">\n<g class=\"graph\" id=\"graph0\" transform=\"scale(1 1) rotate(0) translate(4 217)\">\n<title>G</title>\n<polygon fill=\"#ffffff\" points=\"-4,4 -4,-217 608,-217 608,4 -4,4\" stroke=\"transparent\"/>\n<!-- 140707466065064 -->\n<g class=\"node\" id=\"node1\">\n<title>140707466065064</title>\n<polygon fill=\"none\" points=\"0,-166.5 0,-212.5 293,-212.5 293,-166.5 0,-166.5\" stroke=\"#000000\"/>\n<text fill=\"#000000\" font-family=\"Times,serif\" font-size=\"14.00\" text-anchor=\"middle\" x=\"66.5\" y=\"-185.8\">input_5: InputLayer</text>\n<polyline fill=\"none\" points=\"133,-166.5 133,-212.5 \" stroke=\"#000000\"/>\n<text fill=\"#000000\" font-family=\"Times,serif\" font-size=\"14.00\" text-anchor=\"middle\" x=\"162\" y=\"-197.3\">input:</text>\n<polyline fill=\"none\" points=\"133,-189.5 191,-189.5 \" stroke=\"#000000\"/>\n<text fill=\"#000000\" font-family=\"Times,serif\" font-size=\"14.00\" text-anchor=\"middle\" x=\"162\" y=\"-174.3\">output:</text>\n<polyline fill=\"none\" points=\"191,-166.5 191,-212.5 \" stroke=\"#000000\"/>\n<text fill=\"#000000\" font-family=\"Times,serif\" font-size=\"14.00\" text-anchor=\"middle\" x=\"242\" y=\"-197.3\">(None, 64, 64)</text>\n<polyline fill=\"none\" points=\"191,-189.5 293,-189.5 \" stroke=\"#000000\"/>\n<text fill=\"#000000\" font-family=\"Times,serif\" font-size=\"14.00\" text-anchor=\"middle\" x=\"242\" y=\"-174.3\">(None, 64, 64)</text>\n</g>\n<!-- 140706935673296 -->\n<g class=\"node\" id=\"node3\">\n<title>140706935673296</title>\n<polygon fill=\"none\" points=\"165,-83.5 165,-129.5 438,-129.5 438,-83.5 165,-83.5\" stroke=\"#000000\"/>\n<text fill=\"#000000\" font-family=\"Times,serif\" font-size=\"14.00\" text-anchor=\"middle\" x=\"221.5\" y=\"-102.8\">model_3: Model</text>\n<polyline fill=\"none\" points=\"278,-83.5 278,-129.5 \" stroke=\"#000000\"/>\n<text fill=\"#000000\" font-family=\"Times,serif\" font-size=\"14.00\" text-anchor=\"middle\" x=\"307\" y=\"-114.3\">input:</text>\n<polyline fill=\"none\" points=\"278,-106.5 336,-106.5 \" stroke=\"#000000\"/>\n<text fill=\"#000000\" font-family=\"Times,serif\" font-size=\"14.00\" text-anchor=\"middle\" x=\"307\" y=\"-91.3\">output:</text>\n<polyline fill=\"none\" points=\"336,-83.5 336,-129.5 \" stroke=\"#000000\"/>\n<text fill=\"#000000\" font-family=\"Times,serif\" font-size=\"14.00\" text-anchor=\"middle\" x=\"387\" y=\"-114.3\">(None, 64, 64)</text>\n<polyline fill=\"none\" points=\"336,-106.5 438,-106.5 \" stroke=\"#000000\"/>\n<text fill=\"#000000\" font-family=\"Times,serif\" font-size=\"14.00\" text-anchor=\"middle\" x=\"387\" y=\"-91.3\">(None, 256)</text>\n</g>\n<!-- 140707466065064&#45;&gt;140706935673296 -->\n<g class=\"edge\" id=\"edge1\">\n<title>140707466065064-&gt;140706935673296</title>\n<path d=\"M189.6761,-166.3799C208.158,-156.4832 229.9034,-144.8388 249.2809,-134.4625\" fill=\"none\" stroke=\"#000000\"/>\n<polygon fill=\"#000000\" points=\"251.1234,-137.4461 258.2868,-129.6399 247.8189,-131.2752 251.1234,-137.4461\" stroke=\"#000000\"/>\n</g>\n<!-- 140706935701456 -->\n<g class=\"node\" id=\"node2\">\n<title>140706935701456</title>\n<polygon fill=\"none\" points=\"311,-166.5 311,-212.5 604,-212.5 604,-166.5 311,-166.5\" stroke=\"#000000\"/>\n<text fill=\"#000000\" font-family=\"Times,serif\" font-size=\"14.00\" text-anchor=\"middle\" x=\"377.5\" y=\"-185.8\">input_6: InputLayer</text>\n<polyline fill=\"none\" points=\"444,-166.5 444,-212.5 \" stroke=\"#000000\"/>\n<text fill=\"#000000\" font-family=\"Times,serif\" font-size=\"14.00\" text-anchor=\"middle\" x=\"473\" y=\"-197.3\">input:</text>\n<polyline fill=\"none\" points=\"444,-189.5 502,-189.5 \" stroke=\"#000000\"/>\n<text fill=\"#000000\" font-family=\"Times,serif\" font-size=\"14.00\" text-anchor=\"middle\" x=\"473\" y=\"-174.3\">output:</text>\n<polyline fill=\"none\" points=\"502,-166.5 502,-212.5 \" stroke=\"#000000\"/>\n<text fill=\"#000000\" font-family=\"Times,serif\" font-size=\"14.00\" text-anchor=\"middle\" x=\"553\" y=\"-197.3\">(None, 64, 64)</text>\n<polyline fill=\"none\" points=\"502,-189.5 604,-189.5 \" stroke=\"#000000\"/>\n<text fill=\"#000000\" font-family=\"Times,serif\" font-size=\"14.00\" text-anchor=\"middle\" x=\"553\" y=\"-174.3\">(None, 64, 64)</text>\n</g>\n<!-- 140706935701456&#45;&gt;140706935673296 -->\n<g class=\"edge\" id=\"edge2\">\n<title>140706935701456-&gt;140706935673296</title>\n<path d=\"M414.0453,-166.3799C395.4442,-156.4832 373.5585,-144.8388 354.056,-134.4625\" fill=\"none\" stroke=\"#000000\"/>\n<polygon fill=\"#000000\" points=\"355.4642,-131.2472 344.992,-129.6399 352.1762,-137.427 355.4642,-131.2472\" stroke=\"#000000\"/>\n</g>\n<!-- 140706934640712 -->\n<g class=\"node\" id=\"node4\">\n<title>140706934640712</title>\n<polygon fill=\"none\" points=\"125,-.5 125,-46.5 478,-46.5 478,-.5 125,-.5\" stroke=\"#000000\"/>\n<text fill=\"#000000\" font-family=\"Times,serif\" font-size=\"14.00\" text-anchor=\"middle\" x=\"185.5\" y=\"-19.8\">EuclDist: Lambda</text>\n<polyline fill=\"none\" points=\"246,-.5 246,-46.5 \" stroke=\"#000000\"/>\n<text fill=\"#000000\" font-family=\"Times,serif\" font-size=\"14.00\" text-anchor=\"middle\" x=\"275\" y=\"-31.3\">input:</text>\n<polyline fill=\"none\" points=\"246,-23.5 304,-23.5 \" stroke=\"#000000\"/>\n<text fill=\"#000000\" font-family=\"Times,serif\" font-size=\"14.00\" text-anchor=\"middle\" x=\"275\" y=\"-8.3\">output:</text>\n<polyline fill=\"none\" points=\"304,-.5 304,-46.5 \" stroke=\"#000000\"/>\n<text fill=\"#000000\" font-family=\"Times,serif\" font-size=\"14.00\" text-anchor=\"middle\" x=\"391\" y=\"-31.3\">[(None, 256), (None, 256)]</text>\n<polyline fill=\"none\" points=\"304,-23.5 478,-23.5 \" stroke=\"#000000\"/>\n<text fill=\"#000000\" font-family=\"Times,serif\" font-size=\"14.00\" text-anchor=\"middle\" x=\"391\" y=\"-8.3\">(None, 1)</text>\n</g>\n<!-- 140706935673296&#45;&gt;140706934640712 -->\n<g class=\"edge\" id=\"edge3\">\n<title>140706935673296-&gt;140706934640712</title>\n<path d=\"M301.5,-83.3799C301.5,-75.1745 301.5,-65.7679 301.5,-56.8786\" fill=\"none\" stroke=\"#000000\"/>\n<polygon fill=\"#000000\" points=\"305.0001,-56.784 301.5,-46.784 298.0001,-56.784 305.0001,-56.784\" stroke=\"#000000\"/>\n</g>\n</g>\n</svg>"
          },
          "metadata": {
            "tags": []
          }
        }
      ]
    },
    {
      "metadata": {
        "id": "Kt9i9ia_84kL",
        "colab_type": "text"
      },
      "cell_type": "markdown",
      "source": [
        "### Seen"
      ]
    },
    {
      "metadata": {
        "id": "ZwVXWMzi8wh8",
        "colab_type": "code",
        "colab": {}
      },
      "cell_type": "code",
      "source": [
        "filepath=\"weights-improvement-seen-baselineModified-{epoch:02d}-{val_accuracy:.2f}.hdf5\"\n",
        "\n",
        "checkpoint = ModelCheckpoint(filepath, monitor='val_accuracy', verbose=1, save_best_only=True, mode='auto')\n",
        "\n",
        "tbCallBack = TensorBoard(log_dir='./log/keras/seen/baselineModified/run2', histogram_freq=0,\n",
        "                         write_graph=True,\n",
        "                         write_grads=True,\n",
        "                         batch_size=batchSize,\n",
        "                         write_images=True)"
      ],
      "execution_count": 0,
      "outputs": []
    },
    {
      "metadata": {
        "id": "Fcfwx8STEqj_",
        "colab_type": "code",
        "colab": {}
      },
      "cell_type": "code",
      "source": [
        "model.fit_generator(generator=trainingBatchGen,\n",
        "                    steps_per_epoch=(len(lookupSeenTrain) // batchSize),\n",
        "                    epochs=numEpochs,\n",
        "                    verbose=1,\n",
        "                    validation_data=validateBatchGen,\n",
        "                    validation_steps=(len(lookupSeenValidate) // batchSize),\n",
        "                    use_multiprocessing=True,\n",
        "                    initial_epoch=0,\n",
        "                    workers=128,\n",
        "                    max_queue_size=64,\n",
        "                    callbacks=[checkpoint,tbCallBack]\n",
        "                   )"
      ],
      "execution_count": 0,
      "outputs": []
    },
    {
      "metadata": {
        "id": "bsyq12gD5x8U",
        "colab_type": "text"
      },
      "cell_type": "markdown",
      "source": [
        "### Shuffled"
      ]
    },
    {
      "metadata": {
        "id": "Lkuf2hXy5xML",
        "colab_type": "code",
        "colab": {}
      },
      "cell_type": "code",
      "source": [
        "trainingBatchGen = genDataShuffled(lookupShuffledTrain,batchSize,\"train\",\"nn\")\n",
        "validateBatchGen = genDataShuffled(lookupShuffledValidate,batchSize,\"validate\",\"nn\")\n",
        "filepath=\"weights-improvement-shuffled-baselineModified-{epoch:02d}-{val_accuracy:.2f}.hdf5\"\n",
        "\n",
        "checkpoint = ModelCheckpoint(filepath, monitor='val_accuracy', verbose=1, save_best_only=True, mode='auto')\n",
        "\n",
        "tbCallBack = TensorBoard(log_dir='./log/keras/shuffled/baselineModified/run1', histogram_freq=0,\n",
        "                         write_graph=True,\n",
        "                         write_grads=True,\n",
        "                         batch_size=batchSize,\n",
        "                         write_images=True)"
      ],
      "execution_count": 0,
      "outputs": []
    },
    {
      "metadata": {
        "id": "uWw4nSyx6Ivy",
        "colab_type": "code",
        "colab": {}
      },
      "cell_type": "code",
      "source": [
        "model.fit_generator(generator=trainingBatchGen,\n",
        "                    steps_per_epoch=(len(lookupShuffledTrain) // batchSize),\n",
        "                    epochs=numEpochs,\n",
        "                    verbose=1,\n",
        "                    validation_data=validateBatchGen,\n",
        "                    validation_steps=(len(lookupShuffledValidate) // batchSize),\n",
        "                    use_multiprocessing=True,\n",
        "                    initial_epoch=0,\n",
        "                    workers=128,\n",
        "                    max_queue_size=64,\n",
        "                    callbacks=[checkpoint,tbCallBack]\n",
        "                   )"
      ],
      "execution_count": 0,
      "outputs": []
    },
    {
      "metadata": {
        "id": "OvVxXm-tysEp",
        "colab_type": "text"
      },
      "cell_type": "markdown",
      "source": [
        "### Unseen"
      ]
    },
    {
      "metadata": {
        "id": "c265oAUeyt14",
        "colab_type": "code",
        "colab": {}
      },
      "cell_type": "code",
      "source": [
        "trainingBatchGen = genDataUnseen(lookupUnseenTrain,batchSize,\"train\",\"nn\")\n",
        "validateBatchGen = genDataUnseen(lookupUnseenValidate,batchSize,\"validate\",\"nn\")\n",
        "filepath=\"weights-improvement-unseen-baselineModified-{epoch:02d}-{val_accuracy:.2f}.hdf5\"\n",
        "\n",
        "checkpoint = ModelCheckpoint(filepath, monitor='val_accuracy', verbose=1, save_best_only=True, mode='auto')\n",
        "\n",
        "tbCallBack = TensorBoard(log_dir='./log/keras/unseen/baselineModified/run1', histogram_freq=0,\n",
        "                         write_graph=True,\n",
        "                         write_grads=True,\n",
        "                         batch_size=batchSize,\n",
        "                         write_images=True)"
      ],
      "execution_count": 0,
      "outputs": []
    },
    {
      "metadata": {
        "id": "wi0F54BDy6Sh",
        "colab_type": "code",
        "colab": {}
      },
      "cell_type": "code",
      "source": [
        "model.fit_generator(generator=trainingBatchGen,\n",
        "                    steps_per_epoch=(len(lookupUnseenTrain) // batchSize),\n",
        "                    epochs=numEpochs,\n",
        "                    verbose=1,\n",
        "                    validation_data=validateBatchGen,\n",
        "                    validation_steps=(len(lookupUnseenValidate) // batchSize),\n",
        "                    use_multiprocessing=True,\n",
        "                    initial_epoch=0,\n",
        "                    workers=128,\n",
        "                    max_queue_size=64,\n",
        "                    callbacks=[checkpoint,tbCallBack]\n",
        "                   )"
      ],
      "execution_count": 0,
      "outputs": []
    },
    {
      "metadata": {
        "id": "T8lzo00V0P4M",
        "colab_type": "text"
      },
      "cell_type": "markdown",
      "source": [
        "## Model 2 Siamese\n",
        "This is the first model to use CNN architecture for Siamese Network used MNIST to get it"
      ]
    },
    {
      "metadata": {
        "id": "N6fcFa3d0P4U",
        "colab_type": "code",
        "colab": {
          "base_uri": "https://localhost:8080/",
          "height": 387
        },
        "outputId": "639c50b9-d2f4-4134-87fe-8d32f27dcf70"
      },
      "cell_type": "code",
      "source": [
        "inputShape = (64, 64, 1)\n",
        "def caffeReplicatedModel(input_shape):\n",
        "    _input = Input(input_shape)\n",
        "    x = Conv2D(filters=20,kernel_size=5,\n",
        "                     kernel_initializer=\"glorot_normal\",\n",
        "                     strides=1,activation=\"relu\",\n",
        "                     use_bias=False)(_input)\n",
        "    x = MaxPooling2D(pool_size=2,strides=2)(x)\n",
        "    x = BatchNormalization()(x)\n",
        "    x = Conv2D(filters=20,kernel_size=5,\n",
        "                     kernel_initializer=\"glorot_normal\",\n",
        "                     strides=1,activation=\"relu\",\n",
        "                     use_bias=False)(x)\n",
        "    x = MaxPooling2D(pool_size=2,strides=2)(x)\n",
        "    x = Flatten()(x)\n",
        "    return Model(_input, x)\n",
        "nw2 = caffeReplicatedModel(inputShape)\n",
        "inputLeft = Input(shape=inputShape)\n",
        "inputRight = Input(shape=inputShape)\n",
        "processed_left = nw2(inputLeft)\n",
        "processed_right = nw2(inputRight)\n",
        "distance = Lambda(euclidean_distance,\n",
        "                  output_shape=eucl_dist_output_shape)([processed_left, processed_right])\n",
        "model = Model([inputLeft, inputRight], distance)\n",
        "rms = RMSprop()\n",
        "model.compile(loss=contrastive_loss, optimizer=rms, metrics=[accuracy])\n",
        "batchSize = 512\n",
        "numEpochs = 10\n",
        "initialEpoch = 0\n",
        "trainingBatchGen = genDataSeen(lookupSeenTrain,batchSize,\"train\",\"cnn\")\n",
        "validateBatchGen = genDataSeen(lookupSeenValidate,batchSize,\"validate\",\"cnn\")\n",
        "display(SVG(model_to_dot(model, show_layer_names=True, show_shapes=True, rankdir='TB').create(prog='dot', format='svg')))"
      ],
      "execution_count": 10,
      "outputs": [
        {
          "output_type": "stream",
          "text": [
            "WARNING:tensorflow:From /usr/local/lib/python3.6/dist-packages/tensorflow/python/framework/op_def_library.py:263: colocate_with (from tensorflow.python.framework.ops) is deprecated and will be removed in a future version.\n",
            "Instructions for updating:\n",
            "Colocations handled automatically by placer.\n"
          ],
          "name": "stdout"
        },
        {
          "output_type": "display_data",
          "data": {
            "text/plain": [
              "<IPython.core.display.SVG object>"
            ],
            "image/svg+xml": "<svg height=\"221pt\" viewBox=\"0.00 0.00 642.00 221.00\" width=\"642pt\" xmlns=\"http://www.w3.org/2000/svg\" xmlns:xlink=\"http://www.w3.org/1999/xlink\">\n<g class=\"graph\" id=\"graph0\" transform=\"scale(1 1) rotate(0) translate(4 217)\">\n<title>G</title>\n<polygon fill=\"#ffffff\" points=\"-4,4 -4,-217 638,-217 638,4 -4,4\" stroke=\"transparent\"/>\n<!-- 140198191445944 -->\n<g class=\"node\" id=\"node1\">\n<title>140198191445944</title>\n<polygon fill=\"none\" points=\"0,-166.5 0,-212.5 308,-212.5 308,-166.5 0,-166.5\" stroke=\"#000000\"/>\n<text fill=\"#000000\" font-family=\"Times,serif\" font-size=\"14.00\" text-anchor=\"middle\" x=\"66.5\" y=\"-185.8\">input_2: InputLayer</text>\n<polyline fill=\"none\" points=\"133,-166.5 133,-212.5 \" stroke=\"#000000\"/>\n<text fill=\"#000000\" font-family=\"Times,serif\" font-size=\"14.00\" text-anchor=\"middle\" x=\"162\" y=\"-197.3\">input:</text>\n<polyline fill=\"none\" points=\"133,-189.5 191,-189.5 \" stroke=\"#000000\"/>\n<text fill=\"#000000\" font-family=\"Times,serif\" font-size=\"14.00\" text-anchor=\"middle\" x=\"162\" y=\"-174.3\">output:</text>\n<polyline fill=\"none\" points=\"191,-166.5 191,-212.5 \" stroke=\"#000000\"/>\n<text fill=\"#000000\" font-family=\"Times,serif\" font-size=\"14.00\" text-anchor=\"middle\" x=\"249.5\" y=\"-197.3\">(None, 64, 64, 1)</text>\n<polyline fill=\"none\" points=\"191,-189.5 308,-189.5 \" stroke=\"#000000\"/>\n<text fill=\"#000000\" font-family=\"Times,serif\" font-size=\"14.00\" text-anchor=\"middle\" x=\"249.5\" y=\"-174.3\">(None, 64, 64, 1)</text>\n</g>\n<!-- 140198150950360 -->\n<g class=\"node\" id=\"node3\">\n<title>140198150950360</title>\n<polygon fill=\"none\" points=\"173,-83.5 173,-129.5 461,-129.5 461,-83.5 173,-83.5\" stroke=\"#000000\"/>\n<text fill=\"#000000\" font-family=\"Times,serif\" font-size=\"14.00\" text-anchor=\"middle\" x=\"229.5\" y=\"-102.8\">model_1: Model</text>\n<polyline fill=\"none\" points=\"286,-83.5 286,-129.5 \" stroke=\"#000000\"/>\n<text fill=\"#000000\" font-family=\"Times,serif\" font-size=\"14.00\" text-anchor=\"middle\" x=\"315\" y=\"-114.3\">input:</text>\n<polyline fill=\"none\" points=\"286,-106.5 344,-106.5 \" stroke=\"#000000\"/>\n<text fill=\"#000000\" font-family=\"Times,serif\" font-size=\"14.00\" text-anchor=\"middle\" x=\"315\" y=\"-91.3\">output:</text>\n<polyline fill=\"none\" points=\"344,-83.5 344,-129.5 \" stroke=\"#000000\"/>\n<text fill=\"#000000\" font-family=\"Times,serif\" font-size=\"14.00\" text-anchor=\"middle\" x=\"402.5\" y=\"-114.3\">(None, 64, 64, 1)</text>\n<polyline fill=\"none\" points=\"344,-106.5 461,-106.5 \" stroke=\"#000000\"/>\n<text fill=\"#000000\" font-family=\"Times,serif\" font-size=\"14.00\" text-anchor=\"middle\" x=\"402.5\" y=\"-91.3\">(None, 3380)</text>\n</g>\n<!-- 140198191445944&#45;&gt;140198150950360 -->\n<g class=\"edge\" id=\"edge1\">\n<title>140198191445944-&gt;140198150950360</title>\n<path d=\"M199.4046,-166.3799C219.0162,-156.3936 242.1223,-144.6279 262.6383,-134.1811\" fill=\"none\" stroke=\"#000000\"/>\n<polygon fill=\"#000000\" points=\"264.2334,-137.2966 271.5565,-129.6399 261.0571,-131.0587 264.2334,-137.2966\" stroke=\"#000000\"/>\n</g>\n<!-- 140198150594456 -->\n<g class=\"node\" id=\"node2\">\n<title>140198150594456</title>\n<polygon fill=\"none\" points=\"326,-166.5 326,-212.5 634,-212.5 634,-166.5 326,-166.5\" stroke=\"#000000\"/>\n<text fill=\"#000000\" font-family=\"Times,serif\" font-size=\"14.00\" text-anchor=\"middle\" x=\"392.5\" y=\"-185.8\">input_3: InputLayer</text>\n<polyline fill=\"none\" points=\"459,-166.5 459,-212.5 \" stroke=\"#000000\"/>\n<text fill=\"#000000\" font-family=\"Times,serif\" font-size=\"14.00\" text-anchor=\"middle\" x=\"488\" y=\"-197.3\">input:</text>\n<polyline fill=\"none\" points=\"459,-189.5 517,-189.5 \" stroke=\"#000000\"/>\n<text fill=\"#000000\" font-family=\"Times,serif\" font-size=\"14.00\" text-anchor=\"middle\" x=\"488\" y=\"-174.3\">output:</text>\n<polyline fill=\"none\" points=\"517,-166.5 517,-212.5 \" stroke=\"#000000\"/>\n<text fill=\"#000000\" font-family=\"Times,serif\" font-size=\"14.00\" text-anchor=\"middle\" x=\"575.5\" y=\"-197.3\">(None, 64, 64, 1)</text>\n<polyline fill=\"none\" points=\"517,-189.5 634,-189.5 \" stroke=\"#000000\"/>\n<text fill=\"#000000\" font-family=\"Times,serif\" font-size=\"14.00\" text-anchor=\"middle\" x=\"575.5\" y=\"-174.3\">(None, 64, 64, 1)</text>\n</g>\n<!-- 140198150594456&#45;&gt;140198150950360 -->\n<g class=\"edge\" id=\"edge2\">\n<title>140198150594456-&gt;140198150950360</title>\n<path d=\"M434.5954,-166.3799C414.9838,-156.3936 391.8777,-144.6279 371.3617,-134.1811\" fill=\"none\" stroke=\"#000000\"/>\n<polygon fill=\"#000000\" points=\"372.9429,-131.0587 362.4435,-129.6399 369.7666,-137.2966 372.9429,-131.0587\" stroke=\"#000000\"/>\n</g>\n<!-- 140198149969680 -->\n<g class=\"node\" id=\"node4\">\n<title>140198149969680</title>\n<polygon fill=\"none\" points=\"129.5,-.5 129.5,-46.5 504.5,-46.5 504.5,-.5 129.5,-.5\" stroke=\"#000000\"/>\n<text fill=\"#000000\" font-family=\"Times,serif\" font-size=\"14.00\" text-anchor=\"middle\" x=\"193.5\" y=\"-19.8\">lambda_1: Lambda</text>\n<polyline fill=\"none\" points=\"257.5,-.5 257.5,-46.5 \" stroke=\"#000000\"/>\n<text fill=\"#000000\" font-family=\"Times,serif\" font-size=\"14.00\" text-anchor=\"middle\" x=\"286.5\" y=\"-31.3\">input:</text>\n<polyline fill=\"none\" points=\"257.5,-23.5 315.5,-23.5 \" stroke=\"#000000\"/>\n<text fill=\"#000000\" font-family=\"Times,serif\" font-size=\"14.00\" text-anchor=\"middle\" x=\"286.5\" y=\"-8.3\">output:</text>\n<polyline fill=\"none\" points=\"315.5,-.5 315.5,-46.5 \" stroke=\"#000000\"/>\n<text fill=\"#000000\" font-family=\"Times,serif\" font-size=\"14.00\" text-anchor=\"middle\" x=\"410\" y=\"-31.3\">[(None, 3380), (None, 3380)]</text>\n<polyline fill=\"none\" points=\"315.5,-23.5 504.5,-23.5 \" stroke=\"#000000\"/>\n<text fill=\"#000000\" font-family=\"Times,serif\" font-size=\"14.00\" text-anchor=\"middle\" x=\"410\" y=\"-8.3\">(None, 1)</text>\n</g>\n<!-- 140198150950360&#45;&gt;140198149969680 -->\n<g class=\"edge\" id=\"edge3\">\n<title>140198150950360-&gt;140198149969680</title>\n<path d=\"M317,-83.3799C317,-75.1745 317,-65.7679 317,-56.8786\" fill=\"none\" stroke=\"#000000\"/>\n<polygon fill=\"#000000\" points=\"320.5001,-56.784 317,-46.784 313.5001,-56.784 320.5001,-56.784\" stroke=\"#000000\"/>\n</g>\n</g>\n</svg>"
          },
          "metadata": {
            "tags": []
          }
        }
      ]
    },
    {
      "metadata": {
        "id": "8b-x9jS49BWD",
        "colab_type": "text"
      },
      "cell_type": "markdown",
      "source": [
        "### Seen"
      ]
    },
    {
      "metadata": {
        "id": "QUnS-FfJ8-eU",
        "colab_type": "code",
        "colab": {}
      },
      "cell_type": "code",
      "source": [
        "tbCallBack = TensorBoard(log_dir='./log/keras/seen/CNNSiamese1/run3', histogram_freq=0,\n",
        "                         write_graph=True,\n",
        "                         write_grads=True,\n",
        "                         batch_size=batchSize,\n",
        "                         write_images=True)\n",
        "filepath=\"weights-improvement-seen-CNNSiamese1-{epoch:02d}-{val_accuracy:.2f}.hdf5\"\n",
        "\n",
        "checkpoint = ModelCheckpoint(filepath, monitor='val_accuracy', verbose=1, save_best_only=True, mode='auto')"
      ],
      "execution_count": 0,
      "outputs": []
    },
    {
      "metadata": {
        "id": "wH-iZ8K20P4t",
        "colab_type": "code",
        "colab": {}
      },
      "cell_type": "code",
      "source": [
        "model.fit_generator(generator=trainingBatchGen,\n",
        "                    steps_per_epoch=(len(lookupSeenTrain) // batchSize),\n",
        "                    epochs=numEpochs,\n",
        "                    verbose=1,\n",
        "                    validation_data=validateBatchGen,\n",
        "                    validation_steps=(len(lookupSeenValidate) // batchSize),\n",
        "                    use_multiprocessing=True,\n",
        "                    initial_epoch=0,\n",
        "                    workers=128,\n",
        "                    max_queue_size=64,\n",
        "                   callbacks=[checkpoint,tbCallBack])"
      ],
      "execution_count": 0,
      "outputs": []
    },
    {
      "metadata": {
        "id": "SvKgvnnF9CvY",
        "colab_type": "text"
      },
      "cell_type": "markdown",
      "source": [
        "### Shuffled"
      ]
    },
    {
      "metadata": {
        "id": "mP42FGCi9EPe",
        "colab_type": "code",
        "colab": {}
      },
      "cell_type": "code",
      "source": [
        "trainingBatchGen = genDataShuffled(lookupShuffledTrain,batchSize,\"train\",\"cnn\")\n",
        "validateBatchGen = genDataShuffled(lookupShuffledValidate,batchSize,\"validate\",\"cnn\")\n",
        "filepath=\"weights-improvement-shuffled-CNNSiamese1-{epoch:02d}-{val_accuracy:.2f}.hdf5\"\n",
        "\n",
        "checkpoint = ModelCheckpoint(filepath, monitor='val_accuracy', verbose=1, save_best_only=True, mode='auto')\n",
        "\n",
        "tbCallBack = TensorBoard(log_dir='./log/keras/shuffled/CNNSiamese1/run3', histogram_freq=0,\n",
        "                         write_graph=True,\n",
        "                         write_grads=True,\n",
        "                         batch_size=batchSize,\n",
        "                         write_images=True)"
      ],
      "execution_count": 0,
      "outputs": []
    },
    {
      "metadata": {
        "id": "sWYEbPHA9P50",
        "colab_type": "code",
        "colab": {}
      },
      "cell_type": "code",
      "source": [
        "model.fit_generator(generator=trainingBatchGen,\n",
        "                    steps_per_epoch=(len(lookupShuffledTrain) // batchSize),\n",
        "                    epochs=numEpochs,\n",
        "                    verbose=1,\n",
        "                    validation_data=validateBatchGen,\n",
        "                    validation_steps=(len(lookupShuffledValidate) // batchSize),\n",
        "                    use_multiprocessing=True,\n",
        "                    initial_epoch=0,\n",
        "                    workers=128,\n",
        "                    max_queue_size=64,\n",
        "                   callbacks=[checkpoint,tbCallBack])"
      ],
      "execution_count": 0,
      "outputs": []
    },
    {
      "metadata": {
        "id": "2QPcvrkVzDlp",
        "colab_type": "text"
      },
      "cell_type": "markdown",
      "source": [
        "### Unseen"
      ]
    },
    {
      "metadata": {
        "id": "eK2P1PWSzGTd",
        "colab_type": "code",
        "colab": {}
      },
      "cell_type": "code",
      "source": [
        "trainingBatchGen = genDataUnseen(lookupUnseenTrain,batchSize,\"train\",\"cnn\")\n",
        "validateBatchGen = genDataUnseen(lookupUnseenValidate,batchSize,\"validate\",\"cnn\")\n",
        "filepath=\"weights-improvement-unseen-CNNSiamese1-{epoch:02d}-{val_accuracy:.2f}.hdf5\"\n",
        "\n",
        "checkpoint = ModelCheckpoint(filepath, monitor='val_accuracy', verbose=1, save_best_only=True, mode='auto')\n",
        "\n",
        "tbCallBack = TensorBoard(log_dir='./log/keras/unseen/CNNSiamese1/run3', histogram_freq=0,\n",
        "                         write_graph=True,\n",
        "                         write_grads=True,\n",
        "                         batch_size=batchSize,\n",
        "                         write_images=True)"
      ],
      "execution_count": 0,
      "outputs": []
    },
    {
      "metadata": {
        "id": "kLZEWmhKzZPp",
        "colab_type": "code",
        "colab": {}
      },
      "cell_type": "code",
      "source": [
        "model.fit_generator(generator=trainingBatchGen,\n",
        "                    steps_per_epoch=(len(lookupUnseenTrain) // batchSize),\n",
        "                    epochs=numEpochs,\n",
        "                    verbose=1,\n",
        "                    validation_data=validateBatchGen,\n",
        "                    validation_steps=(len(lookupUnseenValidate) // batchSize),\n",
        "                    use_multiprocessing=True,\n",
        "                    initial_epoch=0,\n",
        "                    workers=128,\n",
        "                    max_queue_size=64,\n",
        "                   callbacks=[checkpoint,tbCallBack])"
      ],
      "execution_count": 0,
      "outputs": []
    },
    {
      "metadata": {
        "id": "k0Uh8Pq7EKKJ",
        "colab_type": "text"
      },
      "cell_type": "markdown",
      "source": [
        "## Model from FunctionalModels"
      ]
    },
    {
      "metadata": {
        "id": "XP8Lla6MEWt3",
        "colab_type": "code",
        "colab": {
          "base_uri": "https://localhost:8080/",
          "height": 1090
        },
        "outputId": "bb35d55e-1376-43cb-df10-574c25a08539"
      },
      "cell_type": "code",
      "source": [
        "inputShape = (64, 64, 1)\n",
        "def functionalModel(input_shape):\n",
        "    _input = Input(input_shape)\n",
        "    x = Conv2D(32,kernel_size=(3, 3),activation='relu',input_shape=input_shape,padding='valid')(_input)\n",
        "    x = MaxPooling2D((2,2), padding='valid')(x)\n",
        "    x = Conv2D(64, (3, 3), activation='relu',padding='valid')(x)\n",
        "    x = MaxPooling2D((2,2),padding='valid')(x)\n",
        "    x = Conv2D(128, (3, 3), activation='relu',padding='valid')(x)\n",
        "    x = MaxPooling2D((2,2),padding='valid')(x)\n",
        "    x = Conv2D(256, (1, 1), activation='relu',padding='valid')(x)\n",
        "    x = MaxPooling2D((2,2),padding='valid')(x)\n",
        "    x = Conv2D(64, (1, 1), activation='relu',padding='valid')(x)\n",
        "    x = Flatten()(x)\n",
        "    return Model(_input, x)\n",
        "  \n",
        "nw3 = functionalModel(inputShape)\n",
        "inputLeft = Input(shape=inputShape)\n",
        "inputRight = Input(shape=inputShape)\n",
        "processed_left = nw3(inputLeft)\n",
        "processed_right = nw3(inputRight)\n",
        "\n",
        "merged_feats = concatenate([processed_left, processed_right], name = 'concat_feats')\n",
        "merged_feats = Dense(1024, activation = 'linear')(merged_feats)\n",
        "merged_feats = BatchNormalization()(merged_feats)\n",
        "merged_feats = Activation('relu')(merged_feats)\n",
        "merged_feats = Dense(4, activation = 'linear')(merged_feats)\n",
        "merged_feats = BatchNormalization()(merged_feats)\n",
        "merged_feats = Activation('relu')(merged_feats)\n",
        "merged_feats = Dense(1, activation = 'sigmoid')(merged_feats)\n",
        "similarity_model = Model(inputs = [inputLeft, inputRight], outputs = [merged_feats], name = 'Similarity_Model')\n",
        "\n",
        "rms = RMSprop()\n",
        "similarity_model.compile(loss=binary_crossentropy, optimizer=rms, metrics=[binary_accuracy])\n",
        "batchSize = 512\n",
        "numEpochs = 10\n",
        "initialEpoch = 0\n",
        "trainingBatchGen = genDataSeen(lookupSeenTrain,batchSize,\"train\",\"cnn\")\n",
        "validateBatchGen = genDataSeen(lookupSeenValidate,batchSize,\"validate\",\"cnn\")\n",
        "display(SVG(model_to_dot(similarity_model, show_layer_names=True, show_shapes=True, rankdir='TB').create(prog='dot', format='svg')))"
      ],
      "execution_count": 15,
      "outputs": [
        {
          "output_type": "display_data",
          "data": {
            "text/plain": [
              "<IPython.core.display.SVG object>"
            ],
            "image/svg+xml": "<svg height=\"802pt\" viewBox=\"0.00 0.00 642.00 802.00\" width=\"642pt\" xmlns=\"http://www.w3.org/2000/svg\" xmlns:xlink=\"http://www.w3.org/1999/xlink\">\n<g class=\"graph\" id=\"graph0\" transform=\"scale(1 1) rotate(0) translate(4 798)\">\n<title>G</title>\n<polygon fill=\"#ffffff\" points=\"-4,4 -4,-798 638,-798 638,4 -4,4\" stroke=\"transparent\"/>\n<!-- 140240345265208 -->\n<g class=\"node\" id=\"node1\">\n<title>140240345265208</title>\n<polygon fill=\"none\" points=\"0,-747.5 0,-793.5 308,-793.5 308,-747.5 0,-747.5\" stroke=\"#000000\"/>\n<text fill=\"#000000\" font-family=\"Times,serif\" font-size=\"14.00\" text-anchor=\"middle\" x=\"66.5\" y=\"-766.8\">input_3: InputLayer</text>\n<polyline fill=\"none\" points=\"133,-747.5 133,-793.5 \" stroke=\"#000000\"/>\n<text fill=\"#000000\" font-family=\"Times,serif\" font-size=\"14.00\" text-anchor=\"middle\" x=\"162\" y=\"-778.3\">input:</text>\n<polyline fill=\"none\" points=\"133,-770.5 191,-770.5 \" stroke=\"#000000\"/>\n<text fill=\"#000000\" font-family=\"Times,serif\" font-size=\"14.00\" text-anchor=\"middle\" x=\"162\" y=\"-755.3\">output:</text>\n<polyline fill=\"none\" points=\"191,-747.5 191,-793.5 \" stroke=\"#000000\"/>\n<text fill=\"#000000\" font-family=\"Times,serif\" font-size=\"14.00\" text-anchor=\"middle\" x=\"249.5\" y=\"-778.3\">(None, 64, 64, 1)</text>\n<polyline fill=\"none\" points=\"191,-770.5 308,-770.5 \" stroke=\"#000000\"/>\n<text fill=\"#000000\" font-family=\"Times,serif\" font-size=\"14.00\" text-anchor=\"middle\" x=\"249.5\" y=\"-755.3\">(None, 64, 64, 1)</text>\n</g>\n<!-- 140240309878912 -->\n<g class=\"node\" id=\"node3\">\n<title>140240309878912</title>\n<polygon fill=\"none\" points=\"173,-664.5 173,-710.5 461,-710.5 461,-664.5 173,-664.5\" stroke=\"#000000\"/>\n<text fill=\"#000000\" font-family=\"Times,serif\" font-size=\"14.00\" text-anchor=\"middle\" x=\"229.5\" y=\"-683.8\">model_3: Model</text>\n<polyline fill=\"none\" points=\"286,-664.5 286,-710.5 \" stroke=\"#000000\"/>\n<text fill=\"#000000\" font-family=\"Times,serif\" font-size=\"14.00\" text-anchor=\"middle\" x=\"315\" y=\"-695.3\">input:</text>\n<polyline fill=\"none\" points=\"286,-687.5 344,-687.5 \" stroke=\"#000000\"/>\n<text fill=\"#000000\" font-family=\"Times,serif\" font-size=\"14.00\" text-anchor=\"middle\" x=\"315\" y=\"-672.3\">output:</text>\n<polyline fill=\"none\" points=\"344,-664.5 344,-710.5 \" stroke=\"#000000\"/>\n<text fill=\"#000000\" font-family=\"Times,serif\" font-size=\"14.00\" text-anchor=\"middle\" x=\"402.5\" y=\"-695.3\">(None, 64, 64, 1)</text>\n<polyline fill=\"none\" points=\"344,-687.5 461,-687.5 \" stroke=\"#000000\"/>\n<text fill=\"#000000\" font-family=\"Times,serif\" font-size=\"14.00\" text-anchor=\"middle\" x=\"402.5\" y=\"-672.3\">(None, 576)</text>\n</g>\n<!-- 140240345265208&#45;&gt;140240309878912 -->\n<g class=\"edge\" id=\"edge1\">\n<title>140240345265208-&gt;140240309878912</title>\n<path d=\"M199.4046,-747.3799C219.0162,-737.3936 242.1223,-725.6279 262.6383,-715.1811\" fill=\"none\" stroke=\"#000000\"/>\n<polygon fill=\"#000000\" points=\"264.2334,-718.2966 271.5565,-710.6399 261.0571,-712.0587 264.2334,-718.2966\" stroke=\"#000000\"/>\n</g>\n<!-- 140240309944392 -->\n<g class=\"node\" id=\"node2\">\n<title>140240309944392</title>\n<polygon fill=\"none\" points=\"326,-747.5 326,-793.5 634,-793.5 634,-747.5 326,-747.5\" stroke=\"#000000\"/>\n<text fill=\"#000000\" font-family=\"Times,serif\" font-size=\"14.00\" text-anchor=\"middle\" x=\"392.5\" y=\"-766.8\">input_4: InputLayer</text>\n<polyline fill=\"none\" points=\"459,-747.5 459,-793.5 \" stroke=\"#000000\"/>\n<text fill=\"#000000\" font-family=\"Times,serif\" font-size=\"14.00\" text-anchor=\"middle\" x=\"488\" y=\"-778.3\">input:</text>\n<polyline fill=\"none\" points=\"459,-770.5 517,-770.5 \" stroke=\"#000000\"/>\n<text fill=\"#000000\" font-family=\"Times,serif\" font-size=\"14.00\" text-anchor=\"middle\" x=\"488\" y=\"-755.3\">output:</text>\n<polyline fill=\"none\" points=\"517,-747.5 517,-793.5 \" stroke=\"#000000\"/>\n<text fill=\"#000000\" font-family=\"Times,serif\" font-size=\"14.00\" text-anchor=\"middle\" x=\"575.5\" y=\"-778.3\">(None, 64, 64, 1)</text>\n<polyline fill=\"none\" points=\"517,-770.5 634,-770.5 \" stroke=\"#000000\"/>\n<text fill=\"#000000\" font-family=\"Times,serif\" font-size=\"14.00\" text-anchor=\"middle\" x=\"575.5\" y=\"-755.3\">(None, 64, 64, 1)</text>\n</g>\n<!-- 140240309944392&#45;&gt;140240309878912 -->\n<g class=\"edge\" id=\"edge2\">\n<title>140240309944392-&gt;140240309878912</title>\n<path d=\"M434.5954,-747.3799C414.9838,-737.3936 391.8777,-725.6279 371.3617,-715.1811\" fill=\"none\" stroke=\"#000000\"/>\n<polygon fill=\"#000000\" points=\"372.9429,-712.0587 362.4435,-710.6399 369.7666,-718.2966 372.9429,-712.0587\" stroke=\"#000000\"/>\n</g>\n<!-- 140240309948368 -->\n<g class=\"node\" id=\"node4\">\n<title>140240309948368</title>\n<polygon fill=\"none\" points=\"119,-581.5 119,-627.5 515,-627.5 515,-581.5 119,-581.5\" stroke=\"#000000\"/>\n<text fill=\"#000000\" font-family=\"Times,serif\" font-size=\"14.00\" text-anchor=\"middle\" x=\"201\" y=\"-600.8\">concat_feats: Concatenate</text>\n<polyline fill=\"none\" points=\"283,-581.5 283,-627.5 \" stroke=\"#000000\"/>\n<text fill=\"#000000\" font-family=\"Times,serif\" font-size=\"14.00\" text-anchor=\"middle\" x=\"312\" y=\"-612.3\">input:</text>\n<polyline fill=\"none\" points=\"283,-604.5 341,-604.5 \" stroke=\"#000000\"/>\n<text fill=\"#000000\" font-family=\"Times,serif\" font-size=\"14.00\" text-anchor=\"middle\" x=\"312\" y=\"-589.3\">output:</text>\n<polyline fill=\"none\" points=\"341,-581.5 341,-627.5 \" stroke=\"#000000\"/>\n<text fill=\"#000000\" font-family=\"Times,serif\" font-size=\"14.00\" text-anchor=\"middle\" x=\"428\" y=\"-612.3\">[(None, 576), (None, 576)]</text>\n<polyline fill=\"none\" points=\"341,-604.5 515,-604.5 \" stroke=\"#000000\"/>\n<text fill=\"#000000\" font-family=\"Times,serif\" font-size=\"14.00\" text-anchor=\"middle\" x=\"428\" y=\"-589.3\">(None, 1152)</text>\n</g>\n<!-- 140240309878912&#45;&gt;140240309948368 -->\n<g class=\"edge\" id=\"edge3\">\n<title>140240309878912-&gt;140240309948368</title>\n<path d=\"M317,-664.3799C317,-656.1745 317,-646.7679 317,-637.8786\" fill=\"none\" stroke=\"#000000\"/>\n<polygon fill=\"#000000\" points=\"320.5001,-637.784 317,-627.784 313.5001,-637.784 320.5001,-637.784\" stroke=\"#000000\"/>\n</g>\n<!-- 140240309948312 -->\n<g class=\"node\" id=\"node5\">\n<title>140240309948312</title>\n<polygon fill=\"none\" points=\"187,-498.5 187,-544.5 447,-544.5 447,-498.5 187,-498.5\" stroke=\"#000000\"/>\n<text fill=\"#000000\" font-family=\"Times,serif\" font-size=\"14.00\" text-anchor=\"middle\" x=\"240.5\" y=\"-517.8\">dense_1: Dense</text>\n<polyline fill=\"none\" points=\"294,-498.5 294,-544.5 \" stroke=\"#000000\"/>\n<text fill=\"#000000\" font-family=\"Times,serif\" font-size=\"14.00\" text-anchor=\"middle\" x=\"323\" y=\"-529.3\">input:</text>\n<polyline fill=\"none\" points=\"294,-521.5 352,-521.5 \" stroke=\"#000000\"/>\n<text fill=\"#000000\" font-family=\"Times,serif\" font-size=\"14.00\" text-anchor=\"middle\" x=\"323\" y=\"-506.3\">output:</text>\n<polyline fill=\"none\" points=\"352,-498.5 352,-544.5 \" stroke=\"#000000\"/>\n<text fill=\"#000000\" font-family=\"Times,serif\" font-size=\"14.00\" text-anchor=\"middle\" x=\"399.5\" y=\"-529.3\">(None, 1152)</text>\n<polyline fill=\"none\" points=\"352,-521.5 447,-521.5 \" stroke=\"#000000\"/>\n<text fill=\"#000000\" font-family=\"Times,serif\" font-size=\"14.00\" text-anchor=\"middle\" x=\"399.5\" y=\"-506.3\">(None, 1024)</text>\n</g>\n<!-- 140240309948368&#45;&gt;140240309948312 -->\n<g class=\"edge\" id=\"edge5\">\n<title>140240309948368-&gt;140240309948312</title>\n<path d=\"M317,-581.3799C317,-573.1745 317,-563.7679 317,-554.8786\" fill=\"none\" stroke=\"#000000\"/>\n<polygon fill=\"#000000\" points=\"320.5001,-554.784 317,-544.784 313.5001,-554.784 320.5001,-554.784\" stroke=\"#000000\"/>\n</g>\n<!-- 140240309539784 -->\n<g class=\"node\" id=\"node6\">\n<title>140240309539784</title>\n<polygon fill=\"none\" points=\"105,-415.5 105,-461.5 529,-461.5 529,-415.5 105,-415.5\" stroke=\"#000000\"/>\n<text fill=\"#000000\" font-family=\"Times,serif\" font-size=\"14.00\" text-anchor=\"middle\" x=\"240.5\" y=\"-434.8\">batch_normalization_1: BatchNormalization</text>\n<polyline fill=\"none\" points=\"376,-415.5 376,-461.5 \" stroke=\"#000000\"/>\n<text fill=\"#000000\" font-family=\"Times,serif\" font-size=\"14.00\" text-anchor=\"middle\" x=\"405\" y=\"-446.3\">input:</text>\n<polyline fill=\"none\" points=\"376,-438.5 434,-438.5 \" stroke=\"#000000\"/>\n<text fill=\"#000000\" font-family=\"Times,serif\" font-size=\"14.00\" text-anchor=\"middle\" x=\"405\" y=\"-423.3\">output:</text>\n<polyline fill=\"none\" points=\"434,-415.5 434,-461.5 \" stroke=\"#000000\"/>\n<text fill=\"#000000\" font-family=\"Times,serif\" font-size=\"14.00\" text-anchor=\"middle\" x=\"481.5\" y=\"-446.3\">(None, 1024)</text>\n<polyline fill=\"none\" points=\"434,-438.5 529,-438.5 \" stroke=\"#000000\"/>\n<text fill=\"#000000\" font-family=\"Times,serif\" font-size=\"14.00\" text-anchor=\"middle\" x=\"481.5\" y=\"-423.3\">(None, 1024)</text>\n</g>\n<!-- 140240309948312&#45;&gt;140240309539784 -->\n<g class=\"edge\" id=\"edge6\">\n<title>140240309948312-&gt;140240309539784</title>\n<path d=\"M317,-498.3799C317,-490.1745 317,-480.7679 317,-471.8786\" fill=\"none\" stroke=\"#000000\"/>\n<polygon fill=\"#000000\" points=\"320.5001,-471.784 317,-461.784 313.5001,-471.784 320.5001,-471.784\" stroke=\"#000000\"/>\n</g>\n<!-- 140240309424080 -->\n<g class=\"node\" id=\"node7\">\n<title>140240309424080</title>\n<polygon fill=\"none\" points=\"163.5,-332.5 163.5,-378.5 470.5,-378.5 470.5,-332.5 163.5,-332.5\" stroke=\"#000000\"/>\n<text fill=\"#000000\" font-family=\"Times,serif\" font-size=\"14.00\" text-anchor=\"middle\" x=\"240.5\" y=\"-351.8\">activation_1: Activation</text>\n<polyline fill=\"none\" points=\"317.5,-332.5 317.5,-378.5 \" stroke=\"#000000\"/>\n<text fill=\"#000000\" font-family=\"Times,serif\" font-size=\"14.00\" text-anchor=\"middle\" x=\"346.5\" y=\"-363.3\">input:</text>\n<polyline fill=\"none\" points=\"317.5,-355.5 375.5,-355.5 \" stroke=\"#000000\"/>\n<text fill=\"#000000\" font-family=\"Times,serif\" font-size=\"14.00\" text-anchor=\"middle\" x=\"346.5\" y=\"-340.3\">output:</text>\n<polyline fill=\"none\" points=\"375.5,-332.5 375.5,-378.5 \" stroke=\"#000000\"/>\n<text fill=\"#000000\" font-family=\"Times,serif\" font-size=\"14.00\" text-anchor=\"middle\" x=\"423\" y=\"-363.3\">(None, 1024)</text>\n<polyline fill=\"none\" points=\"375.5,-355.5 470.5,-355.5 \" stroke=\"#000000\"/>\n<text fill=\"#000000\" font-family=\"Times,serif\" font-size=\"14.00\" text-anchor=\"middle\" x=\"423\" y=\"-340.3\">(None, 1024)</text>\n</g>\n<!-- 140240309539784&#45;&gt;140240309424080 -->\n<g class=\"edge\" id=\"edge7\">\n<title>140240309539784-&gt;140240309424080</title>\n<path d=\"M317,-415.3799C317,-407.1745 317,-397.7679 317,-388.8786\" fill=\"none\" stroke=\"#000000\"/>\n<polygon fill=\"#000000\" points=\"320.5001,-388.784 317,-378.784 313.5001,-388.784 320.5001,-388.784\" stroke=\"#000000\"/>\n</g>\n<!-- 140240308993272 -->\n<g class=\"node\" id=\"node8\">\n<title>140240308993272</title>\n<polygon fill=\"none\" points=\"187,-249.5 187,-295.5 447,-295.5 447,-249.5 187,-249.5\" stroke=\"#000000\"/>\n<text fill=\"#000000\" font-family=\"Times,serif\" font-size=\"14.00\" text-anchor=\"middle\" x=\"240.5\" y=\"-268.8\">dense_2: Dense</text>\n<polyline fill=\"none\" points=\"294,-249.5 294,-295.5 \" stroke=\"#000000\"/>\n<text fill=\"#000000\" font-family=\"Times,serif\" font-size=\"14.00\" text-anchor=\"middle\" x=\"323\" y=\"-280.3\">input:</text>\n<polyline fill=\"none\" points=\"294,-272.5 352,-272.5 \" stroke=\"#000000\"/>\n<text fill=\"#000000\" font-family=\"Times,serif\" font-size=\"14.00\" text-anchor=\"middle\" x=\"323\" y=\"-257.3\">output:</text>\n<polyline fill=\"none\" points=\"352,-249.5 352,-295.5 \" stroke=\"#000000\"/>\n<text fill=\"#000000\" font-family=\"Times,serif\" font-size=\"14.00\" text-anchor=\"middle\" x=\"399.5\" y=\"-280.3\">(None, 1024)</text>\n<polyline fill=\"none\" points=\"352,-272.5 447,-272.5 \" stroke=\"#000000\"/>\n<text fill=\"#000000\" font-family=\"Times,serif\" font-size=\"14.00\" text-anchor=\"middle\" x=\"399.5\" y=\"-257.3\">(None, 4)</text>\n</g>\n<!-- 140240309424080&#45;&gt;140240308993272 -->\n<g class=\"edge\" id=\"edge8\">\n<title>140240309424080-&gt;140240308993272</title>\n<path d=\"M317,-332.3799C317,-324.1745 317,-314.7679 317,-305.8786\" fill=\"none\" stroke=\"#000000\"/>\n<polygon fill=\"#000000\" points=\"320.5001,-305.784 317,-295.784 313.5001,-305.784 320.5001,-305.784\" stroke=\"#000000\"/>\n</g>\n<!-- 140240308871120 -->\n<g class=\"node\" id=\"node9\">\n<title>140240308871120</title>\n<polygon fill=\"none\" points=\"116.5,-166.5 116.5,-212.5 517.5,-212.5 517.5,-166.5 116.5,-166.5\" stroke=\"#000000\"/>\n<text fill=\"#000000\" font-family=\"Times,serif\" font-size=\"14.00\" text-anchor=\"middle\" x=\"252\" y=\"-185.8\">batch_normalization_2: BatchNormalization</text>\n<polyline fill=\"none\" points=\"387.5,-166.5 387.5,-212.5 \" stroke=\"#000000\"/>\n<text fill=\"#000000\" font-family=\"Times,serif\" font-size=\"14.00\" text-anchor=\"middle\" x=\"416.5\" y=\"-197.3\">input:</text>\n<polyline fill=\"none\" points=\"387.5,-189.5 445.5,-189.5 \" stroke=\"#000000\"/>\n<text fill=\"#000000\" font-family=\"Times,serif\" font-size=\"14.00\" text-anchor=\"middle\" x=\"416.5\" y=\"-174.3\">output:</text>\n<polyline fill=\"none\" points=\"445.5,-166.5 445.5,-212.5 \" stroke=\"#000000\"/>\n<text fill=\"#000000\" font-family=\"Times,serif\" font-size=\"14.00\" text-anchor=\"middle\" x=\"481.5\" y=\"-197.3\">(None, 4)</text>\n<polyline fill=\"none\" points=\"445.5,-189.5 517.5,-189.5 \" stroke=\"#000000\"/>\n<text fill=\"#000000\" font-family=\"Times,serif\" font-size=\"14.00\" text-anchor=\"middle\" x=\"481.5\" y=\"-174.3\">(None, 4)</text>\n</g>\n<!-- 140240308993272&#45;&gt;140240308871120 -->\n<g class=\"edge\" id=\"edge9\">\n<title>140240308993272-&gt;140240308871120</title>\n<path d=\"M317,-249.3799C317,-241.1745 317,-231.7679 317,-222.8786\" fill=\"none\" stroke=\"#000000\"/>\n<polygon fill=\"#000000\" points=\"320.5001,-222.784 317,-212.784 313.5001,-222.784 320.5001,-222.784\" stroke=\"#000000\"/>\n</g>\n<!-- 140240309089392 -->\n<g class=\"node\" id=\"node10\">\n<title>140240309089392</title>\n<polygon fill=\"none\" points=\"175,-83.5 175,-129.5 459,-129.5 459,-83.5 175,-83.5\" stroke=\"#000000\"/>\n<text fill=\"#000000\" font-family=\"Times,serif\" font-size=\"14.00\" text-anchor=\"middle\" x=\"252\" y=\"-102.8\">activation_2: Activation</text>\n<polyline fill=\"none\" points=\"329,-83.5 329,-129.5 \" stroke=\"#000000\"/>\n<text fill=\"#000000\" font-family=\"Times,serif\" font-size=\"14.00\" text-anchor=\"middle\" x=\"358\" y=\"-114.3\">input:</text>\n<polyline fill=\"none\" points=\"329,-106.5 387,-106.5 \" stroke=\"#000000\"/>\n<text fill=\"#000000\" font-family=\"Times,serif\" font-size=\"14.00\" text-anchor=\"middle\" x=\"358\" y=\"-91.3\">output:</text>\n<polyline fill=\"none\" points=\"387,-83.5 387,-129.5 \" stroke=\"#000000\"/>\n<text fill=\"#000000\" font-family=\"Times,serif\" font-size=\"14.00\" text-anchor=\"middle\" x=\"423\" y=\"-114.3\">(None, 4)</text>\n<polyline fill=\"none\" points=\"387,-106.5 459,-106.5 \" stroke=\"#000000\"/>\n<text fill=\"#000000\" font-family=\"Times,serif\" font-size=\"14.00\" text-anchor=\"middle\" x=\"423\" y=\"-91.3\">(None, 4)</text>\n</g>\n<!-- 140240308871120&#45;&gt;140240309089392 -->\n<g class=\"edge\" id=\"edge10\">\n<title>140240308871120-&gt;140240309089392</title>\n<path d=\"M317,-166.3799C317,-158.1745 317,-148.7679 317,-139.8786\" fill=\"none\" stroke=\"#000000\"/>\n<polygon fill=\"#000000\" points=\"320.5001,-139.784 317,-129.784 313.5001,-139.784 320.5001,-139.784\" stroke=\"#000000\"/>\n</g>\n<!-- 140240308018704 -->\n<g class=\"node\" id=\"node11\">\n<title>140240308018704</title>\n<polygon fill=\"none\" points=\"198.5,-.5 198.5,-46.5 435.5,-46.5 435.5,-.5 198.5,-.5\" stroke=\"#000000\"/>\n<text fill=\"#000000\" font-family=\"Times,serif\" font-size=\"14.00\" text-anchor=\"middle\" x=\"252\" y=\"-19.8\">dense_3: Dense</text>\n<polyline fill=\"none\" points=\"305.5,-.5 305.5,-46.5 \" stroke=\"#000000\"/>\n<text fill=\"#000000\" font-family=\"Times,serif\" font-size=\"14.00\" text-anchor=\"middle\" x=\"334.5\" y=\"-31.3\">input:</text>\n<polyline fill=\"none\" points=\"305.5,-23.5 363.5,-23.5 \" stroke=\"#000000\"/>\n<text fill=\"#000000\" font-family=\"Times,serif\" font-size=\"14.00\" text-anchor=\"middle\" x=\"334.5\" y=\"-8.3\">output:</text>\n<polyline fill=\"none\" points=\"363.5,-.5 363.5,-46.5 \" stroke=\"#000000\"/>\n<text fill=\"#000000\" font-family=\"Times,serif\" font-size=\"14.00\" text-anchor=\"middle\" x=\"399.5\" y=\"-31.3\">(None, 4)</text>\n<polyline fill=\"none\" points=\"363.5,-23.5 435.5,-23.5 \" stroke=\"#000000\"/>\n<text fill=\"#000000\" font-family=\"Times,serif\" font-size=\"14.00\" text-anchor=\"middle\" x=\"399.5\" y=\"-8.3\">(None, 1)</text>\n</g>\n<!-- 140240309089392&#45;&gt;140240308018704 -->\n<g class=\"edge\" id=\"edge11\">\n<title>140240309089392-&gt;140240308018704</title>\n<path d=\"M317,-83.3799C317,-75.1745 317,-65.7679 317,-56.8786\" fill=\"none\" stroke=\"#000000\"/>\n<polygon fill=\"#000000\" points=\"320.5001,-56.784 317,-46.784 313.5001,-56.784 320.5001,-56.784\" stroke=\"#000000\"/>\n</g>\n</g>\n</svg>"
          },
          "metadata": {
            "tags": []
          }
        }
      ]
    },
    {
      "metadata": {
        "id": "UiFjtanaQrfE",
        "colab_type": "text"
      },
      "cell_type": "markdown",
      "source": [
        "### Seen Dataset"
      ]
    },
    {
      "metadata": {
        "id": "bGstKvGnHW8x",
        "colab_type": "code",
        "colab": {}
      },
      "cell_type": "code",
      "source": [
        "filepath=\"weights-improvement-seen-functionalModel-{epoch:02d}-{val_accuracy:.2f}.hdf5\"\n",
        "\n",
        "checkpoint = ModelCheckpoint(filepath, monitor='val_binary_accuracy', verbose=1, save_best_only=True, mode='auto')\n",
        "\n",
        "tbCallBack = TensorBoard(log_dir='./log/keras/seen/CNNFunctFeat/run2', histogram_freq=0,\n",
        "                         write_graph=True,\n",
        "                         write_grads=True,\n",
        "                         batch_size=batchSize,\n",
        "                         write_images=True)"
      ],
      "execution_count": 0,
      "outputs": []
    },
    {
      "metadata": {
        "id": "Mrt3FOqBHcuu",
        "colab_type": "code",
        "colab": {}
      },
      "cell_type": "code",
      "source": [
        "similarity_model.fit_generator(generator=trainingBatchGen,\n",
        "                    steps_per_epoch=(len(lookupSeenTrain) // batchSize),\n",
        "                    epochs=numEpochs,\n",
        "                    verbose=1,\n",
        "                    validation_data=validateBatchGen,\n",
        "                    validation_steps=(len(lookupSeenValidate) // batchSize),\n",
        "                    use_multiprocessing=True,\n",
        "                    initial_epoch=0,\n",
        "                    workers=128,\n",
        "                    max_queue_size=64,\n",
        "                   callbacks=[checkpoint,tbCallBack])"
      ],
      "execution_count": 0,
      "outputs": []
    },
    {
      "metadata": {
        "id": "mD1HGWjq9WCC",
        "colab_type": "text"
      },
      "cell_type": "markdown",
      "source": [
        "### Shuffled"
      ]
    },
    {
      "metadata": {
        "id": "WP2NneVO9XtP",
        "colab_type": "code",
        "colab": {}
      },
      "cell_type": "code",
      "source": [
        "trainingBatchGen = genDataShuffled(lookupShuffledTrain,batchSize,\"train\",\"cnn\")\n",
        "validateBatchGen = genDataShuffled(lookupShuffledValidate,batchSize,\"validate\",\"cnn\")\n",
        "\n",
        "filepath=\"weights-improvement-Shuffled-functionalModel-{epoch:02d}-{val_accuracy:.2f}.hdf5\"\n",
        "\n",
        "checkpoint = ModelCheckpoint(filepath, monitor='val_binary_accuracy', verbose=1, save_best_only=True, mode='auto')\n",
        "\n",
        "\n",
        "tbCallBack = TensorBoard(log_dir='./log/keras/shuffled/CNNFunctFeat/run2', histogram_freq=0,\n",
        "                         write_graph=True,\n",
        "                         write_grads=True,\n",
        "                         batch_size=batchSize,\n",
        "                         write_images=True)"
      ],
      "execution_count": 0,
      "outputs": []
    },
    {
      "metadata": {
        "id": "LpuEpjU79br0",
        "colab_type": "code",
        "colab": {}
      },
      "cell_type": "code",
      "source": [
        "similarity_model.fit_generator(generator=trainingBatchGen,\n",
        "                    steps_per_epoch=(len(lookupSeenTrain) // batchSize),\n",
        "                    epochs=numEpochs,\n",
        "                    verbose=1,\n",
        "                    validation_data=validateBatchGen,\n",
        "                    validation_steps=(len(lookupSeenValidate) // batchSize),\n",
        "                    use_multiprocessing=True,\n",
        "                    initial_epoch=0,\n",
        "                    workers=128,\n",
        "                    max_queue_size=64,\n",
        "                   callbacks=[checkpoint,tbCallBack])"
      ],
      "execution_count": 0,
      "outputs": []
    },
    {
      "metadata": {
        "id": "JbLd0wQEzvPV",
        "colab_type": "text"
      },
      "cell_type": "markdown",
      "source": [
        "### Unseen"
      ]
    },
    {
      "metadata": {
        "id": "Lb1Ml7Mtzwng",
        "colab_type": "code",
        "colab": {}
      },
      "cell_type": "code",
      "source": [
        "trainingBatchGen = genDataUnseen(lookupUnseenTrain,batchSize,\"train\",\"cnn\")\n",
        "validateBatchGen = genDataUnseen(lookupUnseenValidate,batchSize,\"validate\",\"cnn\")\n",
        "\n",
        "filepath=\"weights-improvement-unseen-functionalModel-{epoch:02d}-{val_binary_accuracy:.2f}.hdf5\"\n",
        "\n",
        "checkpoint = ModelCheckpoint(filepath, monitor='val_binary_accuracy', verbose=1, save_best_only=True, mode='auto')\n",
        "\n",
        "\n",
        "tbCallBack = TensorBoard(log_dir='./log/keras/unseen/CNNFunctFeat/run2', histogram_freq=0,\n",
        "                         write_graph=True,\n",
        "                         write_grads=True,\n",
        "                         batch_size=batchSize,\n",
        "                         write_images=True)"
      ],
      "execution_count": 0,
      "outputs": []
    },
    {
      "metadata": {
        "id": "I2XSuS65z8Xj",
        "colab_type": "code",
        "colab": {}
      },
      "cell_type": "code",
      "source": [
        "similarity_model.fit_generator(generator=trainingBatchGen,\n",
        "                    steps_per_epoch=(len(lookupUnseenTrain) // batchSize),\n",
        "                    epochs=numEpochs,\n",
        "                    verbose=1,\n",
        "                    validation_data=validateBatchGen,\n",
        "                    validation_steps=(len(lookupUnseenTrain) // batchSize),\n",
        "                    use_multiprocessing=False,\n",
        "                    initial_epoch=0,\n",
        "                    workers=128,\n",
        "                    max_queue_size=64,\n",
        "                   callbacks=[checkpoint,tbCallBack])"
      ],
      "execution_count": 0,
      "outputs": []
    },
    {
      "metadata": {
        "id": "dewcTaURMEAk",
        "colab_type": "code",
        "colab": {
          "base_uri": "https://localhost:8080/",
          "height": 34
        },
        "outputId": "de5e85dd-442e-4d0d-a29c-9111d32d093b"
      },
      "cell_type": "code",
      "source": [
        "similarity_model.evaluate_generator(validateBatchGen)"
      ],
      "execution_count": 29,
      "outputs": [
        {
          "output_type": "execute_result",
          "data": {
            "text/plain": [
              "[1.2332632030759538, 0.49888392857142855]"
            ]
          },
          "metadata": {
            "tags": []
          },
          "execution_count": 29
        }
      ]
    },
    {
      "metadata": {
        "id": "y8zwx4ZwtP15",
        "colab_type": "text"
      },
      "cell_type": "markdown",
      "source": [
        "## Best Model"
      ]
    },
    {
      "metadata": {
        "id": "YYTSc2aY0P4z",
        "colab_type": "code",
        "outputId": "d832c706-53e2-496a-c36c-f76c655ff587",
        "colab": {
          "base_uri": "https://localhost:8080/",
          "height": 315
        }
      },
      "cell_type": "code",
      "source": [
        "inputShape = (64, 64, 1)\n",
        "\n",
        "def featureGenCNN(input_shape):\n",
        "  _input = Input(input_shape)\n",
        "  layer = Conv2D(32,kernel_size=(3, 3),activation='relu',input_shape=input_shape,padding='same',\n",
        "                kernel_regularizer=l1_l2(l1=0.001, l2=0.001), bias_regularizer=l1_l2(l1=0.01, l2=0.01))(_input)\n",
        "  layer = MaxPooling2D((2,2))(layer)\n",
        "  layer = Conv2D(64, (3, 3), activation='relu',padding='same',\n",
        "                kernel_regularizer=l1_l2(l1=0.001, l2=0.001), bias_regularizer=l1_l2(l1=0.01, l2=0.01))(layer)\n",
        "  layer = MaxPooling2D((2,2))(layer)\n",
        "  layer = Conv2D(32, (1, 1), activation='relu',padding='same',\n",
        "                kernel_regularizer=l1_l2(l1=0.001, l2=0.001), bias_regularizer=l1_l2(l1=0.01, l2=0.01))(layer)\n",
        "  layer = MaxPooling2D((2,2))(layer)\n",
        "  layer = Flatten()(layer)\n",
        "  return Model(_input,layer)\n",
        "\n",
        "featureGeneratorModel = featureGenCNN(inputShape)\n",
        "leftDataLayer = Input(shape = inputShape, name = 'left_img')\n",
        "rightDataLayer = Input(shape = inputShape, name = 'right_img')\n",
        "\n",
        "left_feats = featureGeneratorModel(leftDataLayer)\n",
        "right_feats = featureGeneratorModel(rightDataLayer)\n",
        "\n",
        "distanceLayer = Lambda(euclidean_distance,\n",
        "                       output_shape=eucl_dist_output_shape,name=\"EuclDist\")([left_feats, right_feats])\n",
        "\n",
        "siameseDistPlus = Model([leftDataLayer, rightDataLayer], distanceLayer)\n",
        "\n",
        "rms = RMSprop()\n",
        "\n",
        "siameseDistPlus.compile(loss=contrastive_loss, optimizer=rms, metrics=[accuracy])\n",
        "display(SVG(model_to_dot(siameseDistPlus, show_layer_names=True, show_shapes=True, rankdir='TB').create(prog='dot', format='svg')))"
      ],
      "execution_count": 30,
      "outputs": [
        {
          "output_type": "display_data",
          "data": {
            "text/plain": [
              "<IPython.core.display.SVG object>"
            ],
            "image/svg+xml": "<svg height=\"221pt\" viewBox=\"0.00 0.00 657.50 221.00\" width=\"658pt\" xmlns=\"http://www.w3.org/2000/svg\" xmlns:xlink=\"http://www.w3.org/1999/xlink\">\n<g class=\"graph\" id=\"graph0\" transform=\"scale(1 1) rotate(0) translate(4 217)\">\n<title>G</title>\n<polygon fill=\"#ffffff\" points=\"-4,4 -4,-217 653.5,-217 653.5,4 -4,4\" stroke=\"transparent\"/>\n<!-- 140240288312288 -->\n<g class=\"node\" id=\"node1\">\n<title>140240288312288</title>\n<polygon fill=\"none\" points=\"0,-166.5 0,-212.5 311,-212.5 311,-166.5 0,-166.5\" stroke=\"#000000\"/>\n<text fill=\"#000000\" font-family=\"Times,serif\" font-size=\"14.00\" text-anchor=\"middle\" x=\"68\" y=\"-185.8\">left_img: InputLayer</text>\n<polyline fill=\"none\" points=\"136,-166.5 136,-212.5 \" stroke=\"#000000\"/>\n<text fill=\"#000000\" font-family=\"Times,serif\" font-size=\"14.00\" text-anchor=\"middle\" x=\"165\" y=\"-197.3\">input:</text>\n<polyline fill=\"none\" points=\"136,-189.5 194,-189.5 \" stroke=\"#000000\"/>\n<text fill=\"#000000\" font-family=\"Times,serif\" font-size=\"14.00\" text-anchor=\"middle\" x=\"165\" y=\"-174.3\">output:</text>\n<polyline fill=\"none\" points=\"194,-166.5 194,-212.5 \" stroke=\"#000000\"/>\n<text fill=\"#000000\" font-family=\"Times,serif\" font-size=\"14.00\" text-anchor=\"middle\" x=\"252.5\" y=\"-197.3\">(None, 64, 64, 1)</text>\n<polyline fill=\"none\" points=\"194,-189.5 311,-189.5 \" stroke=\"#000000\"/>\n<text fill=\"#000000\" font-family=\"Times,serif\" font-size=\"14.00\" text-anchor=\"middle\" x=\"252.5\" y=\"-174.3\">(None, 64, 64, 1)</text>\n</g>\n<!-- 140240286428464 -->\n<g class=\"node\" id=\"node3\">\n<title>140240286428464</title>\n<polygon fill=\"none\" points=\"178.5,-83.5 178.5,-129.5 466.5,-129.5 466.5,-83.5 178.5,-83.5\" stroke=\"#000000\"/>\n<text fill=\"#000000\" font-family=\"Times,serif\" font-size=\"14.00\" text-anchor=\"middle\" x=\"235\" y=\"-102.8\">model_4: Model</text>\n<polyline fill=\"none\" points=\"291.5,-83.5 291.5,-129.5 \" stroke=\"#000000\"/>\n<text fill=\"#000000\" font-family=\"Times,serif\" font-size=\"14.00\" text-anchor=\"middle\" x=\"320.5\" y=\"-114.3\">input:</text>\n<polyline fill=\"none\" points=\"291.5,-106.5 349.5,-106.5 \" stroke=\"#000000\"/>\n<text fill=\"#000000\" font-family=\"Times,serif\" font-size=\"14.00\" text-anchor=\"middle\" x=\"320.5\" y=\"-91.3\">output:</text>\n<polyline fill=\"none\" points=\"349.5,-83.5 349.5,-129.5 \" stroke=\"#000000\"/>\n<text fill=\"#000000\" font-family=\"Times,serif\" font-size=\"14.00\" text-anchor=\"middle\" x=\"408\" y=\"-114.3\">(None, 64, 64, 1)</text>\n<polyline fill=\"none\" points=\"349.5,-106.5 466.5,-106.5 \" stroke=\"#000000\"/>\n<text fill=\"#000000\" font-family=\"Times,serif\" font-size=\"14.00\" text-anchor=\"middle\" x=\"408\" y=\"-91.3\">(None, 2048)</text>\n</g>\n<!-- 140240288312288&#45;&gt;140240286428464 -->\n<g class=\"edge\" id=\"edge1\">\n<title>140240288312288-&gt;140240286428464</title>\n<path d=\"M202.0188,-166.3799C222.1117,-156.3936 245.7848,-144.6279 266.8043,-134.1811\" fill=\"none\" stroke=\"#000000\"/>\n<polygon fill=\"#000000\" points=\"268.5441,-137.2249 275.9413,-129.6399 265.4286,-130.9564 268.5441,-137.2249\" stroke=\"#000000\"/>\n</g>\n<!-- 140240286428520 -->\n<g class=\"node\" id=\"node2\">\n<title>140240286428520</title>\n<polygon fill=\"none\" points=\"329.5,-166.5 329.5,-212.5 649.5,-212.5 649.5,-166.5 329.5,-166.5\" stroke=\"#000000\"/>\n<text fill=\"#000000\" font-family=\"Times,serif\" font-size=\"14.00\" text-anchor=\"middle\" x=\"402\" y=\"-185.8\">right_img: InputLayer</text>\n<polyline fill=\"none\" points=\"474.5,-166.5 474.5,-212.5 \" stroke=\"#000000\"/>\n<text fill=\"#000000\" font-family=\"Times,serif\" font-size=\"14.00\" text-anchor=\"middle\" x=\"503.5\" y=\"-197.3\">input:</text>\n<polyline fill=\"none\" points=\"474.5,-189.5 532.5,-189.5 \" stroke=\"#000000\"/>\n<text fill=\"#000000\" font-family=\"Times,serif\" font-size=\"14.00\" text-anchor=\"middle\" x=\"503.5\" y=\"-174.3\">output:</text>\n<polyline fill=\"none\" points=\"532.5,-166.5 532.5,-212.5 \" stroke=\"#000000\"/>\n<text fill=\"#000000\" font-family=\"Times,serif\" font-size=\"14.00\" text-anchor=\"middle\" x=\"591\" y=\"-197.3\">(None, 64, 64, 1)</text>\n<polyline fill=\"none\" points=\"532.5,-189.5 649.5,-189.5 \" stroke=\"#000000\"/>\n<text fill=\"#000000\" font-family=\"Times,serif\" font-size=\"14.00\" text-anchor=\"middle\" x=\"591\" y=\"-174.3\">(None, 64, 64, 1)</text>\n</g>\n<!-- 140240286428520&#45;&gt;140240286428464 -->\n<g class=\"edge\" id=\"edge2\">\n<title>140240286428520-&gt;140240286428464</title>\n<path d=\"M442.9812,-166.3799C422.8883,-156.3936 399.2152,-144.6279 378.1957,-134.1811\" fill=\"none\" stroke=\"#000000\"/>\n<polygon fill=\"#000000\" points=\"379.5714,-130.9564 369.0587,-129.6399 376.4559,-137.2249 379.5714,-130.9564\" stroke=\"#000000\"/>\n</g>\n<!-- 140240269535944 -->\n<g class=\"node\" id=\"node4\">\n<title>140240269535944</title>\n<polygon fill=\"none\" points=\"138.5,-.5 138.5,-46.5 506.5,-46.5 506.5,-.5 138.5,-.5\" stroke=\"#000000\"/>\n<text fill=\"#000000\" font-family=\"Times,serif\" font-size=\"14.00\" text-anchor=\"middle\" x=\"199\" y=\"-19.8\">EuclDist: Lambda</text>\n<polyline fill=\"none\" points=\"259.5,-.5 259.5,-46.5 \" stroke=\"#000000\"/>\n<text fill=\"#000000\" font-family=\"Times,serif\" font-size=\"14.00\" text-anchor=\"middle\" x=\"288.5\" y=\"-31.3\">input:</text>\n<polyline fill=\"none\" points=\"259.5,-23.5 317.5,-23.5 \" stroke=\"#000000\"/>\n<text fill=\"#000000\" font-family=\"Times,serif\" font-size=\"14.00\" text-anchor=\"middle\" x=\"288.5\" y=\"-8.3\">output:</text>\n<polyline fill=\"none\" points=\"317.5,-.5 317.5,-46.5 \" stroke=\"#000000\"/>\n<text fill=\"#000000\" font-family=\"Times,serif\" font-size=\"14.00\" text-anchor=\"middle\" x=\"412\" y=\"-31.3\">[(None, 2048), (None, 2048)]</text>\n<polyline fill=\"none\" points=\"317.5,-23.5 506.5,-23.5 \" stroke=\"#000000\"/>\n<text fill=\"#000000\" font-family=\"Times,serif\" font-size=\"14.00\" text-anchor=\"middle\" x=\"412\" y=\"-8.3\">(None, 1)</text>\n</g>\n<!-- 140240286428464&#45;&gt;140240269535944 -->\n<g class=\"edge\" id=\"edge3\">\n<title>140240286428464-&gt;140240269535944</title>\n<path d=\"M322.5,-83.3799C322.5,-75.1745 322.5,-65.7679 322.5,-56.8786\" fill=\"none\" stroke=\"#000000\"/>\n<polygon fill=\"#000000\" points=\"326.0001,-56.784 322.5,-46.784 319.0001,-56.784 326.0001,-56.784\" stroke=\"#000000\"/>\n</g>\n</g>\n</svg>"
          },
          "metadata": {
            "tags": []
          }
        }
      ]
    },
    {
      "metadata": {
        "id": "wfl84idD0r7w",
        "colab_type": "text"
      },
      "cell_type": "markdown",
      "source": [
        "### Seen"
      ]
    },
    {
      "metadata": {
        "id": "DpfFfjcWqcGJ",
        "colab_type": "code",
        "colab": {}
      },
      "cell_type": "code",
      "source": [
        "batchSize = 512\n",
        "numEpochs = 20\n",
        "initialEpoch = 0\n",
        "\n",
        "trainingBatchGen = genDataSeen(lookupSeenTrain,batchSize,\"train\",\"cnn\")\n",
        "validateBatchGen = genDataSeen(lookupSeenValidate,batchSize,\"validate\",\"cnn\")\n",
        "\n",
        "filepath=\"weights-improvement-Seen-bestmodel?-{epoch:02d}-{val_accuracy:.2f}.hdf5\"\n",
        "\n",
        "checkpoint = ModelCheckpoint(filepath, monitor='val_accuracy', verbose=1, save_best_only=True, mode='auto')\n",
        "\n",
        "tbCallBack = TensorBoard(log_dir='./log/keras/seen/CNNLastModel/run5', histogram_freq=0,\n",
        "                         write_graph=True,\n",
        "                         write_grads=True,\n",
        "                         batch_size=batchSize,\n",
        "                         write_images=True)\n"
      ],
      "execution_count": 0,
      "outputs": []
    },
    {
      "metadata": {
        "id": "4Ychh0pHq1fr",
        "colab_type": "code",
        "colab": {}
      },
      "cell_type": "code",
      "source": [
        "siameseDistPlus.fit_generator(generator=trainingBatchGen,\n",
        "                              steps_per_epoch=(len(lookupSeenTrain) // batchSize),\n",
        "                              epochs=numEpochs,\n",
        "                              verbose=1,\n",
        "                              validation_data=validateBatchGen,\n",
        "                              validation_steps=(len(lookupSeenValidate) // batchSize),\n",
        "                              use_multiprocessing=True,\n",
        "                              initial_epoch=0,\n",
        "                              workers=128,\n",
        "                              max_queue_size=64,\n",
        "                              callbacks=[checkpoint,tbCallBack])"
      ],
      "execution_count": 0,
      "outputs": []
    },
    {
      "metadata": {
        "id": "ccBM1LLxNCbT",
        "colab_type": "code",
        "colab": {}
      },
      "cell_type": "code",
      "source": [
        "siameseDistPlus.load_weights(\"weights-improvement-bestmodel_-18-0.91.hdf5\")"
      ],
      "execution_count": 0,
      "outputs": []
    },
    {
      "metadata": {
        "id": "dsSazvaOOJHX",
        "colab_type": "code",
        "colab": {
          "base_uri": "https://localhost:8080/",
          "height": 34
        },
        "outputId": "e0352b65-aa0d-49b3-fc4f-1381fcf29c2a"
      },
      "cell_type": "code",
      "source": [
        "siameseDistPlus.evaluate_generator(validateBatchGen)"
      ],
      "execution_count": 58,
      "outputs": [
        {
          "output_type": "execute_result",
          "data": {
            "text/plain": [
              "[0.2560975253582001, 0.728515625]"
            ]
          },
          "metadata": {
            "tags": []
          },
          "execution_count": 58
        }
      ]
    },
    {
      "metadata": {
        "id": "fmBrwu909gH7",
        "colab_type": "text"
      },
      "cell_type": "markdown",
      "source": [
        "### Shuffled"
      ]
    },
    {
      "metadata": {
        "id": "iy_zeV1MuGB4",
        "colab_type": "code",
        "colab": {}
      },
      "cell_type": "code",
      "source": [
        "trainingBatchGen = genDataShuffled(lookupShuffledTrain,batchSize,\"train\",\"cnn\")\n",
        "validateBatchGen = genDataShuffled(lookupShuffledValidate,batchSize,\"validate\",\"cnn\")\n",
        "filepath=\"weights-improvement-shuffled-bestmodel?-{epoch:02d}-{val_accuracy:.2f}.hdf5\"\n",
        "\n",
        "checkpoint = ModelCheckpoint(filepath, monitor='val_accuracy', verbose=1, save_best_only=True, mode='auto')\n",
        "\n",
        "tbCallBack = TensorBoard(log_dir='./log/keras/shuffled/CNNLastModel/run2', histogram_freq=0,\n",
        "                         write_graph=True,\n",
        "                         write_grads=True,\n",
        "                         batch_size=batchSize,\n",
        "                         write_images=True)"
      ],
      "execution_count": 0,
      "outputs": []
    },
    {
      "metadata": {
        "id": "gt77EKM59l9e",
        "colab_type": "code",
        "colab": {}
      },
      "cell_type": "code",
      "source": [
        "siameseDistPlus.fit_generator(generator=trainingBatchGen,\n",
        "                              steps_per_epoch=(len(lookupShuffledTrain) // batchSize),\n",
        "                              epochs=numEpochs,\n",
        "                              verbose=1,\n",
        "                              validation_data=validateBatchGen,\n",
        "                              validation_steps=(len(lookupShuffledValidate) // batchSize),\n",
        "                              use_multiprocessing=True,\n",
        "                              initial_epoch=0,\n",
        "                              workers=128,\n",
        "                              max_queue_size=64,\n",
        "                              callbacks=[checkpoint,tbCallBack])"
      ],
      "execution_count": 0,
      "outputs": []
    },
    {
      "metadata": {
        "id": "BKMxHSYs0CEb",
        "colab_type": "text"
      },
      "cell_type": "markdown",
      "source": [
        "### Unseen"
      ]
    },
    {
      "metadata": {
        "id": "gJz82_0wVMTh",
        "colab_type": "code",
        "colab": {}
      },
      "cell_type": "code",
      "source": [
        "trainingBatchGen = genDataUnseen(lookupUnseenTrain,batchSize,\"train\",\"cnn\")\n",
        "validateBatchGen = genDataUnseen(lookupUnseenValidate,batchSize,\"validate\",\"cnn\")\n",
        "filepath=\"weights-improvement-unseen-bestmodel?-{epoch:02d}-{val_accuracy:.2f}.hdf5\"\n",
        "\n",
        "checkpoint = ModelCheckpoint(filepath, monitor='val_accuracy', verbose=1, save_best_only=True, mode='auto')\n",
        "\n",
        "tbCallBack = TensorBoard(log_dir='./log/keras/unseen/CNNLastModel/run2', histogram_freq=0,\n",
        "                         write_graph=True,\n",
        "                         write_grads=True,\n",
        "                         batch_size=batchSize,\n",
        "                         write_images=True)"
      ],
      "execution_count": 0,
      "outputs": []
    },
    {
      "metadata": {
        "id": "hq8L8dcy0KPl",
        "colab_type": "code",
        "colab": {}
      },
      "cell_type": "code",
      "source": [
        "siameseDistPlus.fit_generator(generator=trainingBatchGen,\n",
        "                              steps_per_epoch=(len(lookupUnseenTrain) // batchSize),\n",
        "                              epochs=numEpochs,\n",
        "                              verbose=1,\n",
        "                              validation_data=validateBatchGen,\n",
        "                              validation_steps=(len(lookupUnseenValidate) // batchSize),\n",
        "                              use_multiprocessing=True,\n",
        "                              initial_epoch=0,\n",
        "                              workers=128,\n",
        "                              max_queue_size=64,\n",
        "                              callbacks=[checkpoint,tbCallBack])"
      ],
      "execution_count": 0,
      "outputs": []
    },
    {
      "metadata": {
        "id": "UaxlrARl2opH",
        "colab_type": "code",
        "colab": {}
      },
      "cell_type": "code",
      "source": [
        ""
      ],
      "execution_count": 0,
      "outputs": []
    }
  ]
}