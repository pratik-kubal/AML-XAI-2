{
 "cells": [
  {
   "cell_type": "code",
   "execution_count": 2,
   "metadata": {},
   "outputs": [],
   "source": [
    "import pandas as pd\n",
    "import numpy as np"
   ]
  },
  {
   "cell_type": "code",
   "execution_count": 3,
   "metadata": {},
   "outputs": [],
   "source": [
    "data = pd.read_csv(\"../dataset/AND_dataset/AND_dataset/AND_features.csv\")\n",
    "data = data.iloc[:,1:]"
   ]
  },
  {
   "cell_type": "code",
   "execution_count": 26,
   "metadata": {},
   "outputs": [],
   "source": [
    "from pgmpy.estimators import HillClimbSearch, K2Score\n",
    "import networkx as nx\n",
    "import pylab as plt"
   ]
  },
  {
   "cell_type": "code",
   "execution_count": 4,
   "metadata": {},
   "outputs": [],
   "source": [
    "def genPositiveData(data):\n",
    "    skeleton = pd.DataFrame()\n",
    "    writers = np.unique(data.ImageId)\n",
    "    for writer in writers:\n",
    "        query = str(\"ImageId == '\"+str(writer)+\"'\")\n",
    "        test = data.query(str(query))\n",
    "        data1 = test.sample(frac=1)\n",
    "        data1 = data1.add_prefix('w1_')\n",
    "        data2 = test.sample(frac=1)\n",
    "        data2 = data2.add_prefix('w2_')\n",
    "        test = pd.concat([data1.reset_index(drop=True),data2.reset_index(drop=True)],axis=1)\n",
    "        skeleton = skeleton.append(test)\n",
    "    return skeleton\n",
    "\n",
    "def genNegativeData(data):\n",
    "    data1 = data.sample(frac=1)\n",
    "    data1 = data1.add_prefix('w1_')\n",
    "    data2 = data.sample(frac=1)\n",
    "    data2 = data2.add_prefix('w2_')\n",
    "    negSamples = pd.concat([data1.reset_index(drop=True),data2.reset_index(drop=True)],axis=1)\n",
    "    return negSamples"
   ]
  },
  {
   "cell_type": "code",
   "execution_count": 16,
   "metadata": {},
   "outputs": [
    {
     "name": "stdout",
     "output_type": "stream",
     "text": [
      "0\n",
      "2052\n",
      "4104\n",
      "6156\n",
      "8208\n",
      "10260\n"
     ]
    }
   ],
   "source": [
    "skeleton = pd.DataFrame()\n",
    "while(True):\n",
    "    samples = len(skeleton)\n",
    "    posData = genPositiveData(data)\n",
    "    negData = genNegativeData(data)\n",
    "    temp = negData.append(posData).reset_index(drop=True)\n",
    "    skeleton = temp.append(skeleton)\n",
    "    print(samples)\n",
    "    if samples > 10000:\n",
    "        break;"
   ]
  },
  {
   "cell_type": "code",
   "execution_count": 17,
   "metadata": {},
   "outputs": [],
   "source": [
    "bigBadDataset = skeleton"
   ]
  },
  {
   "cell_type": "code",
   "execution_count": 18,
   "metadata": {},
   "outputs": [],
   "source": [
    "bigBadDataset[\"sameWriter\"]=0"
   ]
  },
  {
   "cell_type": "code",
   "execution_count": 19,
   "metadata": {},
   "outputs": [],
   "source": [
    "bigBadDataset.sameWriter  = np.where(bigBadDataset[\"w1_ImageId\"] == bigBadDataset[\"w2_ImageId\"],1,0)"
   ]
  },
  {
   "cell_type": "code",
   "execution_count": 20,
   "metadata": {},
   "outputs": [],
   "source": [
    "bigBadDataset = bigBadDataset.drop([\"w1_ImageId\",\"w2_ImageId\"],axis=1)"
   ]
  },
  {
   "cell_type": "code",
   "execution_count": 21,
   "metadata": {},
   "outputs": [],
   "source": [
    "bigBadDataset.w1_f9 = bigBadDataset.w1_f9 - 1"
   ]
  },
  {
   "cell_type": "code",
   "execution_count": 22,
   "metadata": {},
   "outputs": [],
   "source": [
    "bigBadDataset.w2_f9 = bigBadDataset.w2_f9 - 1"
   ]
  },
  {
   "cell_type": "code",
   "execution_count": 23,
   "metadata": {},
   "outputs": [
    {
     "name": "stdout",
     "output_type": "stream",
     "text": [
      "0.5003248862897985\n",
      "0.4996751137102014\n"
     ]
    }
   ],
   "source": [
    "sameWriterHypothesis = len(bigBadDataset.query('sameWriter == 1' )) / len(bigBadDataset)\n",
    "print(sameWriterHypothesis)\n",
    "diffWriterHypothesis = len(bigBadDataset.query('sameWriter == 0' )) / len(bigBadDataset)\n",
    "print(diffWriterHypothesis)"
   ]
  },
  {
   "cell_type": "code",
   "execution_count": 24,
   "metadata": {},
   "outputs": [],
   "source": [
    "est = HillClimbSearch(bigBadDataset, scoring_method=K2Score(bigBadDataset))\n",
    "ssj3Model = est.estimate(max_indegree=3)"
   ]
  },
  {
   "cell_type": "code",
   "execution_count": 28,
   "metadata": {},
   "outputs": [
    {
     "ename": "AttributeError",
     "evalue": "module 'matplotlib.pyplot' has no attribute 'ishold'",
     "output_type": "error",
     "traceback": [
      "\u001b[0;31m---------------------------------------------------------------------------\u001b[0m",
      "\u001b[0;31mAttributeError\u001b[0m                            Traceback (most recent call last)",
      "\u001b[0;32m<ipython-input-28-cb2c2d590982>\u001b[0m in \u001b[0;36m<module>\u001b[0;34m\u001b[0m\n\u001b[0;32m----> 1\u001b[0;31m \u001b[0mnx\u001b[0m\u001b[0;34m.\u001b[0m\u001b[0mdraw\u001b[0m\u001b[0;34m(\u001b[0m\u001b[0mssj3Model\u001b[0m\u001b[0;34m,\u001b[0m \u001b[0mwith_labels\u001b[0m\u001b[0;34m=\u001b[0m\u001b[0;32mTrue\u001b[0m\u001b[0;34m)\u001b[0m\u001b[0;34m\u001b[0m\u001b[0;34m\u001b[0m\u001b[0m\n\u001b[0m\u001b[1;32m      2\u001b[0m \u001b[0mplt\u001b[0m\u001b[0;34m.\u001b[0m\u001b[0mshow\u001b[0m\u001b[0;34m(\u001b[0m\u001b[0;34m)\u001b[0m\u001b[0;34m\u001b[0m\u001b[0;34m\u001b[0m\u001b[0m\n",
      "\u001b[0;32m~/anaconda3/envs/amlPGMPY1.7/lib/python3.7/site-packages/networkx/drawing/nx_pylab.py\u001b[0m in \u001b[0;36mdraw\u001b[0;34m(G, pos, ax, hold, **kwds)\u001b[0m\n\u001b[1;32m    124\u001b[0m     \u001b[0;32mif\u001b[0m \u001b[0;34m'with_labels'\u001b[0m \u001b[0;32mnot\u001b[0m \u001b[0;32min\u001b[0m \u001b[0mkwds\u001b[0m\u001b[0;34m:\u001b[0m\u001b[0;34m\u001b[0m\u001b[0;34m\u001b[0m\u001b[0m\n\u001b[1;32m    125\u001b[0m         \u001b[0mkwds\u001b[0m\u001b[0;34m[\u001b[0m\u001b[0;34m'with_labels'\u001b[0m\u001b[0;34m]\u001b[0m \u001b[0;34m=\u001b[0m \u001b[0;34m'labels'\u001b[0m \u001b[0;32min\u001b[0m \u001b[0mkwds\u001b[0m\u001b[0;34m\u001b[0m\u001b[0;34m\u001b[0m\u001b[0m\n\u001b[0;32m--> 126\u001b[0;31m     \u001b[0mb\u001b[0m \u001b[0;34m=\u001b[0m \u001b[0mplt\u001b[0m\u001b[0;34m.\u001b[0m\u001b[0mishold\u001b[0m\u001b[0;34m(\u001b[0m\u001b[0;34m)\u001b[0m\u001b[0;34m\u001b[0m\u001b[0;34m\u001b[0m\u001b[0m\n\u001b[0m\u001b[1;32m    127\u001b[0m     \u001b[0;31m# allow callers to override the hold state by passing hold=True|False\u001b[0m\u001b[0;34m\u001b[0m\u001b[0;34m\u001b[0m\u001b[0;34m\u001b[0m\u001b[0m\n\u001b[1;32m    128\u001b[0m     \u001b[0mh\u001b[0m \u001b[0;34m=\u001b[0m \u001b[0mkwds\u001b[0m\u001b[0;34m.\u001b[0m\u001b[0mpop\u001b[0m\u001b[0;34m(\u001b[0m\u001b[0;34m'hold'\u001b[0m\u001b[0;34m,\u001b[0m \u001b[0;32mNone\u001b[0m\u001b[0;34m)\u001b[0m\u001b[0;34m\u001b[0m\u001b[0;34m\u001b[0m\u001b[0m\n",
      "\u001b[0;31mAttributeError\u001b[0m: module 'matplotlib.pyplot' has no attribute 'ishold'"
     ]
    },
    {
     "data": {
      "image/png": "[encoded data removed]",
      "text/plain": [
       "<Figure size 432x288 with 1 Axes>"
      ]
     },
     "metadata": {},
     "output_type": "display_data"
    }
   ],
   "source": [
    "nx.draw(ssj3Model, with_labels=True)\n",
    "plt.show()"
   ]
  },
  {
   "cell_type": "code",
   "execution_count": 35,
   "metadata": {},
   "outputs": [],
   "source": [
    "from pgmpy.estimators import MaximumLikelihoodEstimator"
   ]
  },
  {
   "cell_type": "code",
   "execution_count": 36,
   "metadata": {},
   "outputs": [],
   "source": [
    "mle = MaximumLikelihoodEstimator(ssj3Model, bigBadDataset)\n",
    "for var in bigBadDataset.columns:\n",
    "    ssj3Model.add_cpds(mle.estimate_cpd(var))"
   ]
  },
  {
   "cell_type": "code",
   "execution_count": null,
   "metadata": {},
   "outputs": [],
   "source": [
    "from pgmpy.readwrite import BIFWriter"
   ]
  },
  {
   "cell_type": "code",
   "execution_count": null,
   "metadata": {},
   "outputs": [],
   "source": [
    "model_data = BIFWriter(ssj4Model)\n",
    "model_data.write_bif(filename='ssj4Model.bif')"
   ]
  },
  {
   "cell_type": "code",
   "execution_count": null,
   "metadata": {},
   "outputs": [],
   "source": [
    "bigBadDataset"
   ]
  },
  {
   "cell_type": "code",
   "execution_count": 31,
   "metadata": {},
   "outputs": [],
   "source": [
    "from pgmpy.inference import VariableElimination"
   ]
  },
  {
   "cell_type": "code",
   "execution_count": 39,
   "metadata": {},
   "outputs": [],
   "source": [
    "inference = VariableElimination(ssj3Model)"
   ]
  },
  {
   "cell_type": "code",
   "execution_count": 38,
   "metadata": {},
   "outputs": [
    {
     "ename": "SyntaxError",
     "evalue": "invalid syntax (<ipython-input-38-eba7dccd9658>, line 1)",
     "output_type": "error",
     "traceback": [
      "\u001b[0;36m  File \u001b[0;32m\"<ipython-input-38-eba7dccd9658>\"\u001b[0;36m, line \u001b[0;32m1\u001b[0m\n\u001b[0;31m    3 \t1 \t0 \t2 \t2 \t2 \t0 \t0 \t1 \t2 \t4 \t1 \t4 \t2 \t2 \t0 \t2 \t1\u001b[0m\n\u001b[0m      \t^\u001b[0m\n\u001b[0;31mSyntaxError\u001b[0m\u001b[0;31m:\u001b[0m invalid syntax\n"
     ]
    }
   ],
   "source": [
    "3 \t1 \t0 \t2 \t2 \t2 \t0 \t0 \t1 \t2 \t4 \t1 \t4 \t2 \t2 \t0 \t2 \t1 \t"
   ]
  },
  {
   "cell_type": "code",
   "execution_count": 40,
   "metadata": {},
   "outputs": [],
   "source": [
    "test = inference.query(variables=['sameWriter'],evidence={'w1_f1':3, 'w1_f2':1, 'w1_f3':0, 'w1_f4':2, 'w1_f5':2, 'w1_f6':2, 'w1_f7':0, 'w1_f8':0, 'w1_f9':1, 'w2_f1':2, 'w2_f2':4, 'w2_f3':1, 'w2_f4':4,'w2_f5':2,'w2_f6':2,'w2_f7':0,'w2_f8':2,'w2_f9':1})"
   ]
  },
  {
   "cell_type": "code",
   "execution_count": 41,
   "metadata": {},
   "outputs": [
    {
     "name": "stdout",
     "output_type": "stream",
     "text": [
      "+--------------+-------------------+\n",
      "| sameWriter   |   phi(sameWriter) |\n",
      "+==============+===================+\n",
      "| sameWriter_0 |            1.0000 |\n",
      "+--------------+-------------------+\n",
      "| sameWriter_1 |            0.0000 |\n",
      "+--------------+-------------------+\n"
     ]
    }
   ],
   "source": [
    "print(test['sameWriter'])"
   ]
  },
  {
   "cell_type": "code",
   "execution_count": null,
   "metadata": {},
   "outputs": [],
   "source": [
    "acc = 0\n",
    "for rows in range(len(bigBadDataset)):\n",
    "    inf = inference.query(variables=['sameWriter'],evidence=\n",
    "               dict(zip(bigBadDataset.columns[:18],list(bigBadDataset.iloc[rows,:18]))))\n",
    "    if np.argmax(inf['sameWriter'].values) == int(bigBadDataset.iloc[rows,18:]):\n",
    "        acc +=1"
   ]
  },
  {
   "cell_type": "code",
   "execution_count": null,
   "metadata": {},
   "outputs": [],
   "source": [
    "acc/len(bigBadDataset)"
   ]
  },
  {
   "cell_type": "code",
   "execution_count": null,
   "metadata": {},
   "outputs": [],
   "source": []
  }
 ],
 "metadata": {
  "kernelspec": {
   "display_name": "Python 3",
   "language": "python",
   "name": "python3"
  },
  "language_info": {
   "codemirror_mode": {
    "name": "ipython",
    "version": 3
   },
   "file_extension": ".py",
   "mimetype": "text/x-python",
   "name": "python",
   "nbconvert_exporter": "python",
   "pygments_lexer": "ipython3",
   "version": "3.7.2"
  }
 },
 "nbformat": 4,
 "nbformat_minor": 2
}
