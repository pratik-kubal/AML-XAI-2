{
  "nbformat": 4,
  "nbformat_minor": 0,
  "metadata": {
    "colab": {
      "name": "siameseKerasNW_colab.ipynb",
      "version": "0.3.2",
      "provenance": [],
      "collapsed_sections": [
        "uH5kjC-P0P3O",
        "laLbmP3kD8w3"
      ],
      "toc_visible": true
    },
    "kernelspec": {
      "name": "python3",
      "display_name": "Python 3"
    },
    "accelerator": "GPU"
  },
  "cells": [
    {
      "metadata": {
        "id": "JXdjaFZN0P19",
        "colab_type": "code",
        "colab": {
          "base_uri": "https://localhost:8080/",
          "height": 34
        },
        "outputId": "7199c8b5-1f1d-49c4-8759-78305719e7c7"
      },
      "cell_type": "code",
      "source": [
        "import pandas as pd\n",
        "import numpy as np\n",
        "import cv2\n",
        "from keras.utils import Sequence\n",
        "from keras.models import Model\n",
        "from keras.layers import Input, Flatten, Dense, Dropout, Lambda, Conv2D, MaxPooling2D, Flatten, BatchNormalization, concatenate, Activation, Subtract\n",
        "from keras.optimizers import RMSprop, Adam\n",
        "from keras.losses import binary_crossentropy\n",
        "from keras.metrics import binary_accuracy, mae\n",
        "from keras import backend as K\n",
        "from keras import Sequential\n",
        "from keras.regularizers import l1_l2\n",
        "from keras.callbacks import ModelCheckpoint\n",
        "from IPython.display import SVG\n",
        "from keras.utils.vis_utils import model_to_dot\n",
        "from keras.layers import concatenate\n",
        "import random\n",
        "from keras.callbacks import TensorBoard"
      ],
      "execution_count": 2,
      "outputs": [
        {
          "output_type": "stream",
          "text": [
            "Using TensorFlow backend.\n"
          ],
          "name": "stderr"
        }
      ]
    },
    {
      "metadata": {
        "id": "aI5AHvgd1Gee",
        "colab_type": "code",
        "outputId": "7d7d108a-c519-4674-ae29-acb6b96a5517",
        "colab": {
          "base_uri": "https://localhost:8080/",
          "height": 34
        }
      },
      "cell_type": "code",
      "source": [
        "import tensorflow as tf\n",
        "device_name = tf.test.gpu_device_name()\n",
        "if device_name != '/device:GPU:0':\n",
        "  raise SystemError('GPU device not found')\n",
        "print('Found GPU at: {}'.format(device_name))"
      ],
      "execution_count": 3,
      "outputs": [
        {
          "output_type": "stream",
          "text": [
            "Found GPU at: /device:GPU:0\n"
          ],
          "name": "stdout"
        }
      ]
    },
    {
      "metadata": {
        "id": "QWvFbfOa1n-8",
        "colab_type": "code",
        "colab": {}
      },
      "cell_type": "code",
      "source": [
        "!mkdir dataset\n",
        "!mv seen-dataset.zip dataset\n",
        "!unzip dataset/seen-dataset.zip -d dataset"
      ],
      "execution_count": 0,
      "outputs": []
    },
    {
      "metadata": {
        "id": "vFy34Bo70P2M",
        "colab_type": "text"
      },
      "cell_type": "markdown",
      "source": [
        "# Seen Dataset"
      ]
    },
    {
      "metadata": {
        "id": "vlf5-FMx0P2P",
        "colab_type": "code",
        "colab": {}
      },
      "cell_type": "code",
      "source": [
        "# ENV VARS\n",
        "#stickyPath = \"../../dataset/seen-dataset/TrainingSet/\"\n",
        "# For Collab\n",
        "stickyPath = \"./\""
      ],
      "execution_count": 0,
      "outputs": []
    },
    {
      "metadata": {
        "id": "vdyTY5420P2V",
        "colab_type": "code",
        "colab": {}
      },
      "cell_type": "code",
      "source": [
        "lookupSeenTrain = pd.read_csv(str(stickyPath+\"dataset/seen-dataset/dataset_seen_training_siamese.csv\"))\n",
        "lookupSeenTrain.sample(frac=1).reset_index(drop=True)\n",
        "lookupSeenValidate = pd.read_csv(str(stickyPath+\"dataset/seen-dataset/dataset_seen_validation_siamese.csv\"))\n",
        "lookupSeenValidate.sample(frac=1).reset_index(drop=True)\n",
        "inputShape = np.shape(cv2.imread(str(stickyPath+\"dataset/seen-dataset/TrainingSet/0001a_num4.png\"),cv2.IMREAD_GRAYSCALE))"
      ],
      "execution_count": 0,
      "outputs": []
    },
    {
      "metadata": {
        "id": "LuBSKL000P3D",
        "colab_type": "code",
        "colab": {}
      },
      "cell_type": "code",
      "source": [
        "class genDataSeen(Sequence):\n",
        "    def __init__(self,lookupSeenTrain,batchSize,action,flag):\n",
        "        self.lookupSeenTrain, self.batchSize = lookupSeenTrain,batchSize\n",
        "        self.action = action\n",
        "        self.hshift = (-64,64)\n",
        "        self.vshift = (-64,64)\n",
        "        self.flag = flag\n",
        "        if(action=='train'):\n",
        "            self.stickyPath = \"./dataset/seen-dataset/TrainingSet/\"\n",
        "        if(action=='validate'):\n",
        "            self.stickyPath = \"./dataset/seen-dataset/ValidationSet/\"\n",
        "    \n",
        "    def __len__(self):\n",
        "        return (int(np.floor(len(self.lookupSeenTrain) / float(self.batchSize))))\n",
        "    \n",
        "    def on_epoch_end(self):\n",
        "        'Updates indexes after each epoch'\n",
        "        self.indexes = lookupSeenTrain.sample(frac=1).reset_index(drop=True)\n",
        "    \n",
        "    def __getitem__(self,idx):\n",
        "        leftImages = list(self.lookupSeenTrain.left[idx*self.batchSize:(idx+1)*self.batchSize])\n",
        "        rightImages = list(self.lookupSeenTrain.right[idx*self.batchSize:(idx+1)*self.batchSize])\n",
        "        labels = list(self.lookupSeenTrain.label[idx*self.batchSize:(idx+1)*self.batchSize])\n",
        "        \n",
        "        skeleton = []\n",
        "        for image in range(self.batchSize):\n",
        "            leftImage = cv2.imread(str(self.stickyPath+\n",
        "                                       leftImages[image]),\n",
        "                                   cv2.IMREAD_GRAYSCALE)\n",
        "            rightImage = cv2.imread(str(self.stickyPath+\n",
        "                                       rightImages[image]),\n",
        "                                   cv2.IMREAD_GRAYSCALE)\n",
        "            # Floating Point\n",
        "            leftImage = leftImage.astype('float32')\n",
        "            leftImage /= 255\n",
        "            rightImage = rightImage.astype('float32')\n",
        "            rightImage /= 255\n",
        "            \n",
        "            # Shifting\n",
        "            randH = np.random.randint(self.hshift[0],self.hshift[1])\n",
        "            randV = np.random.randint(self.vshift[0],self.vshift[1])\n",
        "            \n",
        "            leftImageShiftedH=np.roll(axis=0,a=leftImage,shift=randH)\n",
        "            rightImageShiftedH=np.roll(axis=0,a=rightImage,shift=randH)\n",
        "            \n",
        "            leftImageShiftedV=np.roll(axis=0,a=leftImage,shift=randV)\n",
        "            rightImageShiftedV=np.roll(axis=0,a=rightImage,shift=randV)\n",
        "\n",
        "            # Random Swap\n",
        "            if(int(np.random.binomial(1, 0.5, 1)) == 1):\n",
        "                temp = [rightImageShiftedV,leftImageShiftedH]\n",
        "            else:\n",
        "                temp = [leftImageShiftedH,rightImageShiftedV]\n",
        "            skeleton.append(temp)\n",
        "\n",
        "        skeleton = np.array(skeleton)\n",
        "        left = []\n",
        "        left.append(skeleton[:,0,:,:])\n",
        "        left = np.array(left)\n",
        "        right = []\n",
        "        right.append(skeleton[:,1,:,:])\n",
        "        right = np.array(right)\n",
        "        if(self.flag=='cnn'):\n",
        "            left = left.reshape((batchSize,64,64,1))\n",
        "            right = right.reshape((batchSize,64,64,1))\n",
        "            return ([left,right],np.array(labels))\n",
        "        else:\n",
        "            return ([skeleton[:,0,:,:],skeleton[:,1,:,:]],np.array(labels))"
      ],
      "execution_count": 0,
      "outputs": []
    },
    {
      "metadata": {
        "id": "vnt0ydCJ0P3J",
        "colab_type": "code",
        "colab": {}
      },
      "cell_type": "code",
      "source": [
        "def euclidean_distance(vects):\n",
        "    x, y = vects\n",
        "    sum_square = K.sum(K.square(x - y), axis=1, keepdims=True)\n",
        "    return K.sqrt(K.maximum(sum_square, K.epsilon()))\n",
        "\n",
        "def eucl_dist_output_shape(shapes):\n",
        "    shape1, shape2 = shapes\n",
        "    return (shape1[0], 1)\n",
        "\n",
        "def contrastive_loss(y_true, y_pred):\n",
        "    '''Contrastive loss from Hadsell-et-al.'06\n",
        "    http://yann.lecun.com/exdb/publis/pdf/hadsell-chopra-lecun-06.pdf\n",
        "    '''\n",
        "    margin = 1\n",
        "    square_pred = K.square(y_pred)\n",
        "    margin_square = K.square(K.maximum(margin - y_pred, 0))\n",
        "    return K.mean(y_true * square_pred + (1 - y_true) * margin_square)\n",
        "\n",
        "def compute_accuracy(y_true, y_pred):\n",
        "    '''Compute classification accuracy with a fixed threshold on distances.\n",
        "    '''\n",
        "    pred = y_pred.ravel() < 0.5\n",
        "    return np.mean(pred == y_true)\n",
        "\n",
        "\n",
        "def accuracy(y_true, y_pred):\n",
        "    '''Compute classification accuracy with a fixed threshold on distances.\n",
        "    '''\n",
        "    return K.mean(K.equal(y_true, K.cast(y_pred < 0.5, y_true.dtype)))"
      ],
      "execution_count": 0,
      "outputs": []
    },
    {
      "metadata": {
        "id": "uH5kjC-P0P3O",
        "colab_type": "text"
      },
      "cell_type": "markdown",
      "source": [
        "## Baseline Model"
      ]
    },
    {
      "metadata": {
        "id": "-YC7IKNW0P3P",
        "colab_type": "code",
        "outputId": "3491d405-985c-4f8b-a5b4-18ed72073419",
        "colab": {
          "base_uri": "https://localhost:8080/",
          "height": 315
        }
      },
      "cell_type": "code",
      "source": [
        "inputShape = np.shape(cv2.imread(str(stickyPath+\"dataset/seen-dataset/TrainingSet/0001a_num4.png\"),cv2.IMREAD_GRAYSCALE))\n",
        "def create_base_network(input_shape):\n",
        "    '''\n",
        "    Base network to be shared (eq. to feature extraction).\n",
        "    Ref: Keras Documentation on MNNIST Siamese\n",
        "    '''\n",
        "    _input = Input(shape=input_shape)\n",
        "    x = Flatten()(_input)\n",
        "    x = Dense(128, activation='relu')(x)\n",
        "    x = Dropout(0.1)(x)\n",
        "    x = Dense(128, activation='relu')(x)\n",
        "    x = Dropout(0.1)(x)\n",
        "    x = Dense(128, activation='relu')(x)\n",
        "    return Model(_input, x)\n",
        "base_network = create_base_network(inputShape)\n",
        "inputLeft = Input(shape=inputShape)\n",
        "inputRight = Input(shape=inputShape)\n",
        "processed_left = base_network(inputLeft)\n",
        "processed_right = base_network(inputRight)\n",
        "distance = Lambda(euclidean_distance,\n",
        "                  output_shape=eucl_dist_output_shape,name=\"EuclDist\")([processed_left, processed_right])\n",
        "model = Model([inputLeft, inputRight], distance)\n",
        "rms = RMSprop(lr=0.01)\n",
        "model.compile(loss=contrastive_loss, optimizer=rms, metrics=[accuracy])\n",
        "batchSize = 125\n",
        "numEpochs = 50\n",
        "initialEpoch = 0\n",
        "trainingBatchGen = genDataSeen(lookupSeenTrain,batchSize,\"train\",\"nn\")\n",
        "validateBatchGen = genDataSeen(lookupSeenValidate,batchSize,\"validate\",\"nn\")\n",
        "display(SVG(model_to_dot(model, show_layer_names=True, show_shapes=True, rankdir='TB').create(prog='dot', format='svg')))"
      ],
      "execution_count": 0,
      "outputs": [
        {
          "output_type": "display_data",
          "data": {
            "text/plain": [
              "<IPython.core.display.SVG object>"
            ],
            "image/svg+xml": "<svg height=\"221pt\" viewBox=\"0.00 0.00 626.00 221.00\" width=\"626pt\" xmlns=\"http://www.w3.org/2000/svg\" xmlns:xlink=\"http://www.w3.org/1999/xlink\">\n<g class=\"graph\" id=\"graph0\" transform=\"scale(1 1) rotate(0) translate(4 217)\">\n<title>G</title>\n<polygon fill=\"#ffffff\" points=\"-4,4 -4,-217 622,-217 622,4 -4,4\" stroke=\"transparent\"/>\n<!-- 140320901372504 -->\n<g class=\"node\" id=\"node1\">\n<title>140320901372504</title>\n<polygon fill=\"none\" points=\"0,-166.5 0,-212.5 300,-212.5 300,-166.5 0,-166.5\" stroke=\"#000000\"/>\n<text fill=\"#000000\" font-family=\"Times,serif\" font-size=\"14.00\" text-anchor=\"middle\" x=\"70\" y=\"-185.8\">input_36: InputLayer</text>\n<polyline fill=\"none\" points=\"140,-166.5 140,-212.5 \" stroke=\"#000000\"/>\n<text fill=\"#000000\" font-family=\"Times,serif\" font-size=\"14.00\" text-anchor=\"middle\" x=\"169\" y=\"-197.3\">input:</text>\n<polyline fill=\"none\" points=\"140,-189.5 198,-189.5 \" stroke=\"#000000\"/>\n<text fill=\"#000000\" font-family=\"Times,serif\" font-size=\"14.00\" text-anchor=\"middle\" x=\"169\" y=\"-174.3\">output:</text>\n<polyline fill=\"none\" points=\"198,-166.5 198,-212.5 \" stroke=\"#000000\"/>\n<text fill=\"#000000\" font-family=\"Times,serif\" font-size=\"14.00\" text-anchor=\"middle\" x=\"249\" y=\"-197.3\">(None, 64, 64)</text>\n<polyline fill=\"none\" points=\"198,-189.5 300,-189.5 \" stroke=\"#000000\"/>\n<text fill=\"#000000\" font-family=\"Times,serif\" font-size=\"14.00\" text-anchor=\"middle\" x=\"249\" y=\"-174.3\">(None, 64, 64)</text>\n</g>\n<!-- 140320893776056 -->\n<g class=\"node\" id=\"node3\">\n<title>140320893776056</title>\n<polygon fill=\"none\" points=\"169,-83.5 169,-129.5 449,-129.5 449,-83.5 169,-83.5\" stroke=\"#000000\"/>\n<text fill=\"#000000\" font-family=\"Times,serif\" font-size=\"14.00\" text-anchor=\"middle\" x=\"229\" y=\"-102.8\">model_20: Model</text>\n<polyline fill=\"none\" points=\"289,-83.5 289,-129.5 \" stroke=\"#000000\"/>\n<text fill=\"#000000\" font-family=\"Times,serif\" font-size=\"14.00\" text-anchor=\"middle\" x=\"318\" y=\"-114.3\">input:</text>\n<polyline fill=\"none\" points=\"289,-106.5 347,-106.5 \" stroke=\"#000000\"/>\n<text fill=\"#000000\" font-family=\"Times,serif\" font-size=\"14.00\" text-anchor=\"middle\" x=\"318\" y=\"-91.3\">output:</text>\n<polyline fill=\"none\" points=\"347,-83.5 347,-129.5 \" stroke=\"#000000\"/>\n<text fill=\"#000000\" font-family=\"Times,serif\" font-size=\"14.00\" text-anchor=\"middle\" x=\"398\" y=\"-114.3\">(None, 64, 64)</text>\n<polyline fill=\"none\" points=\"347,-106.5 449,-106.5 \" stroke=\"#000000\"/>\n<text fill=\"#000000\" font-family=\"Times,serif\" font-size=\"14.00\" text-anchor=\"middle\" x=\"398\" y=\"-91.3\">(None, 128)</text>\n</g>\n<!-- 140320901372504&#45;&gt;140320893776056 -->\n<g class=\"edge\" id=\"edge1\">\n<title>140320901372504-&gt;140320893776056</title>\n<path d=\"M194.2904,-166.3799C213.3349,-156.4384 235.7577,-144.7334 255.703,-134.3217\" fill=\"none\" stroke=\"#000000\"/>\n<polygon fill=\"#000000\" points=\"257.4265,-137.3703 264.6717,-129.6399 254.1871,-131.1649 257.4265,-137.3703\" stroke=\"#000000\"/>\n</g>\n<!-- 140320893777960 -->\n<g class=\"node\" id=\"node2\">\n<title>140320893777960</title>\n<polygon fill=\"none\" points=\"318,-166.5 318,-212.5 618,-212.5 618,-166.5 318,-166.5\" stroke=\"#000000\"/>\n<text fill=\"#000000\" font-family=\"Times,serif\" font-size=\"14.00\" text-anchor=\"middle\" x=\"388\" y=\"-185.8\">input_37: InputLayer</text>\n<polyline fill=\"none\" points=\"458,-166.5 458,-212.5 \" stroke=\"#000000\"/>\n<text fill=\"#000000\" font-family=\"Times,serif\" font-size=\"14.00\" text-anchor=\"middle\" x=\"487\" y=\"-197.3\">input:</text>\n<polyline fill=\"none\" points=\"458,-189.5 516,-189.5 \" stroke=\"#000000\"/>\n<text fill=\"#000000\" font-family=\"Times,serif\" font-size=\"14.00\" text-anchor=\"middle\" x=\"487\" y=\"-174.3\">output:</text>\n<polyline fill=\"none\" points=\"516,-166.5 516,-212.5 \" stroke=\"#000000\"/>\n<text fill=\"#000000\" font-family=\"Times,serif\" font-size=\"14.00\" text-anchor=\"middle\" x=\"567\" y=\"-197.3\">(None, 64, 64)</text>\n<polyline fill=\"none\" points=\"516,-189.5 618,-189.5 \" stroke=\"#000000\"/>\n<text fill=\"#000000\" font-family=\"Times,serif\" font-size=\"14.00\" text-anchor=\"middle\" x=\"567\" y=\"-174.3\">(None, 64, 64)</text>\n</g>\n<!-- 140320893777960&#45;&gt;140320893776056 -->\n<g class=\"edge\" id=\"edge2\">\n<title>140320893777960-&gt;140320893776056</title>\n<path d=\"M423.7096,-166.3799C404.6651,-156.4384 382.2423,-144.7334 362.297,-134.3217\" fill=\"none\" stroke=\"#000000\"/>\n<polygon fill=\"#000000\" points=\"363.8129,-131.1649 353.3283,-129.6399 360.5735,-137.3703 363.8129,-131.1649\" stroke=\"#000000\"/>\n</g>\n<!-- 140320893778296 -->\n<g class=\"node\" id=\"node4\">\n<title>140320893778296</title>\n<polygon fill=\"none\" points=\"132.5,-.5 132.5,-46.5 485.5,-46.5 485.5,-.5 132.5,-.5\" stroke=\"#000000\"/>\n<text fill=\"#000000\" font-family=\"Times,serif\" font-size=\"14.00\" text-anchor=\"middle\" x=\"193\" y=\"-19.8\">EuclDist: Lambda</text>\n<polyline fill=\"none\" points=\"253.5,-.5 253.5,-46.5 \" stroke=\"#000000\"/>\n<text fill=\"#000000\" font-family=\"Times,serif\" font-size=\"14.00\" text-anchor=\"middle\" x=\"282.5\" y=\"-31.3\">input:</text>\n<polyline fill=\"none\" points=\"253.5,-23.5 311.5,-23.5 \" stroke=\"#000000\"/>\n<text fill=\"#000000\" font-family=\"Times,serif\" font-size=\"14.00\" text-anchor=\"middle\" x=\"282.5\" y=\"-8.3\">output:</text>\n<polyline fill=\"none\" points=\"311.5,-.5 311.5,-46.5 \" stroke=\"#000000\"/>\n<text fill=\"#000000\" font-family=\"Times,serif\" font-size=\"14.00\" text-anchor=\"middle\" x=\"398.5\" y=\"-31.3\">[(None, 128), (None, 128)]</text>\n<polyline fill=\"none\" points=\"311.5,-23.5 485.5,-23.5 \" stroke=\"#000000\"/>\n<text fill=\"#000000\" font-family=\"Times,serif\" font-size=\"14.00\" text-anchor=\"middle\" x=\"398.5\" y=\"-8.3\">(None, 1)</text>\n</g>\n<!-- 140320893776056&#45;&gt;140320893778296 -->\n<g class=\"edge\" id=\"edge3\">\n<title>140320893776056-&gt;140320893778296</title>\n<path d=\"M309,-83.3799C309,-75.1745 309,-65.7679 309,-56.8786\" fill=\"none\" stroke=\"#000000\"/>\n<polygon fill=\"#000000\" points=\"312.5001,-56.784 309,-46.784 305.5001,-56.784 312.5001,-56.784\" stroke=\"#000000\"/>\n</g>\n</g>\n</svg>"
          },
          "metadata": {
            "tags": []
          }
        }
      ]
    },
    {
      "metadata": {
        "id": "hWPztnELCypp",
        "colab_type": "code",
        "colab": {}
      },
      "cell_type": "code",
      "source": [
        "model.fit_generator(generator=trainingBatchGen,\n",
        "                    steps_per_epoch=(len(lookupSeenTrain) // batchSize),\n",
        "                    epochs=numEpochs,\n",
        "                    verbose=1,\n",
        "                    validation_data=validateBatchGen,\n",
        "                    validation_steps=(len(lookupSeenValidate) // batchSize),\n",
        "                    use_multiprocessing=True,\n",
        "                    initial_epoch=0,\n",
        "                    workers=128,\n",
        "                    max_queue_size=64)"
      ],
      "execution_count": 0,
      "outputs": []
    },
    {
      "metadata": {
        "id": "laLbmP3kD8w3",
        "colab_type": "text"
      },
      "cell_type": "markdown",
      "source": [
        "## Modified Baseline"
      ]
    },
    {
      "metadata": {
        "id": "Cfqk92ccEAyj",
        "colab_type": "code",
        "outputId": "81001043-811a-458b-9411-dcd9ee902039",
        "colab": {
          "base_uri": "https://localhost:8080/",
          "height": 315
        }
      },
      "cell_type": "code",
      "source": [
        "inputShape = np.shape(cv2.imread(str(stickyPath+\"dataset/seen-dataset/TrainingSet/0001a_num4.png\"),cv2.IMREAD_GRAYSCALE))\n",
        "def create_base_network(input_shape):\n",
        "    '''\n",
        "    Base network to be shared (eq. to feature extraction).\n",
        "    Ref: Keras Documentation on MNNIST Siamese\n",
        "    '''\n",
        "    _input = Input(shape=input_shape)\n",
        "    x = Flatten()(_input)\n",
        "    x = Dense(128, activation='relu')(x)\n",
        "    x = Dense(256, activation='relu')(x)\n",
        "    x = Dense(512, activation='relu')(x)\n",
        "    x = Dropout(0.1)(x)\n",
        "    x = Dense(256, activation='relu')(x)\n",
        "    return Model(_input, x)\n",
        "base_network = create_base_network(inputShape)\n",
        "inputLeft = Input(shape=inputShape)\n",
        "inputRight = Input(shape=inputShape)\n",
        "processed_left = base_network(inputLeft)\n",
        "processed_right = base_network(inputRight)\n",
        "distance = Lambda(euclidean_distance,\n",
        "                  output_shape=eucl_dist_output_shape,name=\"EuclDist\")([processed_left, processed_right])\n",
        "model = Model([inputLeft, inputRight], distance)\n",
        "model.compile(loss=contrastive_loss, optimizer=Adam(lr=0.1), metrics=[accuracy])\n",
        "batchSize = 125\n",
        "numEpochs = 50\n",
        "initialEpoch = 0\n",
        "trainingBatchGen = genDataSeen(lookupSeenTrain,batchSize,\"train\",\"nn\")\n",
        "validateBatchGen = genDataSeen(lookupSeenValidate,batchSize,\"validate\",\"nn\")\n",
        "display(SVG(model_to_dot(model, show_layer_names=True, show_shapes=True, rankdir='TB').create(prog='dot', format='svg')))"
      ],
      "execution_count": 0,
      "outputs": [
        {
          "output_type": "display_data",
          "data": {
            "text/plain": [
              "<IPython.core.display.SVG object>"
            ],
            "image/svg+xml": "<svg height=\"221pt\" viewBox=\"0.00 0.00 626.00 221.00\" width=\"626pt\" xmlns=\"http://www.w3.org/2000/svg\" xmlns:xlink=\"http://www.w3.org/1999/xlink\">\n<g class=\"graph\" id=\"graph0\" transform=\"scale(1 1) rotate(0) translate(4 217)\">\n<title>G</title>\n<polygon fill=\"#ffffff\" points=\"-4,4 -4,-217 622,-217 622,4 -4,4\" stroke=\"transparent\"/>\n<!-- 140320852289856 -->\n<g class=\"node\" id=\"node1\">\n<title>140320852289856</title>\n<polygon fill=\"none\" points=\"0,-166.5 0,-212.5 300,-212.5 300,-166.5 0,-166.5\" stroke=\"#000000\"/>\n<text fill=\"#000000\" font-family=\"Times,serif\" font-size=\"14.00\" text-anchor=\"middle\" x=\"70\" y=\"-185.8\">input_45: InputLayer</text>\n<polyline fill=\"none\" points=\"140,-166.5 140,-212.5 \" stroke=\"#000000\"/>\n<text fill=\"#000000\" font-family=\"Times,serif\" font-size=\"14.00\" text-anchor=\"middle\" x=\"169\" y=\"-197.3\">input:</text>\n<polyline fill=\"none\" points=\"140,-189.5 198,-189.5 \" stroke=\"#000000\"/>\n<text fill=\"#000000\" font-family=\"Times,serif\" font-size=\"14.00\" text-anchor=\"middle\" x=\"169\" y=\"-174.3\">output:</text>\n<polyline fill=\"none\" points=\"198,-166.5 198,-212.5 \" stroke=\"#000000\"/>\n<text fill=\"#000000\" font-family=\"Times,serif\" font-size=\"14.00\" text-anchor=\"middle\" x=\"249\" y=\"-197.3\">(None, 64, 64)</text>\n<polyline fill=\"none\" points=\"198,-189.5 300,-189.5 \" stroke=\"#000000\"/>\n<text fill=\"#000000\" font-family=\"Times,serif\" font-size=\"14.00\" text-anchor=\"middle\" x=\"249\" y=\"-174.3\">(None, 64, 64)</text>\n</g>\n<!-- 140320808290568 -->\n<g class=\"node\" id=\"node3\">\n<title>140320808290568</title>\n<polygon fill=\"none\" points=\"169,-83.5 169,-129.5 449,-129.5 449,-83.5 169,-83.5\" stroke=\"#000000\"/>\n<text fill=\"#000000\" font-family=\"Times,serif\" font-size=\"14.00\" text-anchor=\"middle\" x=\"229\" y=\"-102.8\">model_26: Model</text>\n<polyline fill=\"none\" points=\"289,-83.5 289,-129.5 \" stroke=\"#000000\"/>\n<text fill=\"#000000\" font-family=\"Times,serif\" font-size=\"14.00\" text-anchor=\"middle\" x=\"318\" y=\"-114.3\">input:</text>\n<polyline fill=\"none\" points=\"289,-106.5 347,-106.5 \" stroke=\"#000000\"/>\n<text fill=\"#000000\" font-family=\"Times,serif\" font-size=\"14.00\" text-anchor=\"middle\" x=\"318\" y=\"-91.3\">output:</text>\n<polyline fill=\"none\" points=\"347,-83.5 347,-129.5 \" stroke=\"#000000\"/>\n<text fill=\"#000000\" font-family=\"Times,serif\" font-size=\"14.00\" text-anchor=\"middle\" x=\"398\" y=\"-114.3\">(None, 64, 64)</text>\n<polyline fill=\"none\" points=\"347,-106.5 449,-106.5 \" stroke=\"#000000\"/>\n<text fill=\"#000000\" font-family=\"Times,serif\" font-size=\"14.00\" text-anchor=\"middle\" x=\"398\" y=\"-91.3\">(None, 256)</text>\n</g>\n<!-- 140320852289856&#45;&gt;140320808290568 -->\n<g class=\"edge\" id=\"edge1\">\n<title>140320852289856-&gt;140320808290568</title>\n<path d=\"M194.2904,-166.3799C213.3349,-156.4384 235.7577,-144.7334 255.703,-134.3217\" fill=\"none\" stroke=\"#000000\"/>\n<polygon fill=\"#000000\" points=\"257.4265,-137.3703 264.6717,-129.6399 254.1871,-131.1649 257.4265,-137.3703\" stroke=\"#000000\"/>\n</g>\n<!-- 140320808292024 -->\n<g class=\"node\" id=\"node2\">\n<title>140320808292024</title>\n<polygon fill=\"none\" points=\"318,-166.5 318,-212.5 618,-212.5 618,-166.5 318,-166.5\" stroke=\"#000000\"/>\n<text fill=\"#000000\" font-family=\"Times,serif\" font-size=\"14.00\" text-anchor=\"middle\" x=\"388\" y=\"-185.8\">input_46: InputLayer</text>\n<polyline fill=\"none\" points=\"458,-166.5 458,-212.5 \" stroke=\"#000000\"/>\n<text fill=\"#000000\" font-family=\"Times,serif\" font-size=\"14.00\" text-anchor=\"middle\" x=\"487\" y=\"-197.3\">input:</text>\n<polyline fill=\"none\" points=\"458,-189.5 516,-189.5 \" stroke=\"#000000\"/>\n<text fill=\"#000000\" font-family=\"Times,serif\" font-size=\"14.00\" text-anchor=\"middle\" x=\"487\" y=\"-174.3\">output:</text>\n<polyline fill=\"none\" points=\"516,-166.5 516,-212.5 \" stroke=\"#000000\"/>\n<text fill=\"#000000\" font-family=\"Times,serif\" font-size=\"14.00\" text-anchor=\"middle\" x=\"567\" y=\"-197.3\">(None, 64, 64)</text>\n<polyline fill=\"none\" points=\"516,-189.5 618,-189.5 \" stroke=\"#000000\"/>\n<text fill=\"#000000\" font-family=\"Times,serif\" font-size=\"14.00\" text-anchor=\"middle\" x=\"567\" y=\"-174.3\">(None, 64, 64)</text>\n</g>\n<!-- 140320808292024&#45;&gt;140320808290568 -->\n<g class=\"edge\" id=\"edge2\">\n<title>140320808292024-&gt;140320808290568</title>\n<path d=\"M423.7096,-166.3799C404.6651,-156.4384 382.2423,-144.7334 362.297,-134.3217\" fill=\"none\" stroke=\"#000000\"/>\n<polygon fill=\"#000000\" points=\"363.8129,-131.1649 353.3283,-129.6399 360.5735,-137.3703 363.8129,-131.1649\" stroke=\"#000000\"/>\n</g>\n<!-- 140320832802096 -->\n<g class=\"node\" id=\"node4\">\n<title>140320832802096</title>\n<polygon fill=\"none\" points=\"132.5,-.5 132.5,-46.5 485.5,-46.5 485.5,-.5 132.5,-.5\" stroke=\"#000000\"/>\n<text fill=\"#000000\" font-family=\"Times,serif\" font-size=\"14.00\" text-anchor=\"middle\" x=\"193\" y=\"-19.8\">EuclDist: Lambda</text>\n<polyline fill=\"none\" points=\"253.5,-.5 253.5,-46.5 \" stroke=\"#000000\"/>\n<text fill=\"#000000\" font-family=\"Times,serif\" font-size=\"14.00\" text-anchor=\"middle\" x=\"282.5\" y=\"-31.3\">input:</text>\n<polyline fill=\"none\" points=\"253.5,-23.5 311.5,-23.5 \" stroke=\"#000000\"/>\n<text fill=\"#000000\" font-family=\"Times,serif\" font-size=\"14.00\" text-anchor=\"middle\" x=\"282.5\" y=\"-8.3\">output:</text>\n<polyline fill=\"none\" points=\"311.5,-.5 311.5,-46.5 \" stroke=\"#000000\"/>\n<text fill=\"#000000\" font-family=\"Times,serif\" font-size=\"14.00\" text-anchor=\"middle\" x=\"398.5\" y=\"-31.3\">[(None, 256), (None, 256)]</text>\n<polyline fill=\"none\" points=\"311.5,-23.5 485.5,-23.5 \" stroke=\"#000000\"/>\n<text fill=\"#000000\" font-family=\"Times,serif\" font-size=\"14.00\" text-anchor=\"middle\" x=\"398.5\" y=\"-8.3\">(None, 1)</text>\n</g>\n<!-- 140320808290568&#45;&gt;140320832802096 -->\n<g class=\"edge\" id=\"edge3\">\n<title>140320808290568-&gt;140320832802096</title>\n<path d=\"M309,-83.3799C309,-75.1745 309,-65.7679 309,-56.8786\" fill=\"none\" stroke=\"#000000\"/>\n<polygon fill=\"#000000\" points=\"312.5001,-56.784 309,-46.784 305.5001,-56.784 312.5001,-56.784\" stroke=\"#000000\"/>\n</g>\n</g>\n</svg>"
          },
          "metadata": {
            "tags": []
          }
        }
      ]
    },
    {
      "metadata": {
        "id": "Fcfwx8STEqj_",
        "colab_type": "code",
        "colab": {}
      },
      "cell_type": "code",
      "source": [
        "model.fit_generator(generator=trainingBatchGen,\n",
        "                    steps_per_epoch=(len(lookupSeenTrain) // batchSize),\n",
        "                    epochs=numEpochs,\n",
        "                    verbose=1,\n",
        "                    validation_data=validateBatchGen,\n",
        "                    validation_steps=(len(lookupSeenValidate) // batchSize),\n",
        "                    use_multiprocessing=True,\n",
        "                    initial_epoch=0,\n",
        "                    workers=128,\n",
        "                    max_queue_size=64)"
      ],
      "execution_count": 0,
      "outputs": []
    },
    {
      "metadata": {
        "id": "T8lzo00V0P4M",
        "colab_type": "text"
      },
      "cell_type": "markdown",
      "source": [
        "## Model 2 Siamese"
      ]
    },
    {
      "metadata": {
        "id": "N6fcFa3d0P4U",
        "colab_type": "code",
        "colab": {}
      },
      "cell_type": "code",
      "source": [
        "inputShape = (64, 64, 1)\n",
        "def caffeReplicatedModel(input_shape):\n",
        "    _input = Input(input_shape)\n",
        "    x = Conv2D(filters=20,kernel_size=5,\n",
        "                     kernel_initializer=\"glorot_normal\",\n",
        "                     strides=1,activation=\"relu\",\n",
        "                     use_bias=False)(_input)\n",
        "    x = MaxPooling2D(pool_size=2,strides=2)(x)\n",
        "    x = BatchNormalization()(x)\n",
        "    x = Conv2D(filters=20,kernel_size=5,\n",
        "                     kernel_initializer=\"glorot_normal\",\n",
        "                     strides=1,activation=\"relu\",\n",
        "                     use_bias=False)(x)\n",
        "    x = MaxPooling2D(pool_size=2,strides=2)(x)\n",
        "    x = Flatten()(x)\n",
        "    return Model(_input, x)\n",
        "nw2 = caffeReplicatedModel(inputShape)\n",
        "inputLeft = Input(shape=inputShape)\n",
        "inputRight = Input(shape=inputShape)\n",
        "processed_left = nw2(inputLeft)\n",
        "processed_right = nw2(inputRight)\n",
        "distance = Lambda(euclidean_distance,\n",
        "                  output_shape=eucl_dist_output_shape)([processed_left, processed_right])\n",
        "model = Model([inputLeft, inputRight], distance)\n",
        "rms = RMSprop()\n",
        "model.compile(loss=contrastive_loss, optimizer=rms, metrics=[accuracy])\n",
        "batchSize = 10\n",
        "numEpochs = 5\n",
        "initialEpoch = 0"
      ],
      "execution_count": 0,
      "outputs": []
    },
    {
      "metadata": {
        "id": "S3E9Z3PF0P4r",
        "colab_type": "code",
        "colab": {}
      },
      "cell_type": "code",
      "source": [
        "trainingBatchGen = genDataSeen(lookupSeenTrain,batchSize,\"train\",\"cnn\")\n",
        "validateBatchGen = genDataSeen(lookupSeenValidate,batchSize,\"validate\",\"cnn\")"
      ],
      "execution_count": 0,
      "outputs": []
    },
    {
      "metadata": {
        "id": "wH-iZ8K20P4t",
        "colab_type": "code",
        "colab": {}
      },
      "cell_type": "code",
      "source": [
        "model.fit_generator(generator=trainingBatchGen,\n",
        "                    steps_per_epoch=(len(lookupSeenTrain) // batchSize),\n",
        "                    epochs=numEpochs,\n",
        "                    verbose=1,\n",
        "                    validation_data=validateBatchGen,\n",
        "                    validation_steps=(len(lookupSeenValidate) // batchSize),\n",
        "                    use_multiprocessing=True,\n",
        "                    initial_epoch=0,\n",
        "                    workers=128,\n",
        "                    max_queue_size=64)"
      ],
      "execution_count": 0,
      "outputs": []
    },
    {
      "metadata": {
        "id": "y8zwx4ZwtP15",
        "colab_type": "code",
        "colab": {}
      },
      "cell_type": "code",
      "source": [
        "## Best Model"
      ],
      "execution_count": 0,
      "outputs": []
    },
    {
      "metadata": {
        "id": "YYTSc2aY0P4z",
        "colab_type": "code",
        "colab": {
          "base_uri": "https://localhost:8080/",
          "height": 387
        },
        "outputId": "dced6588-ee48-4bad-dc26-d382f44d9182"
      },
      "cell_type": "code",
      "source": [
        "inputShape = (64, 64, 1)\n",
        "\n",
        "def featureGenCNN(input_shape):\n",
        "  _input = Input(input_shape)\n",
        "  layer = Conv2D(32,kernel_size=(3, 3),activation='relu',input_shape=input_shape,padding='same',\n",
        "                kernel_regularizer=l1_l2(l1=0.001, l2=0.001), bias_regularizer=l1_l2(l1=0.01, l2=0.01))(_input)\n",
        "  layer = MaxPooling2D((2,2))(layer)\n",
        "  layer = Conv2D(64, (3, 3), activation='relu',padding='same',\n",
        "                kernel_regularizer=l1_l2(l1=0.001, l2=0.001), bias_regularizer=l1_l2(l1=0.01, l2=0.01))(layer)\n",
        "  layer = MaxPooling2D((2,2))(layer)\n",
        "  layer = Conv2D(32, (1, 1), activation='relu',padding='same',\n",
        "                kernel_regularizer=l1_l2(l1=0.001, l2=0.001), bias_regularizer=l1_l2(l1=0.01, l2=0.01))(layer)\n",
        "  layer = MaxPooling2D((2,2))(layer)\n",
        "  layer = Flatten()(layer)\n",
        "  return Model(_input,layer)\n",
        "\n",
        "featureGeneratorModel = featureGenCNN(inputShape)\n",
        "leftDataLayer = Input(shape = inputShape, name = 'left_img')\n",
        "rightDataLayer = Input(shape = inputShape, name = 'right_img')\n",
        "\n",
        "left_feats = featureGeneratorModel(leftDataLayer)\n",
        "right_feats = featureGeneratorModel(rightDataLayer)\n",
        "\n",
        "distanceLayer = Lambda(euclidean_distance,\n",
        "                       output_shape=eucl_dist_output_shape,name=\"EuclDist\")([left_feats, right_feats])\n",
        "\n",
        "siameseDistPlus = Model([leftDataLayer, rightDataLayer], distanceLayer)\n",
        "\n",
        "rms = RMSprop()\n",
        "\n",
        "siameseDistPlus.compile(loss=contrastive_loss, optimizer=rms, metrics=[accuracy])\n",
        "display(SVG(model_to_dot(siameseDistPlus, show_layer_names=True, show_shapes=True, rankdir='TB').create(prog='dot', format='svg')))"
      ],
      "execution_count": 10,
      "outputs": [
        {
          "output_type": "stream",
          "text": [
            "WARNING:tensorflow:From /usr/local/lib/python3.6/dist-packages/tensorflow/python/framework/op_def_library.py:263: colocate_with (from tensorflow.python.framework.ops) is deprecated and will be removed in a future version.\n",
            "Instructions for updating:\n",
            "Colocations handled automatically by placer.\n"
          ],
          "name": "stdout"
        },
        {
          "output_type": "display_data",
          "data": {
            "text/plain": [
              "<IPython.core.display.SVG object>"
            ],
            "image/svg+xml": "<svg height=\"221pt\" viewBox=\"0.00 0.00 657.50 221.00\" width=\"658pt\" xmlns=\"http://www.w3.org/2000/svg\" xmlns:xlink=\"http://www.w3.org/1999/xlink\">\n<g class=\"graph\" id=\"graph0\" transform=\"scale(1 1) rotate(0) translate(4 217)\">\n<title>G</title>\n<polygon fill=\"#ffffff\" points=\"-4,4 -4,-217 653.5,-217 653.5,4 -4,4\" stroke=\"transparent\"/>\n<!-- 140088082650952 -->\n<g class=\"node\" id=\"node1\">\n<title>140088082650952</title>\n<polygon fill=\"none\" points=\"0,-166.5 0,-212.5 311,-212.5 311,-166.5 0,-166.5\" stroke=\"#000000\"/>\n<text fill=\"#000000\" font-family=\"Times,serif\" font-size=\"14.00\" text-anchor=\"middle\" x=\"68\" y=\"-185.8\">left_img: InputLayer</text>\n<polyline fill=\"none\" points=\"136,-166.5 136,-212.5 \" stroke=\"#000000\"/>\n<text fill=\"#000000\" font-family=\"Times,serif\" font-size=\"14.00\" text-anchor=\"middle\" x=\"165\" y=\"-197.3\">input:</text>\n<polyline fill=\"none\" points=\"136,-189.5 194,-189.5 \" stroke=\"#000000\"/>\n<text fill=\"#000000\" font-family=\"Times,serif\" font-size=\"14.00\" text-anchor=\"middle\" x=\"165\" y=\"-174.3\">output:</text>\n<polyline fill=\"none\" points=\"194,-166.5 194,-212.5 \" stroke=\"#000000\"/>\n<text fill=\"#000000\" font-family=\"Times,serif\" font-size=\"14.00\" text-anchor=\"middle\" x=\"252.5\" y=\"-197.3\">(None, 64, 64, 1)</text>\n<polyline fill=\"none\" points=\"194,-189.5 311,-189.5 \" stroke=\"#000000\"/>\n<text fill=\"#000000\" font-family=\"Times,serif\" font-size=\"14.00\" text-anchor=\"middle\" x=\"252.5\" y=\"-174.3\">(None, 64, 64, 1)</text>\n</g>\n<!-- 140088081583912 -->\n<g class=\"node\" id=\"node3\">\n<title>140088081583912</title>\n<polygon fill=\"none\" points=\"178.5,-83.5 178.5,-129.5 466.5,-129.5 466.5,-83.5 178.5,-83.5\" stroke=\"#000000\"/>\n<text fill=\"#000000\" font-family=\"Times,serif\" font-size=\"14.00\" text-anchor=\"middle\" x=\"235\" y=\"-102.8\">model_1: Model</text>\n<polyline fill=\"none\" points=\"291.5,-83.5 291.5,-129.5 \" stroke=\"#000000\"/>\n<text fill=\"#000000\" font-family=\"Times,serif\" font-size=\"14.00\" text-anchor=\"middle\" x=\"320.5\" y=\"-114.3\">input:</text>\n<polyline fill=\"none\" points=\"291.5,-106.5 349.5,-106.5 \" stroke=\"#000000\"/>\n<text fill=\"#000000\" font-family=\"Times,serif\" font-size=\"14.00\" text-anchor=\"middle\" x=\"320.5\" y=\"-91.3\">output:</text>\n<polyline fill=\"none\" points=\"349.5,-83.5 349.5,-129.5 \" stroke=\"#000000\"/>\n<text fill=\"#000000\" font-family=\"Times,serif\" font-size=\"14.00\" text-anchor=\"middle\" x=\"408\" y=\"-114.3\">(None, 64, 64, 1)</text>\n<polyline fill=\"none\" points=\"349.5,-106.5 466.5,-106.5 \" stroke=\"#000000\"/>\n<text fill=\"#000000\" font-family=\"Times,serif\" font-size=\"14.00\" text-anchor=\"middle\" x=\"408\" y=\"-91.3\">(None, 2048)</text>\n</g>\n<!-- 140088082650952&#45;&gt;140088081583912 -->\n<g class=\"edge\" id=\"edge1\">\n<title>140088082650952-&gt;140088081583912</title>\n<path d=\"M202.0188,-166.3799C222.1117,-156.3936 245.7848,-144.6279 266.8043,-134.1811\" fill=\"none\" stroke=\"#000000\"/>\n<polygon fill=\"#000000\" points=\"268.5441,-137.2249 275.9413,-129.6399 265.4286,-130.9564 268.5441,-137.2249\" stroke=\"#000000\"/>\n</g>\n<!-- 140089795485032 -->\n<g class=\"node\" id=\"node2\">\n<title>140089795485032</title>\n<polygon fill=\"none\" points=\"329.5,-166.5 329.5,-212.5 649.5,-212.5 649.5,-166.5 329.5,-166.5\" stroke=\"#000000\"/>\n<text fill=\"#000000\" font-family=\"Times,serif\" font-size=\"14.00\" text-anchor=\"middle\" x=\"402\" y=\"-185.8\">right_img: InputLayer</text>\n<polyline fill=\"none\" points=\"474.5,-166.5 474.5,-212.5 \" stroke=\"#000000\"/>\n<text fill=\"#000000\" font-family=\"Times,serif\" font-size=\"14.00\" text-anchor=\"middle\" x=\"503.5\" y=\"-197.3\">input:</text>\n<polyline fill=\"none\" points=\"474.5,-189.5 532.5,-189.5 \" stroke=\"#000000\"/>\n<text fill=\"#000000\" font-family=\"Times,serif\" font-size=\"14.00\" text-anchor=\"middle\" x=\"503.5\" y=\"-174.3\">output:</text>\n<polyline fill=\"none\" points=\"532.5,-166.5 532.5,-212.5 \" stroke=\"#000000\"/>\n<text fill=\"#000000\" font-family=\"Times,serif\" font-size=\"14.00\" text-anchor=\"middle\" x=\"591\" y=\"-197.3\">(None, 64, 64, 1)</text>\n<polyline fill=\"none\" points=\"532.5,-189.5 649.5,-189.5 \" stroke=\"#000000\"/>\n<text fill=\"#000000\" font-family=\"Times,serif\" font-size=\"14.00\" text-anchor=\"middle\" x=\"591\" y=\"-174.3\">(None, 64, 64, 1)</text>\n</g>\n<!-- 140089795485032&#45;&gt;140088081583912 -->\n<g class=\"edge\" id=\"edge2\">\n<title>140089795485032-&gt;140088081583912</title>\n<path d=\"M442.9812,-166.3799C422.8883,-156.3936 399.2152,-144.6279 378.1957,-134.1811\" fill=\"none\" stroke=\"#000000\"/>\n<polygon fill=\"#000000\" points=\"379.5714,-130.9564 369.0587,-129.6399 376.4559,-137.2249 379.5714,-130.9564\" stroke=\"#000000\"/>\n</g>\n<!-- 140088081184920 -->\n<g class=\"node\" id=\"node4\">\n<title>140088081184920</title>\n<polygon fill=\"none\" points=\"138.5,-.5 138.5,-46.5 506.5,-46.5 506.5,-.5 138.5,-.5\" stroke=\"#000000\"/>\n<text fill=\"#000000\" font-family=\"Times,serif\" font-size=\"14.00\" text-anchor=\"middle\" x=\"199\" y=\"-19.8\">EuclDist: Lambda</text>\n<polyline fill=\"none\" points=\"259.5,-.5 259.5,-46.5 \" stroke=\"#000000\"/>\n<text fill=\"#000000\" font-family=\"Times,serif\" font-size=\"14.00\" text-anchor=\"middle\" x=\"288.5\" y=\"-31.3\">input:</text>\n<polyline fill=\"none\" points=\"259.5,-23.5 317.5,-23.5 \" stroke=\"#000000\"/>\n<text fill=\"#000000\" font-family=\"Times,serif\" font-size=\"14.00\" text-anchor=\"middle\" x=\"288.5\" y=\"-8.3\">output:</text>\n<polyline fill=\"none\" points=\"317.5,-.5 317.5,-46.5 \" stroke=\"#000000\"/>\n<text fill=\"#000000\" font-family=\"Times,serif\" font-size=\"14.00\" text-anchor=\"middle\" x=\"412\" y=\"-31.3\">[(None, 2048), (None, 2048)]</text>\n<polyline fill=\"none\" points=\"317.5,-23.5 506.5,-23.5 \" stroke=\"#000000\"/>\n<text fill=\"#000000\" font-family=\"Times,serif\" font-size=\"14.00\" text-anchor=\"middle\" x=\"412\" y=\"-8.3\">(None, 1)</text>\n</g>\n<!-- 140088081583912&#45;&gt;140088081184920 -->\n<g class=\"edge\" id=\"edge3\">\n<title>140088081583912-&gt;140088081184920</title>\n<path d=\"M322.5,-83.3799C322.5,-75.1745 322.5,-65.7679 322.5,-56.8786\" fill=\"none\" stroke=\"#000000\"/>\n<polygon fill=\"#000000\" points=\"326.0001,-56.784 322.5,-46.784 319.0001,-56.784 326.0001,-56.784\" stroke=\"#000000\"/>\n</g>\n</g>\n</svg>"
          },
          "metadata": {
            "tags": []
          }
        }
      ]
    },
    {
      "metadata": {
        "id": "DpfFfjcWqcGJ",
        "colab_type": "code",
        "colab": {}
      },
      "cell_type": "code",
      "source": [
        "batchSize = 512\n",
        "numEpochs = 50\n",
        "initialEpoch = 0\n",
        "\n",
        "trainingBatchGen = genDataSeen(lookupSeenTrain,batchSize,\"train\",\"cnn\")\n",
        "validateBatchGen = genDataSeen(lookupSeenValidate,batchSize,\"validate\",\"cnn\")\n",
        "\n",
        "filepath=\"weights-improvement-{epoch:02d}-{val_accuracy:.2f}.hdf5\"\n",
        "\n",
        "checkpoint = ModelCheckpoint(filepath, monitor='val_accuracy', verbose=1, save_best_only=True, mode='auto')\n",
        "\n",
        "tbCallBack = TensorBoard(log_dir='./log', histogram_freq=0,\n",
        "                         write_graph=True,\n",
        "                         write_grads=True,\n",
        "                         batch_size=batchSize,\n",
        "                         write_images=True)\n"
      ],
      "execution_count": 0,
      "outputs": []
    },
    {
      "metadata": {
        "id": "doXcMCXFqiLv",
        "colab_type": "code",
        "colab": {
          "base_uri": "https://localhost:8080/",
          "height": 243
        },
        "outputId": "3df20f16-59b3-4339-8ee2-7a33205c04d7"
      },
      "cell_type": "code",
      "source": [
        "!wget https://bin.equinox.io/c/4VmDzA7iaHb/ngrok-stable-linux-amd64.zip\n",
        "\n",
        "!unzip ngrok-stable-linux-amd64.zip"
      ],
      "execution_count": 12,
      "outputs": [
        {
          "output_type": "stream",
          "text": [
            "--2019-03-30 13:08:09--  https://bin.equinox.io/c/4VmDzA7iaHb/ngrok-stable-linux-amd64.zip\n",
            "Resolving bin.equinox.io (bin.equinox.io)... 52.207.111.186, 52.21.103.149, 34.206.9.96, ...\n",
            "Connecting to bin.equinox.io (bin.equinox.io)|52.207.111.186|:443... connected.\n",
            "HTTP request sent, awaiting response... 200 OK\n",
            "Length: 14977695 (14M) [application/octet-stream]\n",
            "Saving to: ‘ngrok-stable-linux-amd64.zip.1’\n",
            "\n",
            "ngrok-stable-linux- 100%[===================>]  14.28M  3.85MB/s    in 3.7s    \n",
            "\n",
            "2019-03-30 13:08:14 (3.85 MB/s) - ‘ngrok-stable-linux-amd64.zip.1’ saved [14977695/14977695]\n",
            "\n",
            "Archive:  ngrok-stable-linux-amd64.zip\n",
            "replace ngrok? [y]es, [n]o, [A]ll, [N]one, [r]ename: n\n"
          ],
          "name": "stdout"
        }
      ]
    },
    {
      "metadata": {
        "id": "MczwViv6qkqr",
        "colab_type": "code",
        "colab": {}
      },
      "cell_type": "code",
      "source": [
        "LOG_DIR = './log'\n",
        "\n",
        "get_ipython().system_raw(\n",
        "    'tensorboard --logdir {} --host 0.0.0.0 --port 6006 &'\n",
        "    .format(LOG_DIR)\n",
        ")"
      ],
      "execution_count": 0,
      "outputs": []
    },
    {
      "metadata": {
        "id": "GiVFz4oyqmo8",
        "colab_type": "code",
        "colab": {}
      },
      "cell_type": "code",
      "source": [
        "get_ipython().system_raw('./ngrok http 6006 &')"
      ],
      "execution_count": 0,
      "outputs": []
    },
    {
      "metadata": {
        "id": "c1p3CsH5qpij",
        "colab_type": "code",
        "colab": {
          "base_uri": "https://localhost:8080/",
          "height": 34
        },
        "outputId": "ee316e3b-7e3c-468c-b447-93bf63c97a4b"
      },
      "cell_type": "code",
      "source": [
        "! curl -s http://localhost:4040/api/tunnels | python3 -c \\\n",
        "    \"import sys, json; print(json.load(sys.stdin)['tunnels'][0]['public_url'])\""
      ],
      "execution_count": 21,
      "outputs": [
        {
          "output_type": "stream",
          "text": [
            "http://2c900d6d.ngrok.io\n"
          ],
          "name": "stdout"
        }
      ]
    },
    {
      "metadata": {
        "id": "4Ychh0pHq1fr",
        "colab_type": "code",
        "colab": {}
      },
      "cell_type": "code",
      "source": [
        "siameseDistPlus.fit_generator(generator=trainingBatchGen,\n",
        "                              steps_per_epoch=(len(lookupSeenTrain) // batchSize),\n",
        "                              epochs=numEpochs,\n",
        "                              verbose=1,\n",
        "                              validation_data=validateBatchGen,\n",
        "                              validation_steps=(len(lookupSeenValidate) // batchSize),\n",
        "                              use_multiprocessing=True,\n",
        "                              initial_epoch=0,\n",
        "                              workers=128,\n",
        "                              max_queue_size=64,\n",
        "                              callbacks=[checkpoint,tbCallBack])"
      ],
      "execution_count": 0,
      "outputs": []
    },
    {
      "metadata": {
        "id": "iy_zeV1MuGB4",
        "colab_type": "code",
        "colab": {}
      },
      "cell_type": "code",
      "source": [
        ""
      ],
      "execution_count": 0,
      "outputs": []
    }
  ]
}