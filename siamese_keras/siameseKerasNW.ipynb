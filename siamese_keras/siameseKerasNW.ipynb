{
  "nbformat": 4,
  "nbformat_minor": 0,
  "metadata": {
    "colab": {
      "name": "siameseKerasNW.ipynb",
      "version": "0.3.2",
      "provenance": [],
      "toc_visible": true
    },
    "kernelspec": {
      "name": "python3",
      "display_name": "Python 3"
    },
    "accelerator": "GPU"
  },
  "cells": [
    {
      "metadata": {
        "id": "JXdjaFZN0P19",
        "colab_type": "code",
        "colab": {}
      },
      "cell_type": "code",
      "source": [
        "import pandas as pd\n",
        "import numpy as np\n",
        "import cv2\n",
        "from keras.utils import Sequence\n",
        "from keras.models import Model\n",
        "from keras.layers import Input, Flatten, Dense, Dropout, Lambda, Conv2D, MaxPooling2D, Flatten, BatchNormalization\n",
        "from keras.optimizers import RMSprop, Adam\n",
        "from keras import backend as K\n",
        "from keras import Sequential\n",
        "from IPython.display import SVG\n",
        "from keras.utils.vis_utils import model_to_dot"
      ],
      "execution_count": 0,
      "outputs": []
    },
    {
      "metadata": {
        "id": "aI5AHvgd1Gee",
        "colab_type": "code",
        "colab": {
          "base_uri": "https://localhost:8080/",
          "height": 34
        },
        "outputId": "66240b31-5f57-4184-dcda-7b6c17fdeef9"
      },
      "cell_type": "code",
      "source": [
        "import tensorflow as tf\n",
        "device_name = tf.test.gpu_device_name()\n",
        "if device_name != '/device:GPU:0':\n",
        "  raise SystemError('GPU device not found')\n",
        "print('Found GPU at: {}'.format(device_name))"
      ],
      "execution_count": 2,
      "outputs": [
        {
          "output_type": "stream",
          "text": [
            "Found GPU at: /device:GPU:0\n"
          ],
          "name": "stdout"
        }
      ]
    },
    {
      "metadata": {
        "id": "QWvFbfOa1n-8",
        "colab_type": "code",
        "colab": {}
      },
      "cell_type": "code",
      "source": [
        "!mkdir dataset\n",
        "!mv seen-dataset.zip dataset\n",
        "!unzip dataset/seen-dataset.zip -d dataset"
      ],
      "execution_count": 0,
      "outputs": []
    },
    {
      "metadata": {
        "id": "vFy34Bo70P2M",
        "colab_type": "text"
      },
      "cell_type": "markdown",
      "source": [
        "# Seen Dataset"
      ]
    },
    {
      "metadata": {
        "id": "vlf5-FMx0P2P",
        "colab_type": "code",
        "colab": {}
      },
      "cell_type": "code",
      "source": [
        "# ENV VARS\n",
        "#stickyPath = \"../../dataset/seen-dataset/TrainingSet/\"\n",
        "# For Collab\n",
        "stickyPath = \"./\""
      ],
      "execution_count": 0,
      "outputs": []
    },
    {
      "metadata": {
        "id": "vdyTY5420P2V",
        "colab_type": "code",
        "colab": {}
      },
      "cell_type": "code",
      "source": [
        "lookupSeenTrain = pd.read_csv(str(stickyPath+\"dataset/seen-dataset/dataset_seen_training_siamese.csv\"))\n",
        "lookupSeenTrain.sample(frac=1).reset_index(drop=True)\n",
        "lookupSeenValidate = pd.read_csv(str(stickyPath+\"dataset/seen-dataset/dataset_seen_validation_siamese.csv\"))\n",
        "lookupSeenValidate.sample(frac=1).reset_index(drop=True)\n",
        "inputShape = np.shape(cv2.imread(str(stickyPath+\"dataset/seen-dataset/TrainingSet/0001a_num4.png\"),cv2.IMREAD_GRAYSCALE))"
      ],
      "execution_count": 0,
      "outputs": []
    },
    {
      "metadata": {
        "id": "LuBSKL000P3D",
        "colab_type": "code",
        "colab": {}
      },
      "cell_type": "code",
      "source": [
        "class genDataSeen(Sequence):\n",
        "    def __init__(self,lookupSeenTrain,batchSize,action,flag):\n",
        "        self.lookupSeenTrain, self.batchSize = lookupSeenTrain,batchSize\n",
        "        self.action = action\n",
        "        self.hshift = (-64,64)\n",
        "        self.vshift = (-64,64)\n",
        "        self.flag = flag\n",
        "        if(action=='train'):\n",
        "            self.stickyPath = \"./dataset/seen-dataset/TrainingSet/\"\n",
        "        if(action=='validate'):\n",
        "            self.stickyPath = \"./dataset/seen-dataset/ValidationSet/\"\n",
        "    \n",
        "    def __len__(self):\n",
        "        return (int(np.floor(len(self.lookupSeenTrain) / float(self.batchSize))))\n",
        "    \n",
        "    def on_epoch_end(self):\n",
        "        'Updates indexes after each epoch'\n",
        "        self.indexes = lookupSeenTrain.sample(frac=1).reset_index(drop=True)\n",
        "    \n",
        "    def __getitem__(self,idx):\n",
        "        leftImages = list(self.lookupSeenTrain.left[idx*self.batchSize:(idx+1)*self.batchSize])\n",
        "        rightImages = list(self.lookupSeenTrain.right[idx*self.batchSize:(idx+1)*self.batchSize])\n",
        "        labels = list(self.lookupSeenTrain.label[idx*self.batchSize:(idx+1)*self.batchSize])\n",
        "        \n",
        "        skeleton = []\n",
        "        for image in range(self.batchSize):\n",
        "            leftImage = cv2.imread(str(self.stickyPath+\n",
        "                                       leftImages[image]),\n",
        "                                   cv2.IMREAD_GRAYSCALE)\n",
        "            rightImage = cv2.imread(str(self.stickyPath+\n",
        "                                       rightImages[image]),\n",
        "                                   cv2.IMREAD_GRAYSCALE)\n",
        "            # Floating Point\n",
        "            leftImage = leftImage.astype('float32')\n",
        "            leftImage /= 255\n",
        "            rightImage = rightImage.astype('float32')\n",
        "            rightImage /= 255\n",
        "            \n",
        "            # Shifting\n",
        "            randH = np.random.randint(self.hshift[0],self.hshift[1])\n",
        "            randV = np.random.randint(self.vshift[0],self.vshift[1])\n",
        "            \n",
        "            leftImageShiftedH=np.roll(axis=0,a=leftImage,shift=randH)\n",
        "            rightImageShiftedH=np.roll(axis=0,a=rightImage,shift=randH)\n",
        "            \n",
        "            leftImageShiftedV=np.roll(axis=0,a=leftImage,shift=randV)\n",
        "            rightImageShiftedV=np.roll(axis=0,a=rightImage,shift=randV)\n",
        "\n",
        "            # Random Swap\n",
        "            if(int(np.random.binomial(1, 0.5, 1)) == 1):\n",
        "                temp = [rightImageShiftedV,leftImageShiftedH]\n",
        "            else:\n",
        "                temp = [leftImageShiftedH,rightImageShiftedV]\n",
        "            skeleton.append(temp)\n",
        "\n",
        "        skeleton = np.array(skeleton)\n",
        "        left = []\n",
        "        left.append(skeleton[:,0,:,:])\n",
        "        left = np.array(left)\n",
        "        right = []\n",
        "        right.append(skeleton[:,1,:,:])\n",
        "        right = np.array(right)\n",
        "        if(self.flag=='cnn'):\n",
        "            left = left.reshape((batchSize,64,64,1))\n",
        "            right = right.reshape((batchSize,64,64,1))\n",
        "            return ([left,right],np.array(labels))\n",
        "        else:\n",
        "            return ([skeleton[:,0,:,:],skeleton[:,1,:,:]],np.array(labels))"
      ],
      "execution_count": 0,
      "outputs": []
    },
    {
      "metadata": {
        "id": "vnt0ydCJ0P3J",
        "colab_type": "code",
        "colab": {}
      },
      "cell_type": "code",
      "source": [
        "def euclidean_distance(vects):\n",
        "    x, y = vects\n",
        "    sum_square = K.sum(K.square(x - y), axis=1, keepdims=True)\n",
        "    return K.sqrt(K.maximum(sum_square, K.epsilon()))\n",
        "\n",
        "def eucl_dist_output_shape(shapes):\n",
        "    shape1, shape2 = shapes\n",
        "    return (shape1[0], 1)\n",
        "\n",
        "def contrastive_loss(y_true, y_pred):\n",
        "    '''Contrastive loss from Hadsell-et-al.'06\n",
        "    http://yann.lecun.com/exdb/publis/pdf/hadsell-chopra-lecun-06.pdf\n",
        "    '''\n",
        "    margin = 1\n",
        "    square_pred = K.square(y_pred)\n",
        "    margin_square = K.square(K.maximum(margin - y_pred, 0))\n",
        "    return K.mean(y_true * square_pred + (1 - y_true) * margin_square)\n",
        "\n",
        "def compute_accuracy(y_true, y_pred):\n",
        "    '''Compute classification accuracy with a fixed threshold on distances.\n",
        "    '''\n",
        "    pred = y_pred.ravel() < 0.5\n",
        "    return np.mean(pred == y_true)\n",
        "\n",
        "\n",
        "def accuracy(y_true, y_pred):\n",
        "    '''Compute classification accuracy with a fixed threshold on distances.\n",
        "    '''\n",
        "    return K.mean(K.equal(y_true, K.cast(y_pred < 0.5, y_true.dtype)))"
      ],
      "execution_count": 0,
      "outputs": []
    },
    {
      "metadata": {
        "id": "uH5kjC-P0P3O",
        "colab_type": "text"
      },
      "cell_type": "markdown",
      "source": [
        "## Baseline Model"
      ]
    },
    {
      "metadata": {
        "id": "-YC7IKNW0P3P",
        "colab_type": "code",
        "colab": {
          "base_uri": "https://localhost:8080/",
          "height": 315
        },
        "outputId": "3491d405-985c-4f8b-a5b4-18ed72073419"
      },
      "cell_type": "code",
      "source": [
        "inputShape = np.shape(cv2.imread(str(stickyPath+\"dataset/seen-dataset/TrainingSet/0001a_num4.png\"),cv2.IMREAD_GRAYSCALE))\n",
        "def create_base_network(input_shape):\n",
        "    '''\n",
        "    Base network to be shared (eq. to feature extraction).\n",
        "    Ref: Keras Documentation on MNNIST Siamese\n",
        "    '''\n",
        "    _input = Input(shape=input_shape)\n",
        "    x = Flatten()(_input)\n",
        "    x = Dense(128, activation='relu')(x)\n",
        "    x = Dropout(0.1)(x)\n",
        "    x = Dense(128, activation='relu')(x)\n",
        "    x = Dropout(0.1)(x)\n",
        "    x = Dense(128, activation='relu')(x)\n",
        "    return Model(_input, x)\n",
        "base_network = create_base_network(inputShape)\n",
        "inputLeft = Input(shape=inputShape)\n",
        "inputRight = Input(shape=inputShape)\n",
        "processed_left = base_network(inputLeft)\n",
        "processed_right = base_network(inputRight)\n",
        "distance = Lambda(euclidean_distance,\n",
        "                  output_shape=eucl_dist_output_shape,name=\"EuclDist\")([processed_left, processed_right])\n",
        "model = Model([inputLeft, inputRight], distance)\n",
        "rms = RMSprop(lr=0.01)\n",
        "model.compile(loss=contrastive_loss, optimizer=rms, metrics=[accuracy])\n",
        "batchSize = 125\n",
        "numEpochs = 50\n",
        "initialEpoch = 0\n",
        "trainingBatchGen = genDataSeen(lookupSeenTrain,batchSize,\"train\",\"nn\")\n",
        "validateBatchGen = genDataSeen(lookupSeenValidate,batchSize,\"validate\",\"nn\")\n",
        "display(SVG(model_to_dot(model, show_layer_names=True, show_shapes=True, rankdir='TB').create(prog='dot', format='svg')))"
      ],
      "execution_count": 65,
      "outputs": [
        {
          "output_type": "display_data",
          "data": {
            "text/plain": [
              "<IPython.core.display.SVG object>"
            ],
            "image/svg+xml": "<svg height=\"221pt\" viewBox=\"0.00 0.00 626.00 221.00\" width=\"626pt\" xmlns=\"http://www.w3.org/2000/svg\" xmlns:xlink=\"http://www.w3.org/1999/xlink\">\n<g class=\"graph\" id=\"graph0\" transform=\"scale(1 1) rotate(0) translate(4 217)\">\n<title>G</title>\n<polygon fill=\"#ffffff\" points=\"-4,4 -4,-217 622,-217 622,4 -4,4\" stroke=\"transparent\"/>\n<!-- 140320901372504 -->\n<g class=\"node\" id=\"node1\">\n<title>140320901372504</title>\n<polygon fill=\"none\" points=\"0,-166.5 0,-212.5 300,-212.5 300,-166.5 0,-166.5\" stroke=\"#000000\"/>\n<text fill=\"#000000\" font-family=\"Times,serif\" font-size=\"14.00\" text-anchor=\"middle\" x=\"70\" y=\"-185.8\">input_36: InputLayer</text>\n<polyline fill=\"none\" points=\"140,-166.5 140,-212.5 \" stroke=\"#000000\"/>\n<text fill=\"#000000\" font-family=\"Times,serif\" font-size=\"14.00\" text-anchor=\"middle\" x=\"169\" y=\"-197.3\">input:</text>\n<polyline fill=\"none\" points=\"140,-189.5 198,-189.5 \" stroke=\"#000000\"/>\n<text fill=\"#000000\" font-family=\"Times,serif\" font-size=\"14.00\" text-anchor=\"middle\" x=\"169\" y=\"-174.3\">output:</text>\n<polyline fill=\"none\" points=\"198,-166.5 198,-212.5 \" stroke=\"#000000\"/>\n<text fill=\"#000000\" font-family=\"Times,serif\" font-size=\"14.00\" text-anchor=\"middle\" x=\"249\" y=\"-197.3\">(None, 64, 64)</text>\n<polyline fill=\"none\" points=\"198,-189.5 300,-189.5 \" stroke=\"#000000\"/>\n<text fill=\"#000000\" font-family=\"Times,serif\" font-size=\"14.00\" text-anchor=\"middle\" x=\"249\" y=\"-174.3\">(None, 64, 64)</text>\n</g>\n<!-- 140320893776056 -->\n<g class=\"node\" id=\"node3\">\n<title>140320893776056</title>\n<polygon fill=\"none\" points=\"169,-83.5 169,-129.5 449,-129.5 449,-83.5 169,-83.5\" stroke=\"#000000\"/>\n<text fill=\"#000000\" font-family=\"Times,serif\" font-size=\"14.00\" text-anchor=\"middle\" x=\"229\" y=\"-102.8\">model_20: Model</text>\n<polyline fill=\"none\" points=\"289,-83.5 289,-129.5 \" stroke=\"#000000\"/>\n<text fill=\"#000000\" font-family=\"Times,serif\" font-size=\"14.00\" text-anchor=\"middle\" x=\"318\" y=\"-114.3\">input:</text>\n<polyline fill=\"none\" points=\"289,-106.5 347,-106.5 \" stroke=\"#000000\"/>\n<text fill=\"#000000\" font-family=\"Times,serif\" font-size=\"14.00\" text-anchor=\"middle\" x=\"318\" y=\"-91.3\">output:</text>\n<polyline fill=\"none\" points=\"347,-83.5 347,-129.5 \" stroke=\"#000000\"/>\n<text fill=\"#000000\" font-family=\"Times,serif\" font-size=\"14.00\" text-anchor=\"middle\" x=\"398\" y=\"-114.3\">(None, 64, 64)</text>\n<polyline fill=\"none\" points=\"347,-106.5 449,-106.5 \" stroke=\"#000000\"/>\n<text fill=\"#000000\" font-family=\"Times,serif\" font-size=\"14.00\" text-anchor=\"middle\" x=\"398\" y=\"-91.3\">(None, 128)</text>\n</g>\n<!-- 140320901372504&#45;&gt;140320893776056 -->\n<g class=\"edge\" id=\"edge1\">\n<title>140320901372504-&gt;140320893776056</title>\n<path d=\"M194.2904,-166.3799C213.3349,-156.4384 235.7577,-144.7334 255.703,-134.3217\" fill=\"none\" stroke=\"#000000\"/>\n<polygon fill=\"#000000\" points=\"257.4265,-137.3703 264.6717,-129.6399 254.1871,-131.1649 257.4265,-137.3703\" stroke=\"#000000\"/>\n</g>\n<!-- 140320893777960 -->\n<g class=\"node\" id=\"node2\">\n<title>140320893777960</title>\n<polygon fill=\"none\" points=\"318,-166.5 318,-212.5 618,-212.5 618,-166.5 318,-166.5\" stroke=\"#000000\"/>\n<text fill=\"#000000\" font-family=\"Times,serif\" font-size=\"14.00\" text-anchor=\"middle\" x=\"388\" y=\"-185.8\">input_37: InputLayer</text>\n<polyline fill=\"none\" points=\"458,-166.5 458,-212.5 \" stroke=\"#000000\"/>\n<text fill=\"#000000\" font-family=\"Times,serif\" font-size=\"14.00\" text-anchor=\"middle\" x=\"487\" y=\"-197.3\">input:</text>\n<polyline fill=\"none\" points=\"458,-189.5 516,-189.5 \" stroke=\"#000000\"/>\n<text fill=\"#000000\" font-family=\"Times,serif\" font-size=\"14.00\" text-anchor=\"middle\" x=\"487\" y=\"-174.3\">output:</text>\n<polyline fill=\"none\" points=\"516,-166.5 516,-212.5 \" stroke=\"#000000\"/>\n<text fill=\"#000000\" font-family=\"Times,serif\" font-size=\"14.00\" text-anchor=\"middle\" x=\"567\" y=\"-197.3\">(None, 64, 64)</text>\n<polyline fill=\"none\" points=\"516,-189.5 618,-189.5 \" stroke=\"#000000\"/>\n<text fill=\"#000000\" font-family=\"Times,serif\" font-size=\"14.00\" text-anchor=\"middle\" x=\"567\" y=\"-174.3\">(None, 64, 64)</text>\n</g>\n<!-- 140320893777960&#45;&gt;140320893776056 -->\n<g class=\"edge\" id=\"edge2\">\n<title>140320893777960-&gt;140320893776056</title>\n<path d=\"M423.7096,-166.3799C404.6651,-156.4384 382.2423,-144.7334 362.297,-134.3217\" fill=\"none\" stroke=\"#000000\"/>\n<polygon fill=\"#000000\" points=\"363.8129,-131.1649 353.3283,-129.6399 360.5735,-137.3703 363.8129,-131.1649\" stroke=\"#000000\"/>\n</g>\n<!-- 140320893778296 -->\n<g class=\"node\" id=\"node4\">\n<title>140320893778296</title>\n<polygon fill=\"none\" points=\"132.5,-.5 132.5,-46.5 485.5,-46.5 485.5,-.5 132.5,-.5\" stroke=\"#000000\"/>\n<text fill=\"#000000\" font-family=\"Times,serif\" font-size=\"14.00\" text-anchor=\"middle\" x=\"193\" y=\"-19.8\">EuclDist: Lambda</text>\n<polyline fill=\"none\" points=\"253.5,-.5 253.5,-46.5 \" stroke=\"#000000\"/>\n<text fill=\"#000000\" font-family=\"Times,serif\" font-size=\"14.00\" text-anchor=\"middle\" x=\"282.5\" y=\"-31.3\">input:</text>\n<polyline fill=\"none\" points=\"253.5,-23.5 311.5,-23.5 \" stroke=\"#000000\"/>\n<text fill=\"#000000\" font-family=\"Times,serif\" font-size=\"14.00\" text-anchor=\"middle\" x=\"282.5\" y=\"-8.3\">output:</text>\n<polyline fill=\"none\" points=\"311.5,-.5 311.5,-46.5 \" stroke=\"#000000\"/>\n<text fill=\"#000000\" font-family=\"Times,serif\" font-size=\"14.00\" text-anchor=\"middle\" x=\"398.5\" y=\"-31.3\">[(None, 128), (None, 128)]</text>\n<polyline fill=\"none\" points=\"311.5,-23.5 485.5,-23.5 \" stroke=\"#000000\"/>\n<text fill=\"#000000\" font-family=\"Times,serif\" font-size=\"14.00\" text-anchor=\"middle\" x=\"398.5\" y=\"-8.3\">(None, 1)</text>\n</g>\n<!-- 140320893776056&#45;&gt;140320893778296 -->\n<g class=\"edge\" id=\"edge3\">\n<title>140320893776056-&gt;140320893778296</title>\n<path d=\"M309,-83.3799C309,-75.1745 309,-65.7679 309,-56.8786\" fill=\"none\" stroke=\"#000000\"/>\n<polygon fill=\"#000000\" points=\"312.5001,-56.784 309,-46.784 305.5001,-56.784 312.5001,-56.784\" stroke=\"#000000\"/>\n</g>\n</g>\n</svg>"
          },
          "metadata": {
            "tags": []
          }
        }
      ]
    },
    {
      "metadata": {
        "id": "hWPztnELCypp",
        "colab_type": "code",
        "colab": {}
      },
      "cell_type": "code",
      "source": [
        "model.fit_generator(generator=trainingBatchGen,\n",
        "                    steps_per_epoch=(len(lookupSeenTrain) // batchSize),\n",
        "                    epochs=numEpochs,\n",
        "                    verbose=1,\n",
        "                    validation_data=validateBatchGen,\n",
        "                    validation_steps=(len(lookupSeenValidate) // batchSize),\n",
        "                    use_multiprocessing=True,\n",
        "                    initial_epoch=0,\n",
        "                    workers=128,\n",
        "                    max_queue_size=64)"
      ],
      "execution_count": 0,
      "outputs": []
    },
    {
      "metadata": {
        "id": "laLbmP3kD8w3",
        "colab_type": "text"
      },
      "cell_type": "markdown",
      "source": [
        "## Modified Baseline"
      ]
    },
    {
      "metadata": {
        "id": "Cfqk92ccEAyj",
        "colab_type": "code",
        "colab": {
          "base_uri": "https://localhost:8080/",
          "height": 315
        },
        "outputId": "81001043-811a-458b-9411-dcd9ee902039"
      },
      "cell_type": "code",
      "source": [
        "inputShape = np.shape(cv2.imread(str(stickyPath+\"dataset/seen-dataset/TrainingSet/0001a_num4.png\"),cv2.IMREAD_GRAYSCALE))\n",
        "def create_base_network(input_shape):\n",
        "    '''\n",
        "    Base network to be shared (eq. to feature extraction).\n",
        "    Ref: Keras Documentation on MNNIST Siamese\n",
        "    '''\n",
        "    _input = Input(shape=input_shape)\n",
        "    x = Flatten()(_input)\n",
        "    x = Dense(128, activation='relu')(x)\n",
        "    x = Dense(256, activation='relu')(x)\n",
        "    x = Dense(512, activation='relu')(x)\n",
        "    x = Dropout(0.1)(x)\n",
        "    x = Dense(256, activation='relu')(x)\n",
        "    return Model(_input, x)\n",
        "base_network = create_base_network(inputShape)\n",
        "inputLeft = Input(shape=inputShape)\n",
        "inputRight = Input(shape=inputShape)\n",
        "processed_left = base_network(inputLeft)\n",
        "processed_right = base_network(inputRight)\n",
        "distance = Lambda(euclidean_distance,\n",
        "                  output_shape=eucl_dist_output_shape,name=\"EuclDist\")([processed_left, processed_right])\n",
        "model = Model([inputLeft, inputRight], distance)\n",
        "model.compile(loss=contrastive_loss, optimizer=Adam(lr=0.1), metrics=[accuracy])\n",
        "batchSize = 125\n",
        "numEpochs = 50\n",
        "initialEpoch = 0\n",
        "trainingBatchGen = genDataSeen(lookupSeenTrain,batchSize,\"train\",\"nn\")\n",
        "validateBatchGen = genDataSeen(lookupSeenValidate,batchSize,\"validate\",\"nn\")\n",
        "display(SVG(model_to_dot(model, show_layer_names=True, show_shapes=True, rankdir='TB').create(prog='dot', format='svg')))"
      ],
      "execution_count": 71,
      "outputs": [
        {
          "output_type": "display_data",
          "data": {
            "text/plain": [
              "<IPython.core.display.SVG object>"
            ],
            "image/svg+xml": "<svg height=\"221pt\" viewBox=\"0.00 0.00 626.00 221.00\" width=\"626pt\" xmlns=\"http://www.w3.org/2000/svg\" xmlns:xlink=\"http://www.w3.org/1999/xlink\">\n<g class=\"graph\" id=\"graph0\" transform=\"scale(1 1) rotate(0) translate(4 217)\">\n<title>G</title>\n<polygon fill=\"#ffffff\" points=\"-4,4 -4,-217 622,-217 622,4 -4,4\" stroke=\"transparent\"/>\n<!-- 140320852289856 -->\n<g class=\"node\" id=\"node1\">\n<title>140320852289856</title>\n<polygon fill=\"none\" points=\"0,-166.5 0,-212.5 300,-212.5 300,-166.5 0,-166.5\" stroke=\"#000000\"/>\n<text fill=\"#000000\" font-family=\"Times,serif\" font-size=\"14.00\" text-anchor=\"middle\" x=\"70\" y=\"-185.8\">input_45: InputLayer</text>\n<polyline fill=\"none\" points=\"140,-166.5 140,-212.5 \" stroke=\"#000000\"/>\n<text fill=\"#000000\" font-family=\"Times,serif\" font-size=\"14.00\" text-anchor=\"middle\" x=\"169\" y=\"-197.3\">input:</text>\n<polyline fill=\"none\" points=\"140,-189.5 198,-189.5 \" stroke=\"#000000\"/>\n<text fill=\"#000000\" font-family=\"Times,serif\" font-size=\"14.00\" text-anchor=\"middle\" x=\"169\" y=\"-174.3\">output:</text>\n<polyline fill=\"none\" points=\"198,-166.5 198,-212.5 \" stroke=\"#000000\"/>\n<text fill=\"#000000\" font-family=\"Times,serif\" font-size=\"14.00\" text-anchor=\"middle\" x=\"249\" y=\"-197.3\">(None, 64, 64)</text>\n<polyline fill=\"none\" points=\"198,-189.5 300,-189.5 \" stroke=\"#000000\"/>\n<text fill=\"#000000\" font-family=\"Times,serif\" font-size=\"14.00\" text-anchor=\"middle\" x=\"249\" y=\"-174.3\">(None, 64, 64)</text>\n</g>\n<!-- 140320808290568 -->\n<g class=\"node\" id=\"node3\">\n<title>140320808290568</title>\n<polygon fill=\"none\" points=\"169,-83.5 169,-129.5 449,-129.5 449,-83.5 169,-83.5\" stroke=\"#000000\"/>\n<text fill=\"#000000\" font-family=\"Times,serif\" font-size=\"14.00\" text-anchor=\"middle\" x=\"229\" y=\"-102.8\">model_26: Model</text>\n<polyline fill=\"none\" points=\"289,-83.5 289,-129.5 \" stroke=\"#000000\"/>\n<text fill=\"#000000\" font-family=\"Times,serif\" font-size=\"14.00\" text-anchor=\"middle\" x=\"318\" y=\"-114.3\">input:</text>\n<polyline fill=\"none\" points=\"289,-106.5 347,-106.5 \" stroke=\"#000000\"/>\n<text fill=\"#000000\" font-family=\"Times,serif\" font-size=\"14.00\" text-anchor=\"middle\" x=\"318\" y=\"-91.3\">output:</text>\n<polyline fill=\"none\" points=\"347,-83.5 347,-129.5 \" stroke=\"#000000\"/>\n<text fill=\"#000000\" font-family=\"Times,serif\" font-size=\"14.00\" text-anchor=\"middle\" x=\"398\" y=\"-114.3\">(None, 64, 64)</text>\n<polyline fill=\"none\" points=\"347,-106.5 449,-106.5 \" stroke=\"#000000\"/>\n<text fill=\"#000000\" font-family=\"Times,serif\" font-size=\"14.00\" text-anchor=\"middle\" x=\"398\" y=\"-91.3\">(None, 256)</text>\n</g>\n<!-- 140320852289856&#45;&gt;140320808290568 -->\n<g class=\"edge\" id=\"edge1\">\n<title>140320852289856-&gt;140320808290568</title>\n<path d=\"M194.2904,-166.3799C213.3349,-156.4384 235.7577,-144.7334 255.703,-134.3217\" fill=\"none\" stroke=\"#000000\"/>\n<polygon fill=\"#000000\" points=\"257.4265,-137.3703 264.6717,-129.6399 254.1871,-131.1649 257.4265,-137.3703\" stroke=\"#000000\"/>\n</g>\n<!-- 140320808292024 -->\n<g class=\"node\" id=\"node2\">\n<title>140320808292024</title>\n<polygon fill=\"none\" points=\"318,-166.5 318,-212.5 618,-212.5 618,-166.5 318,-166.5\" stroke=\"#000000\"/>\n<text fill=\"#000000\" font-family=\"Times,serif\" font-size=\"14.00\" text-anchor=\"middle\" x=\"388\" y=\"-185.8\">input_46: InputLayer</text>\n<polyline fill=\"none\" points=\"458,-166.5 458,-212.5 \" stroke=\"#000000\"/>\n<text fill=\"#000000\" font-family=\"Times,serif\" font-size=\"14.00\" text-anchor=\"middle\" x=\"487\" y=\"-197.3\">input:</text>\n<polyline fill=\"none\" points=\"458,-189.5 516,-189.5 \" stroke=\"#000000\"/>\n<text fill=\"#000000\" font-family=\"Times,serif\" font-size=\"14.00\" text-anchor=\"middle\" x=\"487\" y=\"-174.3\">output:</text>\n<polyline fill=\"none\" points=\"516,-166.5 516,-212.5 \" stroke=\"#000000\"/>\n<text fill=\"#000000\" font-family=\"Times,serif\" font-size=\"14.00\" text-anchor=\"middle\" x=\"567\" y=\"-197.3\">(None, 64, 64)</text>\n<polyline fill=\"none\" points=\"516,-189.5 618,-189.5 \" stroke=\"#000000\"/>\n<text fill=\"#000000\" font-family=\"Times,serif\" font-size=\"14.00\" text-anchor=\"middle\" x=\"567\" y=\"-174.3\">(None, 64, 64)</text>\n</g>\n<!-- 140320808292024&#45;&gt;140320808290568 -->\n<g class=\"edge\" id=\"edge2\">\n<title>140320808292024-&gt;140320808290568</title>\n<path d=\"M423.7096,-166.3799C404.6651,-156.4384 382.2423,-144.7334 362.297,-134.3217\" fill=\"none\" stroke=\"#000000\"/>\n<polygon fill=\"#000000\" points=\"363.8129,-131.1649 353.3283,-129.6399 360.5735,-137.3703 363.8129,-131.1649\" stroke=\"#000000\"/>\n</g>\n<!-- 140320832802096 -->\n<g class=\"node\" id=\"node4\">\n<title>140320832802096</title>\n<polygon fill=\"none\" points=\"132.5,-.5 132.5,-46.5 485.5,-46.5 485.5,-.5 132.5,-.5\" stroke=\"#000000\"/>\n<text fill=\"#000000\" font-family=\"Times,serif\" font-size=\"14.00\" text-anchor=\"middle\" x=\"193\" y=\"-19.8\">EuclDist: Lambda</text>\n<polyline fill=\"none\" points=\"253.5,-.5 253.5,-46.5 \" stroke=\"#000000\"/>\n<text fill=\"#000000\" font-family=\"Times,serif\" font-size=\"14.00\" text-anchor=\"middle\" x=\"282.5\" y=\"-31.3\">input:</text>\n<polyline fill=\"none\" points=\"253.5,-23.5 311.5,-23.5 \" stroke=\"#000000\"/>\n<text fill=\"#000000\" font-family=\"Times,serif\" font-size=\"14.00\" text-anchor=\"middle\" x=\"282.5\" y=\"-8.3\">output:</text>\n<polyline fill=\"none\" points=\"311.5,-.5 311.5,-46.5 \" stroke=\"#000000\"/>\n<text fill=\"#000000\" font-family=\"Times,serif\" font-size=\"14.00\" text-anchor=\"middle\" x=\"398.5\" y=\"-31.3\">[(None, 256), (None, 256)]</text>\n<polyline fill=\"none\" points=\"311.5,-23.5 485.5,-23.5 \" stroke=\"#000000\"/>\n<text fill=\"#000000\" font-family=\"Times,serif\" font-size=\"14.00\" text-anchor=\"middle\" x=\"398.5\" y=\"-8.3\">(None, 1)</text>\n</g>\n<!-- 140320808290568&#45;&gt;140320832802096 -->\n<g class=\"edge\" id=\"edge3\">\n<title>140320808290568-&gt;140320832802096</title>\n<path d=\"M309,-83.3799C309,-75.1745 309,-65.7679 309,-56.8786\" fill=\"none\" stroke=\"#000000\"/>\n<polygon fill=\"#000000\" points=\"312.5001,-56.784 309,-46.784 305.5001,-56.784 312.5001,-56.784\" stroke=\"#000000\"/>\n</g>\n</g>\n</svg>"
          },
          "metadata": {
            "tags": []
          }
        }
      ]
    },
    {
      "metadata": {
        "id": "Fcfwx8STEqj_",
        "colab_type": "code",
        "colab": {}
      },
      "cell_type": "code",
      "source": [
        "model.fit_generator(generator=trainingBatchGen,\n",
        "                    steps_per_epoch=(len(lookupSeenTrain) // batchSize),\n",
        "                    epochs=numEpochs,\n",
        "                    verbose=1,\n",
        "                    validation_data=validateBatchGen,\n",
        "                    validation_steps=(len(lookupSeenValidate) // batchSize),\n",
        "                    use_multiprocessing=True,\n",
        "                    initial_epoch=0,\n",
        "                    workers=128,\n",
        "                    max_queue_size=64)"
      ],
      "execution_count": 0,
      "outputs": []
    },
    {
      "metadata": {
        "id": "T8lzo00V0P4M",
        "colab_type": "text"
      },
      "cell_type": "markdown",
      "source": [
        "## Model 2 Siamese"
      ]
    },
    {
      "metadata": {
        "id": "N6fcFa3d0P4U",
        "colab_type": "code",
        "colab": {}
      },
      "cell_type": "code",
      "source": [
        "inputShape = (64, 64, 1)\n",
        "def caffeReplicatedModel(input_shape):\n",
        "    _input = Input(input_shape)\n",
        "    x = Conv2D(filters=20,kernel_size=5,\n",
        "                     kernel_initializer=\"glorot_normal\",\n",
        "                     strides=1,activation=\"relu\",\n",
        "                     use_bias=False)(_input)\n",
        "    x = MaxPooling2D(pool_size=2,strides=2)(x)\n",
        "    x = BatchNormalization()(x)\n",
        "    x = Conv2D(filters=20,kernel_size=5,\n",
        "                     kernel_initializer=\"glorot_normal\",\n",
        "                     strides=1,activation=\"relu\",\n",
        "                     use_bias=False)(x)\n",
        "    x = MaxPooling2D(pool_size=2,strides=2)(x)\n",
        "    x = Flatten()(x)\n",
        "    return Model(_input, x)\n",
        "nw2 = caffeReplicatedModel(inputShape)\n",
        "inputLeft = Input(shape=inputShape)\n",
        "inputRight = Input(shape=inputShape)\n",
        "processed_left = nw2(inputLeft)\n",
        "processed_right = nw2(inputRight)\n",
        "distance = Lambda(euclidean_distance,\n",
        "                  output_shape=eucl_dist_output_shape)([processed_left, processed_right])\n",
        "model = Model([inputLeft, inputRight], distance)\n",
        "rms = RMSprop()\n",
        "model.compile(loss=contrastive_loss, optimizer=rms, metrics=[accuracy])\n",
        "batchSize = 10\n",
        "numEpochs = 5\n",
        "initialEpoch = 0"
      ],
      "execution_count": 0,
      "outputs": []
    },
    {
      "metadata": {
        "id": "S3E9Z3PF0P4r",
        "colab_type": "code",
        "colab": {}
      },
      "cell_type": "code",
      "source": [
        "trainingBatchGen = genDataSeen(lookupSeenTrain,batchSize,\"train\",\"cnn\")\n",
        "validateBatchGen = genDataSeen(lookupSeenValidate,batchSize,\"validate\",\"cnn\")"
      ],
      "execution_count": 0,
      "outputs": []
    },
    {
      "metadata": {
        "id": "wH-iZ8K20P4t",
        "colab_type": "code",
        "colab": {
          "base_uri": "https://localhost:8080/",
          "height": 3434
        },
        "outputId": "4e580c64-3315-4573-8436-619ec1b16145"
      },
      "cell_type": "code",
      "source": [
        "model.fit_generator(generator=trainingBatchGen,\n",
        "                    steps_per_epoch=(len(lookupSeenTrain) // batchSize),\n",
        "                    epochs=numEpochs,\n",
        "                    verbose=1,\n",
        "                    validation_data=validateBatchGen,\n",
        "                    validation_steps=(len(lookupSeenValidate) // batchSize),\n",
        "                    use_multiprocessing=True,\n",
        "                    initial_epoch=0,\n",
        "                    workers=128,\n",
        "                    max_queue_size=64)"
      ],
      "execution_count": 23,
      "outputs": [
        {
          "output_type": "stream",
          "text": [
            "Epoch 1/5\n",
            "22878/22878 [==============================] - 299s 13ms/step - loss: 0.0132 - accuracy: 0.9905 - val_loss: 0.5048 - val_accuracy: 0.4972\n",
            "Epoch 2/5\n",
            "22878/22878 [==============================] - 307s 13ms/step - loss: 0.0138 - accuracy: 0.9897 - val_loss: 0.4996 - val_accuracy: 0.4994\n",
            "Epoch 3/5\n",
            " 1983/22878 [=>............................] - ETA: 5:34 - loss: 0.0128 - accuracy: 0.9907"
          ],
          "name": "stdout"
        },
        {
          "output_type": "stream",
          "text": [
            "Process ForkPoolWorker-2669:\n",
            "Process ForkPoolWorker-2678:\n",
            "Process ForkPoolWorker-2566:\n",
            "Process ForkPoolWorker-2717:\n",
            "Process ForkPoolWorker-2615:\n",
            "Process ForkPoolWorker-2710:\n",
            "Process ForkPoolWorker-2811:\n",
            "Process ForkPoolWorker-2781:\n",
            "Process ForkPoolWorker-2806:\n",
            "Process ForkPoolWorker-2752:\n",
            "Process ForkPoolWorker-2605:\n",
            "Process ForkPoolWorker-2719:\n",
            "Process ForkPoolWorker-2599:\n",
            "Process ForkPoolWorker-2561:\n",
            "Process ForkPoolWorker-2625:\n",
            "Process ForkPoolWorker-2600:\n",
            "Process ForkPoolWorker-2646:\n",
            "Process ForkPoolWorker-2667:\n",
            "Process ForkPoolWorker-2585:\n",
            "Process ForkPoolWorker-2612:\n",
            "Process ForkPoolWorker-2776:\n",
            "Process ForkPoolWorker-2580:\n",
            "Process ForkPoolWorker-2704:\n",
            "Process ForkPoolWorker-2715:\n",
            "Process ForkPoolWorker-2563:\n",
            "Process ForkPoolWorker-2693:\n",
            "Process ForkPoolWorker-2613:\n",
            "Process ForkPoolWorker-2687:\n",
            "Process ForkPoolWorker-2738:\n",
            "Process ForkPoolWorker-2713:\n",
            "Process ForkPoolWorker-2787:\n",
            "Process ForkPoolWorker-2565:\n",
            "Process ForkPoolWorker-2642:\n",
            "Process ForkPoolWorker-2577:\n",
            "Process ForkPoolWorker-2764:\n",
            "Process ForkPoolWorker-2672:\n",
            "Process ForkPoolWorker-2720:\n",
            "Process ForkPoolWorker-2718:\n",
            "Process ForkPoolWorker-2740:\n",
            "Process ForkPoolWorker-2629:\n",
            "Process ForkPoolWorker-2622:\n",
            "Process ForkPoolWorker-2591:\n",
            "Process ForkPoolWorker-2648:\n",
            "Process ForkPoolWorker-2700:\n",
            "Process ForkPoolWorker-2802:\n",
            "Process ForkPoolWorker-2573:\n",
            "Process ForkPoolWorker-2800:\n",
            "Process ForkPoolWorker-2661:\n",
            "Process ForkPoolWorker-2753:\n",
            "Process ForkPoolWorker-2640:\n",
            "Process ForkPoolWorker-2644:\n",
            "Process ForkPoolWorker-2587:\n",
            "Process ForkPoolWorker-2586:\n",
            "Process ForkPoolWorker-2711:\n",
            "Process ForkPoolWorker-2790:\n",
            "Process ForkPoolWorker-2807:\n",
            "Process ForkPoolWorker-2796:\n",
            "Process ForkPoolWorker-2571:\n",
            "Process ForkPoolWorker-2682:\n",
            "Process ForkPoolWorker-2723:\n",
            "Process ForkPoolWorker-2803:\n",
            "Process ForkPoolWorker-2653:\n",
            "Process ForkPoolWorker-2607:\n",
            "Process ForkPoolWorker-2609:\n",
            "Process ForkPoolWorker-2809:\n",
            "Process ForkPoolWorker-2777:\n",
            "Process ForkPoolWorker-2650:\n",
            "Process ForkPoolWorker-2683:\n",
            "Process ForkPoolWorker-2564:\n",
            "Process ForkPoolWorker-2765:\n",
            "Process ForkPoolWorker-2596:\n",
            "Process ForkPoolWorker-2784:\n",
            "Process ForkPoolWorker-2782:\n",
            "Process ForkPoolWorker-2568:\n",
            "Process ForkPoolWorker-2570:\n",
            "Process ForkPoolWorker-2589:\n",
            "Process ForkPoolWorker-2795:\n",
            "Process ForkPoolWorker-2733:\n",
            "Process ForkPoolWorker-2748:\n",
            "Process ForkPoolWorker-2588:\n",
            "Traceback (most recent call last):\n"
          ],
          "name": "stderr"
        },
        {
          "output_type": "stream",
          "text": [
            "\n",
            "   21/22878 [..............................] - ETA: 1:17:27 - loss: 4.2857e-08 - accuracy: 1.0000"
          ],
          "name": "stdout"
        },
        {
          "output_type": "error",
          "ename": "KeyboardInterrupt",
          "evalue": "ignored",
          "traceback": [
            "\u001b[0;31m---------------------------------------------------------------------------\u001b[0m",
            "\u001b[0;31mKeyboardInterrupt\u001b[0m                         Traceback (most recent call last)",
            "\u001b[0;32m/usr/local/lib/python3.6/dist-packages/keras/engine/training_generator.py\u001b[0m in \u001b[0;36mfit_generator\u001b[0;34m(model, generator, steps_per_epoch, epochs, verbose, callbacks, validation_data, validation_steps, class_weight, max_queue_size, workers, use_multiprocessing, shuffle, initial_epoch)\u001b[0m\n\u001b[1;32m    216\u001b[0m                                             \u001b[0msample_weight\u001b[0m\u001b[0;34m=\u001b[0m\u001b[0msample_weight\u001b[0m\u001b[0;34m,\u001b[0m\u001b[0;34m\u001b[0m\u001b[0;34m\u001b[0m\u001b[0m\n\u001b[0;32m--> 217\u001b[0;31m                                             class_weight=class_weight)\n\u001b[0m\u001b[1;32m    218\u001b[0m \u001b[0;34m\u001b[0m\u001b[0m\n",
            "\u001b[0;32m/usr/local/lib/python3.6/dist-packages/keras/engine/training.py\u001b[0m in \u001b[0;36mtrain_on_batch\u001b[0;34m(self, x, y, sample_weight, class_weight)\u001b[0m\n\u001b[1;32m   1216\u001b[0m         \u001b[0mself\u001b[0m\u001b[0;34m.\u001b[0m\u001b[0m_make_train_function\u001b[0m\u001b[0;34m(\u001b[0m\u001b[0;34m)\u001b[0m\u001b[0;34m\u001b[0m\u001b[0;34m\u001b[0m\u001b[0m\n\u001b[0;32m-> 1217\u001b[0;31m         \u001b[0moutputs\u001b[0m \u001b[0;34m=\u001b[0m \u001b[0mself\u001b[0m\u001b[0;34m.\u001b[0m\u001b[0mtrain_function\u001b[0m\u001b[0;34m(\u001b[0m\u001b[0mins\u001b[0m\u001b[0;34m)\u001b[0m\u001b[0;34m\u001b[0m\u001b[0;34m\u001b[0m\u001b[0m\n\u001b[0m\u001b[1;32m   1218\u001b[0m         \u001b[0;32mreturn\u001b[0m \u001b[0munpack_singleton\u001b[0m\u001b[0;34m(\u001b[0m\u001b[0moutputs\u001b[0m\u001b[0;34m)\u001b[0m\u001b[0;34m\u001b[0m\u001b[0;34m\u001b[0m\u001b[0m\n",
            "\u001b[0;32m/usr/local/lib/python3.6/dist-packages/keras/backend/tensorflow_backend.py\u001b[0m in \u001b[0;36m__call__\u001b[0;34m(self, inputs)\u001b[0m\n\u001b[1;32m   2714\u001b[0m \u001b[0;34m\u001b[0m\u001b[0m\n\u001b[0;32m-> 2715\u001b[0;31m             \u001b[0;32mreturn\u001b[0m \u001b[0mself\u001b[0m\u001b[0;34m.\u001b[0m\u001b[0m_call\u001b[0m\u001b[0;34m(\u001b[0m\u001b[0minputs\u001b[0m\u001b[0;34m)\u001b[0m\u001b[0;34m\u001b[0m\u001b[0;34m\u001b[0m\u001b[0m\n\u001b[0m\u001b[1;32m   2716\u001b[0m         \u001b[0;32melse\u001b[0m\u001b[0;34m:\u001b[0m\u001b[0;34m\u001b[0m\u001b[0;34m\u001b[0m\u001b[0m\n",
            "\u001b[0;32m/usr/local/lib/python3.6/dist-packages/keras/backend/tensorflow_backend.py\u001b[0m in \u001b[0;36m_call\u001b[0;34m(self, inputs)\u001b[0m\n\u001b[1;32m   2674\u001b[0m         \u001b[0;32melse\u001b[0m\u001b[0;34m:\u001b[0m\u001b[0;34m\u001b[0m\u001b[0;34m\u001b[0m\u001b[0m\n\u001b[0;32m-> 2675\u001b[0;31m             \u001b[0mfetched\u001b[0m \u001b[0;34m=\u001b[0m \u001b[0mself\u001b[0m\u001b[0;34m.\u001b[0m\u001b[0m_callable_fn\u001b[0m\u001b[0;34m(\u001b[0m\u001b[0;34m*\u001b[0m\u001b[0marray_vals\u001b[0m\u001b[0;34m)\u001b[0m\u001b[0;34m\u001b[0m\u001b[0;34m\u001b[0m\u001b[0m\n\u001b[0m\u001b[1;32m   2676\u001b[0m         \u001b[0;32mreturn\u001b[0m \u001b[0mfetched\u001b[0m\u001b[0;34m[\u001b[0m\u001b[0;34m:\u001b[0m\u001b[0mlen\u001b[0m\u001b[0;34m(\u001b[0m\u001b[0mself\u001b[0m\u001b[0;34m.\u001b[0m\u001b[0moutputs\u001b[0m\u001b[0;34m)\u001b[0m\u001b[0;34m]\u001b[0m\u001b[0;34m\u001b[0m\u001b[0;34m\u001b[0m\u001b[0m\n",
            "\u001b[0;32m/usr/local/lib/python3.6/dist-packages/tensorflow/python/client/session.py\u001b[0m in \u001b[0;36m__call__\u001b[0;34m(self, *args, **kwargs)\u001b[0m\n\u001b[1;32m   1438\u001b[0m               \u001b[0mself\u001b[0m\u001b[0;34m.\u001b[0m\u001b[0m_session\u001b[0m\u001b[0;34m.\u001b[0m\u001b[0m_session\u001b[0m\u001b[0;34m,\u001b[0m \u001b[0mself\u001b[0m\u001b[0;34m.\u001b[0m\u001b[0m_handle\u001b[0m\u001b[0;34m,\u001b[0m \u001b[0margs\u001b[0m\u001b[0;34m,\u001b[0m \u001b[0mstatus\u001b[0m\u001b[0;34m,\u001b[0m\u001b[0;34m\u001b[0m\u001b[0;34m\u001b[0m\u001b[0m\n\u001b[0;32m-> 1439\u001b[0;31m               run_metadata_ptr)\n\u001b[0m\u001b[1;32m   1440\u001b[0m         \u001b[0;32mif\u001b[0m \u001b[0mrun_metadata\u001b[0m\u001b[0;34m:\u001b[0m\u001b[0;34m\u001b[0m\u001b[0;34m\u001b[0m\u001b[0m\n",
            "\u001b[0;31mKeyboardInterrupt\u001b[0m: ",
            "\nDuring handling of the above exception, another exception occurred:\n",
            "\u001b[0;31mKeyboardInterrupt\u001b[0m                         Traceback (most recent call last)",
            "\u001b[0;32m/usr/local/lib/python3.6/dist-packages/keras/engine/training_generator.py\u001b[0m in \u001b[0;36mfit_generator\u001b[0;34m(model, generator, steps_per_epoch, epochs, verbose, callbacks, validation_data, validation_steps, class_weight, max_queue_size, workers, use_multiprocessing, shuffle, initial_epoch)\u001b[0m\n\u001b[1;32m    258\u001b[0m             \u001b[0;32mif\u001b[0m \u001b[0menqueuer\u001b[0m \u001b[0;32mis\u001b[0m \u001b[0;32mnot\u001b[0m \u001b[0;32mNone\u001b[0m\u001b[0;34m:\u001b[0m\u001b[0;34m\u001b[0m\u001b[0;34m\u001b[0m\u001b[0m\n\u001b[0;32m--> 259\u001b[0;31m                 \u001b[0menqueuer\u001b[0m\u001b[0;34m.\u001b[0m\u001b[0mstop\u001b[0m\u001b[0;34m(\u001b[0m\u001b[0;34m)\u001b[0m\u001b[0;34m\u001b[0m\u001b[0;34m\u001b[0m\u001b[0m\n\u001b[0m\u001b[1;32m    260\u001b[0m         \u001b[0;32mfinally\u001b[0m\u001b[0;34m:\u001b[0m\u001b[0;34m\u001b[0m\u001b[0;34m\u001b[0m\u001b[0m\n",
            "\u001b[0;32m/usr/local/lib/python3.6/dist-packages/keras/utils/data_utils.py\u001b[0m in \u001b[0;36mstop\u001b[0;34m(self, timeout)\u001b[0m\n\u001b[1;32m    495\u001b[0m             \u001b[0mself\u001b[0m\u001b[0;34m.\u001b[0m\u001b[0mqueue\u001b[0m\u001b[0;34m.\u001b[0m\u001b[0mnot_full\u001b[0m\u001b[0;34m.\u001b[0m\u001b[0mnotify\u001b[0m\u001b[0;34m(\u001b[0m\u001b[0;34m)\u001b[0m\u001b[0;34m\u001b[0m\u001b[0;34m\u001b[0m\u001b[0m\n\u001b[0;32m--> 496\u001b[0;31m         \u001b[0mself\u001b[0m\u001b[0;34m.\u001b[0m\u001b[0mrun_thread\u001b[0m\u001b[0;34m.\u001b[0m\u001b[0mjoin\u001b[0m\u001b[0;34m(\u001b[0m\u001b[0mtimeout\u001b[0m\u001b[0;34m)\u001b[0m\u001b[0;34m\u001b[0m\u001b[0;34m\u001b[0m\u001b[0m\n\u001b[0m\u001b[1;32m    497\u001b[0m         \u001b[0m_SHARED_SEQUENCES\u001b[0m\u001b[0;34m[\u001b[0m\u001b[0mself\u001b[0m\u001b[0;34m.\u001b[0m\u001b[0muid\u001b[0m\u001b[0;34m]\u001b[0m \u001b[0;34m=\u001b[0m \u001b[0;32mNone\u001b[0m\u001b[0;34m\u001b[0m\u001b[0;34m\u001b[0m\u001b[0m\n",
            "\u001b[0;32m/usr/lib/python3.6/threading.py\u001b[0m in \u001b[0;36mjoin\u001b[0;34m(self, timeout)\u001b[0m\n\u001b[1;32m   1055\u001b[0m         \u001b[0;32mif\u001b[0m \u001b[0mtimeout\u001b[0m \u001b[0;32mis\u001b[0m \u001b[0;32mNone\u001b[0m\u001b[0;34m:\u001b[0m\u001b[0;34m\u001b[0m\u001b[0;34m\u001b[0m\u001b[0m\n\u001b[0;32m-> 1056\u001b[0;31m             \u001b[0mself\u001b[0m\u001b[0;34m.\u001b[0m\u001b[0m_wait_for_tstate_lock\u001b[0m\u001b[0;34m(\u001b[0m\u001b[0;34m)\u001b[0m\u001b[0;34m\u001b[0m\u001b[0;34m\u001b[0m\u001b[0m\n\u001b[0m\u001b[1;32m   1057\u001b[0m         \u001b[0;32melse\u001b[0m\u001b[0;34m:\u001b[0m\u001b[0;34m\u001b[0m\u001b[0;34m\u001b[0m\u001b[0m\n",
            "\u001b[0;32m/usr/lib/python3.6/threading.py\u001b[0m in \u001b[0;36m_wait_for_tstate_lock\u001b[0;34m(self, block, timeout)\u001b[0m\n\u001b[1;32m   1071\u001b[0m             \u001b[0;32massert\u001b[0m \u001b[0mself\u001b[0m\u001b[0;34m.\u001b[0m\u001b[0m_is_stopped\u001b[0m\u001b[0;34m\u001b[0m\u001b[0;34m\u001b[0m\u001b[0m\n\u001b[0;32m-> 1072\u001b[0;31m         \u001b[0;32melif\u001b[0m \u001b[0mlock\u001b[0m\u001b[0;34m.\u001b[0m\u001b[0macquire\u001b[0m\u001b[0;34m(\u001b[0m\u001b[0mblock\u001b[0m\u001b[0;34m,\u001b[0m \u001b[0mtimeout\u001b[0m\u001b[0;34m)\u001b[0m\u001b[0;34m:\u001b[0m\u001b[0;34m\u001b[0m\u001b[0;34m\u001b[0m\u001b[0m\n\u001b[0m\u001b[1;32m   1073\u001b[0m             \u001b[0mlock\u001b[0m\u001b[0;34m.\u001b[0m\u001b[0mrelease\u001b[0m\u001b[0;34m(\u001b[0m\u001b[0;34m)\u001b[0m\u001b[0;34m\u001b[0m\u001b[0;34m\u001b[0m\u001b[0m\n",
            "\u001b[0;31mKeyboardInterrupt\u001b[0m: ",
            "\nDuring handling of the above exception, another exception occurred:\n",
            "\u001b[0;31mKeyboardInterrupt\u001b[0m                         Traceback (most recent call last)",
            "\u001b[0;32m<ipython-input-23-066f7bf05cfd>\u001b[0m in \u001b[0;36m<module>\u001b[0;34m()\u001b[0m\n\u001b[1;32m      8\u001b[0m                     \u001b[0minitial_epoch\u001b[0m\u001b[0;34m=\u001b[0m\u001b[0;36m0\u001b[0m\u001b[0;34m,\u001b[0m\u001b[0;34m\u001b[0m\u001b[0;34m\u001b[0m\u001b[0m\n\u001b[1;32m      9\u001b[0m                     \u001b[0mworkers\u001b[0m\u001b[0;34m=\u001b[0m\u001b[0;36m128\u001b[0m\u001b[0;34m,\u001b[0m\u001b[0;34m\u001b[0m\u001b[0;34m\u001b[0m\u001b[0m\n\u001b[0;32m---> 10\u001b[0;31m                     max_queue_size=64)\n\u001b[0m",
            "\u001b[0;32m/usr/local/lib/python3.6/dist-packages/keras/legacy/interfaces.py\u001b[0m in \u001b[0;36mwrapper\u001b[0;34m(*args, **kwargs)\u001b[0m\n\u001b[1;32m     89\u001b[0m                 warnings.warn('Update your `' + object_name + '` call to the ' +\n\u001b[1;32m     90\u001b[0m                               'Keras 2 API: ' + signature, stacklevel=2)\n\u001b[0;32m---> 91\u001b[0;31m             \u001b[0;32mreturn\u001b[0m \u001b[0mfunc\u001b[0m\u001b[0;34m(\u001b[0m\u001b[0;34m*\u001b[0m\u001b[0margs\u001b[0m\u001b[0;34m,\u001b[0m \u001b[0;34m**\u001b[0m\u001b[0mkwargs\u001b[0m\u001b[0;34m)\u001b[0m\u001b[0;34m\u001b[0m\u001b[0;34m\u001b[0m\u001b[0m\n\u001b[0m\u001b[1;32m     92\u001b[0m         \u001b[0mwrapper\u001b[0m\u001b[0;34m.\u001b[0m\u001b[0m_original_function\u001b[0m \u001b[0;34m=\u001b[0m \u001b[0mfunc\u001b[0m\u001b[0;34m\u001b[0m\u001b[0;34m\u001b[0m\u001b[0m\n\u001b[1;32m     93\u001b[0m         \u001b[0;32mreturn\u001b[0m \u001b[0mwrapper\u001b[0m\u001b[0;34m\u001b[0m\u001b[0;34m\u001b[0m\u001b[0m\n",
            "\u001b[0;32m/usr/local/lib/python3.6/dist-packages/keras/engine/training.py\u001b[0m in \u001b[0;36mfit_generator\u001b[0;34m(self, generator, steps_per_epoch, epochs, verbose, callbacks, validation_data, validation_steps, class_weight, max_queue_size, workers, use_multiprocessing, shuffle, initial_epoch)\u001b[0m\n\u001b[1;32m   1416\u001b[0m             \u001b[0muse_multiprocessing\u001b[0m\u001b[0;34m=\u001b[0m\u001b[0muse_multiprocessing\u001b[0m\u001b[0;34m,\u001b[0m\u001b[0;34m\u001b[0m\u001b[0;34m\u001b[0m\u001b[0m\n\u001b[1;32m   1417\u001b[0m             \u001b[0mshuffle\u001b[0m\u001b[0;34m=\u001b[0m\u001b[0mshuffle\u001b[0m\u001b[0;34m,\u001b[0m\u001b[0;34m\u001b[0m\u001b[0;34m\u001b[0m\u001b[0m\n\u001b[0;32m-> 1418\u001b[0;31m             initial_epoch=initial_epoch)\n\u001b[0m\u001b[1;32m   1419\u001b[0m \u001b[0;34m\u001b[0m\u001b[0m\n\u001b[1;32m   1420\u001b[0m     \u001b[0;34m@\u001b[0m\u001b[0minterfaces\u001b[0m\u001b[0;34m.\u001b[0m\u001b[0mlegacy_generator_methods_support\u001b[0m\u001b[0;34m\u001b[0m\u001b[0;34m\u001b[0m\u001b[0m\n",
            "\u001b[0;32m/usr/local/lib/python3.6/dist-packages/keras/engine/training_generator.py\u001b[0m in \u001b[0;36mfit_generator\u001b[0;34m(model, generator, steps_per_epoch, epochs, verbose, callbacks, validation_data, validation_steps, class_weight, max_queue_size, workers, use_multiprocessing, shuffle, initial_epoch)\u001b[0m\n\u001b[1;32m    260\u001b[0m         \u001b[0;32mfinally\u001b[0m\u001b[0;34m:\u001b[0m\u001b[0;34m\u001b[0m\u001b[0;34m\u001b[0m\u001b[0m\n\u001b[1;32m    261\u001b[0m             \u001b[0;32mif\u001b[0m \u001b[0mval_enqueuer\u001b[0m \u001b[0;32mis\u001b[0m \u001b[0;32mnot\u001b[0m \u001b[0;32mNone\u001b[0m\u001b[0;34m:\u001b[0m\u001b[0;34m\u001b[0m\u001b[0;34m\u001b[0m\u001b[0m\n\u001b[0;32m--> 262\u001b[0;31m                 \u001b[0mval_enqueuer\u001b[0m\u001b[0;34m.\u001b[0m\u001b[0mstop\u001b[0m\u001b[0;34m(\u001b[0m\u001b[0;34m)\u001b[0m\u001b[0;34m\u001b[0m\u001b[0;34m\u001b[0m\u001b[0m\n\u001b[0m\u001b[1;32m    263\u001b[0m \u001b[0;34m\u001b[0m\u001b[0m\n\u001b[1;32m    264\u001b[0m     \u001b[0mcallbacks\u001b[0m\u001b[0;34m.\u001b[0m\u001b[0mon_train_end\u001b[0m\u001b[0;34m(\u001b[0m\u001b[0;34m)\u001b[0m\u001b[0;34m\u001b[0m\u001b[0;34m\u001b[0m\u001b[0m\n",
            "\u001b[0;32m/usr/local/lib/python3.6/dist-packages/keras/utils/data_utils.py\u001b[0m in \u001b[0;36mstop\u001b[0;34m(self, timeout)\u001b[0m\n\u001b[1;32m    494\u001b[0m             \u001b[0mself\u001b[0m\u001b[0;34m.\u001b[0m\u001b[0mqueue\u001b[0m\u001b[0;34m.\u001b[0m\u001b[0munfinished_tasks\u001b[0m \u001b[0;34m=\u001b[0m \u001b[0;36m0\u001b[0m\u001b[0;34m\u001b[0m\u001b[0;34m\u001b[0m\u001b[0m\n\u001b[1;32m    495\u001b[0m             \u001b[0mself\u001b[0m\u001b[0;34m.\u001b[0m\u001b[0mqueue\u001b[0m\u001b[0;34m.\u001b[0m\u001b[0mnot_full\u001b[0m\u001b[0;34m.\u001b[0m\u001b[0mnotify\u001b[0m\u001b[0;34m(\u001b[0m\u001b[0;34m)\u001b[0m\u001b[0;34m\u001b[0m\u001b[0;34m\u001b[0m\u001b[0m\n\u001b[0;32m--> 496\u001b[0;31m         \u001b[0mself\u001b[0m\u001b[0;34m.\u001b[0m\u001b[0mrun_thread\u001b[0m\u001b[0;34m.\u001b[0m\u001b[0mjoin\u001b[0m\u001b[0;34m(\u001b[0m\u001b[0mtimeout\u001b[0m\u001b[0;34m)\u001b[0m\u001b[0;34m\u001b[0m\u001b[0;34m\u001b[0m\u001b[0m\n\u001b[0m\u001b[1;32m    497\u001b[0m         \u001b[0m_SHARED_SEQUENCES\u001b[0m\u001b[0;34m[\u001b[0m\u001b[0mself\u001b[0m\u001b[0;34m.\u001b[0m\u001b[0muid\u001b[0m\u001b[0;34m]\u001b[0m \u001b[0;34m=\u001b[0m \u001b[0;32mNone\u001b[0m\u001b[0;34m\u001b[0m\u001b[0;34m\u001b[0m\u001b[0m\n\u001b[1;32m    498\u001b[0m \u001b[0;34m\u001b[0m\u001b[0m\n",
            "\u001b[0;32m/usr/lib/python3.6/threading.py\u001b[0m in \u001b[0;36mjoin\u001b[0;34m(self, timeout)\u001b[0m\n\u001b[1;32m   1054\u001b[0m \u001b[0;34m\u001b[0m\u001b[0m\n\u001b[1;32m   1055\u001b[0m         \u001b[0;32mif\u001b[0m \u001b[0mtimeout\u001b[0m \u001b[0;32mis\u001b[0m \u001b[0;32mNone\u001b[0m\u001b[0;34m:\u001b[0m\u001b[0;34m\u001b[0m\u001b[0;34m\u001b[0m\u001b[0m\n\u001b[0;32m-> 1056\u001b[0;31m             \u001b[0mself\u001b[0m\u001b[0;34m.\u001b[0m\u001b[0m_wait_for_tstate_lock\u001b[0m\u001b[0;34m(\u001b[0m\u001b[0;34m)\u001b[0m\u001b[0;34m\u001b[0m\u001b[0;34m\u001b[0m\u001b[0m\n\u001b[0m\u001b[1;32m   1057\u001b[0m         \u001b[0;32melse\u001b[0m\u001b[0;34m:\u001b[0m\u001b[0;34m\u001b[0m\u001b[0;34m\u001b[0m\u001b[0m\n\u001b[1;32m   1058\u001b[0m             \u001b[0;31m# the behavior of a negative timeout isn't documented, but\u001b[0m\u001b[0;34m\u001b[0m\u001b[0;34m\u001b[0m\u001b[0;34m\u001b[0m\u001b[0m\n",
            "\u001b[0;32m/usr/lib/python3.6/threading.py\u001b[0m in \u001b[0;36m_wait_for_tstate_lock\u001b[0;34m(self, block, timeout)\u001b[0m\n\u001b[1;32m   1070\u001b[0m         \u001b[0;32mif\u001b[0m \u001b[0mlock\u001b[0m \u001b[0;32mis\u001b[0m \u001b[0;32mNone\u001b[0m\u001b[0;34m:\u001b[0m  \u001b[0;31m# already determined that the C code is done\u001b[0m\u001b[0;34m\u001b[0m\u001b[0;34m\u001b[0m\u001b[0m\n\u001b[1;32m   1071\u001b[0m             \u001b[0;32massert\u001b[0m \u001b[0mself\u001b[0m\u001b[0;34m.\u001b[0m\u001b[0m_is_stopped\u001b[0m\u001b[0;34m\u001b[0m\u001b[0;34m\u001b[0m\u001b[0m\n\u001b[0;32m-> 1072\u001b[0;31m         \u001b[0;32melif\u001b[0m \u001b[0mlock\u001b[0m\u001b[0;34m.\u001b[0m\u001b[0macquire\u001b[0m\u001b[0;34m(\u001b[0m\u001b[0mblock\u001b[0m\u001b[0;34m,\u001b[0m \u001b[0mtimeout\u001b[0m\u001b[0;34m)\u001b[0m\u001b[0;34m:\u001b[0m\u001b[0;34m\u001b[0m\u001b[0;34m\u001b[0m\u001b[0m\n\u001b[0m\u001b[1;32m   1073\u001b[0m             \u001b[0mlock\u001b[0m\u001b[0;34m.\u001b[0m\u001b[0mrelease\u001b[0m\u001b[0;34m(\u001b[0m\u001b[0;34m)\u001b[0m\u001b[0;34m\u001b[0m\u001b[0;34m\u001b[0m\u001b[0m\n\u001b[1;32m   1074\u001b[0m             \u001b[0mself\u001b[0m\u001b[0;34m.\u001b[0m\u001b[0m_stop\u001b[0m\u001b[0;34m(\u001b[0m\u001b[0;34m)\u001b[0m\u001b[0;34m\u001b[0m\u001b[0;34m\u001b[0m\u001b[0m\n",
            "\u001b[0;31mKeyboardInterrupt\u001b[0m: "
          ]
        }
      ]
    },
    {
      "metadata": {
        "id": "YYTSc2aY0P4z",
        "colab_type": "code",
        "colab": {}
      },
      "cell_type": "code",
      "source": [
        ""
      ],
      "execution_count": 0,
      "outputs": []
    }
  ]
}